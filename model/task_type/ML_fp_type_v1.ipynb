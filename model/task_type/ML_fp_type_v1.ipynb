{
  "cells": [
    {
      "cell_type": "markdown",
      "metadata": {
        "id": "8LvVyS9smn25"
      },
      "source": [
        "# Load Data\n",
        "\n"
      ]
    },
    {
      "cell_type": "code",
      "execution_count": null,
      "metadata": {
        "colab": {
          "base_uri": "https://localhost:8080/"
        },
        "id": "q15K6rSTD0Tb",
        "outputId": "24d21e05-4f20-4f1d-f1f3-8342a1532a5e"
      },
      "outputs": [
        {
          "output_type": "stream",
          "name": "stdout",
          "text": [
            "Mounted at /content/drive\n"
          ]
        }
      ],
      "source": [
        "from google.colab import drive\n",
        "import pathlib\n",
        "drive.mount('/content/drive', force_remount=True)"
      ]
    },
    {
      "cell_type": "code",
      "execution_count": null,
      "metadata": {
        "colab": {
          "base_uri": "https://localhost:8080/"
        },
        "id": "CQLuW0FFEAtI",
        "outputId": "07265cf9-2dd1-4f68-9842-43647ff6b395"
      },
      "outputs": [
        {
          "output_type": "stream",
          "name": "stdout",
          "text": [
            "drive  sample_data\n"
          ]
        }
      ],
      "source": [
        "!ls"
      ]
    },
    {
      "cell_type": "code",
      "execution_count": null,
      "metadata": {
        "id": "IHAGUn0Ybrku"
      },
      "outputs": [],
      "source": [
        "drive = pathlib.Path('./drive/MyDrive') / 'ML_Project' / 'Artwork-Detection-and-Style-Transfer-main'"
      ]
    },
    {
      "cell_type": "code",
      "execution_count": null,
      "metadata": {
        "id": "4zgv9KViEC5S"
      },
      "outputs": [],
      "source": [
        "import os\n",
        "import torch\n",
        "from torch.utils.data import DataLoader\n",
        "from torchvision.utils import save_image\n",
        "import torch.nn as nn\n",
        "import cv2\n",
        "import random\n",
        "import torchvision.transforms as transforms\n",
        "from torch.utils import data\n",
        "from torch.nn import functional as F\n",
        "from torchvision import models\n",
        "import matplotlib.pyplot as plt\n",
        "import pandas as pd\n",
        "import torchvision\n",
        "import numpy as np\n",
        "import torch.optim as optim\n",
        "import torchvision.datasets as td\n",
        "from torchvision import transforms\n",
        "from PIL import Image\n",
        "from skimage.feature import hog as hog\n",
        "from sklearn.model_selection import cross_val_score\n",
        "from sklearn.neighbors import KNeighborsClassifier\n",
        "from sklearn.metrics import plot_confusion_matrix,f1_score,recall_score,precision_score,balanced_accuracy_score"
      ]
    },
    {
      "cell_type": "code",
      "execution_count": null,
      "metadata": {
        "id": "70XPG3oYEIQd"
      },
      "outputs": [],
      "source": [
        "##label for train,evaluate,test set###  int\n",
        "ground_truth=[0]*193+[1]*193+[2]*193+[3]*198+[4]*195\n",
        "evaluate_truth=[0]*3+[1]*3+[2]*3+[3]*3+[4]*3\n",
        "test_truth=[0]*15+[1]*14+[2]*14+[3]*15+[4]*14"
      ]
    },
    {
      "cell_type": "code",
      "execution_count": null,
      "metadata": {
        "colab": {
          "base_uri": "https://localhost:8080/"
        },
        "id": "aj185hid2ycX",
        "outputId": "d0b912b7-d7d1-4153-c945-25e5deef5698"
      },
      "outputs": [
        {
          "output_type": "execute_result",
          "data": {
            "text/plain": [
              "72"
            ]
          },
          "metadata": {},
          "execution_count": 7
        }
      ],
      "source": [
        "len(test_truth)"
      ]
    },
    {
      "cell_type": "code",
      "execution_count": null,
      "metadata": {
        "colab": {
          "base_uri": "https://localhost:8080/"
        },
        "id": "1ncPexM9FAdo",
        "outputId": "b47a6fad-f9d4-4e0d-f7dc-faedb8180306"
      },
      "outputs": [
        {
          "output_type": "stream",
          "name": "stdout",
          "text": [
            "10.0 %\n",
            "20.0 %\n",
            "30.0 %\n",
            "40.0 %\n",
            "50.0 %\n",
            "60.0 %\n",
            "70.0 %\n",
            "80.0 %\n",
            "90.0 %\n"
          ]
        }
      ],
      "source": [
        "###define a train loader###\n",
        "preprocess = transforms.Compose([\n",
        "    transforms.ToPILImage(),\n",
        "    transforms.Resize((256,256)),\n",
        "    transforms.CenterCrop(224),\n",
        "    transforms.ToTensor(),\n",
        "    transforms.Normalize(mean=[0.485, 0.456, 0.406], std=[0.229, 0.224, 0.225]),\n",
        "])\n",
        "\n",
        "class train_set(data.Dataset):\n",
        "  def __init__ (self,root_path= drive / 'dataset'):\n",
        "    self.image=[]\n",
        "    self.label=ground_truth\n",
        "\n",
        "    for i in range(1,973):\n",
        "      ###(H,W,C)###\n",
        "      img = cv2.imread(os.path.join(root_path, \"image_total\", \"%07d.jpg\" % i))\n",
        "      if(i/100 in [1,2,3,4,5,6,7,8,9]):\n",
        "        print(i/10,\"%\")\n",
        "      self.image.append(img)\n",
        "\n",
        "  def __len__(self):\n",
        "    return len(self.label)\n",
        "\n",
        "  def __getitem__(self, index):\n",
        "     image=self.image[index]\n",
        "     label=float(self.label[index])\n",
        "     #pil_image=Image.fromarray(image.astype(np.uint8))\n",
        "\n",
        "     output=preprocess(image)\n",
        "     return output,label\n",
        "\n",
        "#drive = pathlib.Path('./drive/MyDrive') / 'ML_Project' / 'Artwork-Detection-and-Style-Transfer-main'\n",
        "Train_set=train_set()"
      ]
    },
    {
      "cell_type": "code",
      "execution_count": null,
      "metadata": {
        "colab": {
          "base_uri": "https://localhost:8080/"
        },
        "id": "G6e2yvUp7Ow3",
        "outputId": "469bed5e-4cab-44bb-82dd-1f11b9d66062"
      },
      "outputs": [
        {
          "output_type": "execute_result",
          "data": {
            "text/plain": [
              "torch.Size([3, 224, 224])"
            ]
          },
          "metadata": {},
          "execution_count": 9
        }
      ],
      "source": [
        "len(Train_set)==len(Train_set.image)\n",
        "Train_set[1][0].shape"
      ]
    },
    {
      "cell_type": "code",
      "execution_count": null,
      "metadata": {
        "id": "g1IF87QlbmCn"
      },
      "outputs": [],
      "source": [
        "###define evaluate_loader###\n",
        "class evaluate_set():\n",
        "  def __init__ (self,root_path= drive / 'dataset'):\n",
        "    self.image=[]\n",
        "    self.label=evaluate_truth\n",
        "\n",
        "    for i in range(1,16):\n",
        "      ###(H,W,C)###\n",
        "      img = cv2.imread(os.path.join(root_path, \"evaluate_image\", \"%03d.jpg\" % i))\n",
        "      self.image.append(img)\n",
        "\n",
        "  def __len__(self):\n",
        "    return len(self.label)\n",
        "\n",
        "  def __getitem__(self, index):\n",
        "     image=self.image[index]\n",
        "     label=float(self.label[index])\n",
        "\n",
        "     output=preprocess(image)\n",
        "     return output,label\n",
        "\n",
        "evaluate_set = evaluate_set()"
      ]
    },
    {
      "cell_type": "code",
      "execution_count": null,
      "metadata": {
        "colab": {
          "base_uri": "https://localhost:8080/"
        },
        "id": "XsEQKl1cht_g",
        "outputId": "544919cf-eb2d-45d9-982e-421be38446f7"
      },
      "outputs": [
        {
          "output_type": "execute_result",
          "data": {
            "text/plain": [
              "True"
            ]
          },
          "metadata": {},
          "execution_count": 6
        }
      ],
      "source": [
        "len(evaluate_set)==len(evaluate_set.image)"
      ]
    },
    {
      "cell_type": "code",
      "execution_count": null,
      "metadata": {
        "id": "BUwz6OKsEEw6"
      },
      "outputs": [],
      "source": [
        "###define test loader###\n",
        "class test_set(data.Dataset):\n",
        "  def __init__ (self,root_path= drive / 'dataset'):\n",
        "    self.image=[]\n",
        "    self.label=test_truth\n",
        "\n",
        "    for i in range(72):\n",
        "      ###(H,W,C)###\n",
        "      img = cv2.imread(os.path.join(root_path, \"new_test\", \"%03d.jpg\" % i))\n",
        "      self.image.append(img)\n",
        "\n",
        "  def __len__(self):\n",
        "    return len(self.label)\n",
        "\n",
        "  def __getitem__(self, index):\n",
        "     image=self.image[index]\n",
        "     label=float(self.label[index])\n",
        "\n",
        "     output=preprocess(image)\n",
        "     return output,label\n",
        "  \n",
        "test_set=test_set()"
      ]
    },
    {
      "cell_type": "code",
      "execution_count": null,
      "metadata": {
        "colab": {
          "base_uri": "https://localhost:8080/"
        },
        "id": "2SFiz7x7FM-9",
        "outputId": "faae62a3-57da-44fe-ffa1-04a0657b3b24"
      },
      "outputs": [
        {
          "output_type": "execute_result",
          "data": {
            "text/plain": [
              "True"
            ]
          },
          "metadata": {},
          "execution_count": 13
        }
      ],
      "source": [
        "len(test_set)==len(test_set.image)"
      ]
    },
    {
      "cell_type": "code",
      "execution_count": null,
      "metadata": {
        "colab": {
          "base_uri": "https://localhost:8080/",
          "height": 577
        },
        "id": "ohk6hXLBOvkH",
        "outputId": "858a9251-e823-4057-aca9-1df7d17b889f"
      },
      "outputs": [
        {
          "output_type": "stream",
          "name": "stderr",
          "text": [
            "WARNING:matplotlib.image:Clipping input data to the valid range for imshow with RGB data ([0..1] for floats or [0..255] for integers).\n"
          ]
        },
        {
          "output_type": "stream",
          "name": "stdout",
          "text": [
            "torch.Size([3, 224, 224])\n"
          ]
        },
        {
          "output_type": "display_data",
          "data": {
            "text/plain": [
              "<Figure size 432x288 with 1 Axes>"
            ],
            "image/png": "[encoded data removed]"
          },
          "metadata": {
            "needs_background": "light"
          }
        },
        {
          "output_type": "display_data",
          "data": {
            "text/plain": [
              "<Figure size 432x288 with 1 Axes>"
            ],
            "image/png": "[encoded data removed]"
          },
          "metadata": {
            "needs_background": "light"
          }
        }
      ],
      "source": [
        "###example of preprocess image and original image###\n",
        "root_path= drive / 'dataset'\n",
        "image,label=Train_set[1]\n",
        "print(image.shape)\n",
        "a=image.squeeze(0).numpy().transpose((1,2,0))\n",
        "plt.imshow(a)\n",
        "plt.show()\n",
        "##(0-255) int###\n",
        "img = cv2.imread(os.path.join(root_path, \"image_total\", \"%07d.jpg\" % 2))\n",
        "plt.imshow(img)\n",
        "plt.show()\n",
        "#a"
      ]
    },
    {
      "cell_type": "code",
      "execution_count": null,
      "metadata": {
        "id": "fv03qd_rMgc5"
      },
      "outputs": [],
      "source": [
        "###create related DataLoader###\n",
        "train_loader=data.DataLoader(Train_set,batch_size=32,shuffle=True,drop_last=True,num_workers=2)\n",
        "eva_loader=data.DataLoader(evaluate_set,batch_size=1,num_workers=2)\n",
        "test_loader=data.DataLoader(test_set,batch_size=1,num_workers=2)"
      ]
    },
    {
      "cell_type": "markdown",
      "metadata": {
        "id": "fzgJTFJUnyMP"
      },
      "source": [
        "# Train Model"
      ]
    },
    {
      "cell_type": "code",
      "execution_count": null,
      "metadata": {
        "id": "m34LS_dLnuos"
      },
      "outputs": [],
      "source": [
        "###main train and evaluate function ###\n",
        "def train_main(model,loss_fn,optimizer,train_loader,device):\n",
        "  loss_epoch=[]\n",
        "  for batchind,data in enumerate(train_loader):\n",
        "    model.train()\n",
        "    ##(b,c,h,w)\n",
        "    images,label=data\n",
        "    images = torch.Tensor(images).to(device)\n",
        "    label = torch.Tensor(label).to(device)\n",
        "    #print(images.shape)\n",
        "    optimizer.zero_grad()\n",
        "    outputs=model(images)\n",
        "    ouputs=outputs.long()\n",
        "    label=label.long()\n",
        "\n",
        "    loss=loss_fn(outputs,label)\n",
        "    loss_epoch.append(loss.item())\n",
        "\n",
        "    loss.backward()\n",
        "    optimizer.step()\n",
        "  return loss_epoch\n",
        "\n",
        "def evaluate_whole(model,evaluate_loader,evaluate_truth,device):\n",
        "  predict_list=[]\n",
        "  norm=nn.Softmax(1)\n",
        "  model.eval()\n",
        "  with torch.no_grad():\n",
        "    for batchind,data in enumerate(evaluate_loader):\n",
        "      images,label=data\n",
        "      images = torch.Tensor(images).to(device)\n",
        "      label = torch.Tensor(label).to(device).float()\n",
        "      outputs=norm(model(images).detach().cpu()).numpy().ravel()\n",
        "      predict_list.append(np.argmax(outputs))\n",
        "  f1_c=f1_score(evaluate_truth,predict_list,average='micro')\n",
        "\n",
        "  return predict_list,f1_c"
      ]
    },
    {
      "cell_type": "markdown",
      "metadata": {
        "id": "bfRyqCpOn3nY"
      },
      "source": [
        "# VGG"
      ]
    },
    {
      "cell_type": "code",
      "execution_count": null,
      "metadata": {
        "colab": {
          "base_uri": "https://localhost:8080/",
          "height": 980,
          "referenced_widgets": [
            "3dd4c44d506c4b23a6c6baecf1d5a2cc",
            "bc7d2bb02cc346f3a4477535a404e612",
            "8a1f13ae9af74da3a00f1842462eb197",
            "7c951a5b509a4e1292947303505b35ac",
            "dfd992c138c747b38737f2723e0d1038",
            "d849936f6e97433ab170ed100cb5ca4e",
            "e76bce16800d41d0a17fff7cf4f1694f",
            "d252f8e7b5f8452eaf0adc320df01913",
            "8a798e02ebc942f48dcad4841c9b8bc4",
            "d34d96cdeb66455a86557b03f9658469",
            "87fe54fec4a14e148ae337dbee30f8ac"
          ]
        },
        "id": "7BiSPznuE28C",
        "outputId": "c1a4d56f-b913-4484-d13b-fefc90075ce7"
      },
      "outputs": [
        {
          "output_type": "stream",
          "name": "stderr",
          "text": [
            "Downloading: \"https://github.com/pytorch/vision/zipball/v0.8.2\" to /root/.cache/torch/hub/v0.8.2.zip\n",
            "/usr/local/lib/python3.8/dist-packages/torchvision/models/_utils.py:208: UserWarning: The parameter 'pretrained' is deprecated since 0.13 and may be removed in the future, please use 'weights' instead.\n",
            "  warnings.warn(\n",
            "/usr/local/lib/python3.8/dist-packages/torchvision/models/_utils.py:223: UserWarning: Arguments other than a weight enum or `None` for 'weights' are deprecated since 0.13 and may be removed in the future. The current behavior is equivalent to passing `weights=VGG16_Weights.IMAGENET1K_V1`. You can also use `weights=VGG16_Weights.DEFAULT` to get the most up-to-date weights.\n",
            "  warnings.warn(msg)\n",
            "Downloading: \"https://download.pytorch.org/models/vgg16-397923af.pth\" to /root/.cache/torch/hub/checkpoints/vgg16-397923af.pth\n"
          ]
        },
        {
          "output_type": "display_data",
          "data": {
            "text/plain": [
              "  0%|          | 0.00/528M [00:00<?, ?B/s]"
            ],
            "application/vnd.jupyter.widget-view+json": {
              "version_major": 2,
              "version_minor": 0,
              "model_id": "3dd4c44d506c4b23a6c6baecf1d5a2cc"
            }
          },
          "metadata": {}
        },
        {
          "output_type": "stream",
          "name": "stdout",
          "text": [
            "VGG(\n",
            "  (features): Sequential(\n",
            "    (0): Conv2d(3, 64, kernel_size=(3, 3), stride=(1, 1), padding=(1, 1))\n",
            "    (1): ReLU(inplace=True)\n",
            "    (2): Conv2d(64, 64, kernel_size=(3, 3), stride=(1, 1), padding=(1, 1))\n",
            "    (3): ReLU(inplace=True)\n",
            "    (4): MaxPool2d(kernel_size=2, stride=2, padding=0, dilation=1, ceil_mode=False)\n",
            "    (5): Conv2d(64, 128, kernel_size=(3, 3), stride=(1, 1), padding=(1, 1))\n",
            "    (6): ReLU(inplace=True)\n",
            "    (7): Conv2d(128, 128, kernel_size=(3, 3), stride=(1, 1), padding=(1, 1))\n",
            "    (8): ReLU(inplace=True)\n",
            "    (9): MaxPool2d(kernel_size=2, stride=2, padding=0, dilation=1, ceil_mode=False)\n",
            "    (10): Conv2d(128, 256, kernel_size=(3, 3), stride=(1, 1), padding=(1, 1))\n",
            "    (11): ReLU(inplace=True)\n",
            "    (12): Conv2d(256, 256, kernel_size=(3, 3), stride=(1, 1), padding=(1, 1))\n",
            "    (13): ReLU(inplace=True)\n",
            "    (14): Conv2d(256, 256, kernel_size=(3, 3), stride=(1, 1), padding=(1, 1))\n",
            "    (15): ReLU(inplace=True)\n",
            "    (16): MaxPool2d(kernel_size=2, stride=2, padding=0, dilation=1, ceil_mode=False)\n",
            "    (17): Conv2d(256, 512, kernel_size=(3, 3), stride=(1, 1), padding=(1, 1))\n",
            "    (18): ReLU(inplace=True)\n",
            "    (19): Conv2d(512, 512, kernel_size=(3, 3), stride=(1, 1), padding=(1, 1))\n",
            "    (20): ReLU(inplace=True)\n",
            "    (21): Conv2d(512, 512, kernel_size=(3, 3), stride=(1, 1), padding=(1, 1))\n",
            "    (22): ReLU(inplace=True)\n",
            "    (23): MaxPool2d(kernel_size=2, stride=2, padding=0, dilation=1, ceil_mode=False)\n",
            "    (24): Conv2d(512, 512, kernel_size=(3, 3), stride=(1, 1), padding=(1, 1))\n",
            "    (25): ReLU(inplace=True)\n",
            "    (26): Conv2d(512, 512, kernel_size=(3, 3), stride=(1, 1), padding=(1, 1))\n",
            "    (27): ReLU(inplace=True)\n",
            "    (28): Conv2d(512, 512, kernel_size=(3, 3), stride=(1, 1), padding=(1, 1))\n",
            "    (29): ReLU(inplace=True)\n",
            "    (30): MaxPool2d(kernel_size=2, stride=2, padding=0, dilation=1, ceil_mode=False)\n",
            "  )\n",
            "  (avgpool): AdaptiveAvgPool2d(output_size=(7, 7))\n",
            "  (classifier): Sequential(\n",
            "    (0): Linear(in_features=25088, out_features=4096, bias=True)\n",
            "    (1): ReLU(inplace=True)\n",
            "    (2): Dropout(p=0.5, inplace=False)\n",
            "    (3): Linear(in_features=4096, out_features=4096, bias=True)\n",
            "    (4): ReLU(inplace=True)\n",
            "    (5): Dropout(p=0.5, inplace=False)\n",
            "    (6): Linear(in_features=4096, out_features=5, bias=True)\n",
            "  )\n",
            ")\n"
          ]
        }
      ],
      "source": [
        "##load pretrained VGG network ###\n",
        "VGG=torch.hub.load('pytorch/vision:v0.8.2', 'vgg16', pretrained=True)\n",
        "#VGG_new=nn.Sequential(*list(VGG.classifier.children())[:-1])\n",
        "#VGG.classifier=VGG_new\n",
        "#print(VGG)\n",
        "VGG_new=nn.Sequential(\n",
        "    *list(VGG.classifier.children())[:-1],\n",
        "    nn.Linear(4096,5)\n",
        ")\n",
        "VGG.classifier=VGG_new\n",
        "print(VGG)"
      ]
    },
    {
      "cell_type": "code",
      "execution_count": null,
      "metadata": {
        "colab": {
          "base_uri": "https://localhost:8080/"
        },
        "id": "nj9knn93E76m",
        "outputId": "de737ccb-8c7f-4bb1-eda2-edda31bf1a0c"
      },
      "outputs": [
        {
          "output_type": "stream",
          "name": "stdout",
          "text": [
            "classifier.0.weight\n",
            "classifier.0.bias\n",
            "classifier.3.weight\n",
            "classifier.3.bias\n",
            "classifier.6.weight\n",
            "classifier.6.bias\n"
          ]
        }
      ],
      "source": [
        "###make a test###\n",
        "for p in VGG.features.children():\n",
        "  for params in p.parameters():\n",
        "    params.requires_grad=False\n",
        "\n",
        "for name, params in VGG.named_parameters():\n",
        "  if params.requires_grad:\n",
        "    print(name)"
      ]
    },
    {
      "cell_type": "code",
      "execution_count": null,
      "metadata": {
        "id": "gveJQqtdM2Z1"
      },
      "outputs": [],
      "source": [
        "num_epoch=3\n",
        "device = torch.device(\"cuda:0\" if torch.cuda.is_available() else \"cpu\")\n",
        "model=VGG.to(device)\n",
        "loss_fn=nn.CrossEntropyLoss()\n",
        "optimizer=optim.Adam(filter(lambda p:p.requires_grad,model.parameters()),lr=1e-4)"
      ]
    },
    {
      "cell_type": "code",
      "execution_count": null,
      "metadata": {
        "colab": {
          "base_uri": "https://localhost:8080/"
        },
        "id": "ISsAwZzN5eoh",
        "outputId": "a3cf5650-912f-4be0-a7ce-970e71073812"
      },
      "outputs": [
        {
          "output_type": "stream",
          "name": "stdout",
          "text": [
            "epoch1 has been trained\n",
            "epoch2 has been trained\n",
            "epoch3 has been trained\n"
          ]
        }
      ],
      "source": [
        "### main train function###\n",
        "train_loss=[]\n",
        "evaluate_score=[]\n",
        "for i in range(num_epoch):\n",
        "  loss=train_main(model,loss_fn,optimizer,train_loader,device)\n",
        "  train_loss.append(np.mean(loss))\n",
        "  predict_r,f1_r=evaluate_whole(model,eva_loader,evaluate_truth,device)\n",
        "  evaluate_score.append(f1_r)\n",
        "  print(f'epoch{i+1} has been trained')"
      ]
    },
    {
      "cell_type": "code",
      "execution_count": null,
      "metadata": {
        "colab": {
          "base_uri": "https://localhost:8080/",
          "height": 279
        },
        "id": "cyosEb3i6e6A",
        "outputId": "328b6de2-6e2f-41a3-f22d-f84a6d5693b1"
      },
      "outputs": [
        {
          "output_type": "display_data",
          "data": {
            "text/plain": [
              "<Figure size 432x288 with 1 Axes>"
            ],
            "image/png": "[encoded data removed]"
          },
          "metadata": {
            "needs_background": "light"
          }
        }
      ],
      "source": [
        "### print train result and evaluation result###\n",
        "plt.plot(train_loss,'o-r',label='train_loss')\n",
        "plt.plot(evaluate_score,'o-b',label='evaulate_f1 score')\n",
        "plt.xlabel('num of epoch')\n",
        "plt.ylabel('related value')\n",
        "plt.grid()\n",
        "plt.legend()\n",
        "plt.show()"
      ]
    },
    {
      "cell_type": "code",
      "execution_count": null,
      "metadata": {
        "id": "T1IBC_ZQd5k2"
      },
      "outputs": [],
      "source": [
        "## the main test part ##\n",
        "import seaborn as sns\n",
        "from sklearn.metrics import confusion_matrix,f1_score,recall_score,precision_score,balanced_accuracy_score\n",
        "def test_whole(model,test_loader,truth_label):\n",
        "  predict_list=[]\n",
        "  norm=nn.Softmax(1)\n",
        "  model.eval()\n",
        "  with torch.no_grad():\n",
        "    for batchind,data in enumerate(test_loader):\n",
        "      images,label=data\n",
        "      images = torch.Tensor(images).to(device)\n",
        "      label = torch.Tensor(label).to(device).float()\n",
        "      outputs=norm(model(images).detach().cpu()).numpy().ravel()\n",
        "      predict_list.append(np.argmax(outputs))\n",
        "  f1_c=f1_score(truth_label,predict_list,average='micro')\n",
        "  recall = recall_score(truth_label,predict_list,average='micro')\n",
        "  prec = precision_score(truth_label,predict_list,average='micro')\n",
        "  mac = balanced_accuracy_score(truth_label,predict_list)\n",
        "  con_mat=confusion_matrix(truth_label,predict_list)\n",
        "\n",
        "  return predict_list,f1_c,recall,prec,mac,con_mat\n",
        "\n",
        "truth=test_set.label\n",
        "predict_label,f1,recall,prec,mac,mat=test_whole(model,test_loader,truth)"
      ]
    },
    {
      "cell_type": "code",
      "execution_count": null,
      "metadata": {
        "colab": {
          "base_uri": "https://localhost:8080/",
          "height": 366
        },
        "id": "c9gwAxwfH2Ie",
        "outputId": "6741aa95-cc34-46bf-fcdc-fcc66094db67"
      },
      "outputs": [
        {
          "output_type": "stream",
          "name": "stdout",
          "text": [
            "the micro f1 score on test set is 0.7361111111111113\n",
            "the micro recall score on test set is 0.7361111111111112\n",
            "the micro precision score on test set is 0.7361111111111112\n",
            "the micro mean average precision score on test set is 0.7361904761904763\n"
          ]
        },
        {
          "output_type": "display_data",
          "data": {
            "text/plain": [
              "<Figure size 432x288 with 2 Axes>"
            ],
            "image/png": "[encoded data removed]"
          },
          "metadata": {
            "needs_background": "light"
          }
        }
      ],
      "source": [
        "print(f'the micro f1 score on test set is {f1}')\n",
        "print(f'the micro recall score on test set is {recall}')\n",
        "print(f'the micro precision score on test set is {prec}')\n",
        "print(f'the micro mean average precision score on test set is {mac}')\n",
        "label_name=['pottery','print','painting','photo','sculpture']\n",
        "sns.heatmap(mat.T,square=True,annot=True,fmt='d',cbar=True,xticklabels=label_name,yticklabels=label_name)\n",
        "#plt.colorbar()\n",
        "plt.ylabel('predicted label')\n",
        "plt.xlabel('truth label')\n",
        "plt.title('Confusion matrix for VGG16')\n",
        "plt.show()\n"
      ]
    },
    {
      "cell_type": "code",
      "execution_count": null,
      "metadata": {
        "id": "-c2v9YqdRoUW"
      },
      "outputs": [],
      "source": [
        "###save model's paramenters###\n",
        "root_path = drive / \"models\" / \"VGG\"\n",
        "path=os.path.join(root_path / 'model_paramenter_VGG_v1.txt')\n",
        "torch.save(model.state_dict(),path)\n",
        "\n",
        "path2=os.path.join(root_path / 'optimizer_paramenter_VGG_v1.txt')\n",
        "torch.save(optimizer.state_dict(),path2)"
      ]
    },
    {
      "cell_type": "markdown",
      "metadata": {
        "id": "qbsBDPYkmdDh"
      },
      "source": [
        "# ResNet50"
      ]
    },
    {
      "cell_type": "code",
      "execution_count": null,
      "metadata": {
        "id": "Fh2JvgNJoApV",
        "colab": {
          "base_uri": "https://localhost:8080/",
          "height": 1000,
          "referenced_widgets": [
            "45ccfba9305a41c5a0573aa6c2771f86",
            "e9a8d59a141649c8a20183230239111a",
            "c13ea35d20e44f149c4371cc07ffc373",
            "2ac2e89f2b4143f88bc3f1d06d782e6a",
            "ea3dc25ade8b477493aa9ba832317a5c",
            "bbe9561d21b041f3963254f0855825a8",
            "39aea0649e7c4daab6e79333258989c9",
            "1a79f1a63aa04cd7b51f914bd8db8053",
            "81c0be338b8d492cbd2d3c6be2eec30e",
            "a4ab5012374b4a35a0caedb1a271fb94",
            "a87bb0ce773c4e7ebc4603e879e184a5"
          ]
        },
        "outputId": "e9ae5493-a3d0-4fa6-cf42-c77ea327fc29"
      },
      "outputs": [
        {
          "output_type": "stream",
          "name": "stderr",
          "text": [
            "/usr/local/lib/python3.8/dist-packages/torch/hub.py:267: UserWarning: You are about to download and run code from an untrusted repository. In a future release, this won't be allowed. To add the repository to your trusted list, change the command to {calling_fn}(..., trust_repo=False) and a command prompt will appear asking for an explicit confirmation of trust, or load(..., trust_repo=True), which will assume that the prompt is to be answered with 'yes'. You can also use load(..., trust_repo='check') which will only prompt for confirmation if the repo is not already trusted. This will eventually be the default behaviour\n",
            "  warnings.warn(\n",
            "Downloading: \"https://github.com/NVIDIA/DeepLearningExamples/zipball/torchhub\" to /root/.cache/torch/hub/torchhub.zip\n",
            "/root/.cache/torch/hub/NVIDIA_DeepLearningExamples_torchhub/PyTorch/Classification/ConvNets/image_classification/models/common.py:13: UserWarning: pytorch_quantization module not found, quantization will not be available\n",
            "  warnings.warn(\n",
            "/root/.cache/torch/hub/NVIDIA_DeepLearningExamples_torchhub/PyTorch/Classification/ConvNets/image_classification/models/efficientnet.py:17: UserWarning: pytorch_quantization module not found, quantization will not be available\n",
            "  warnings.warn(\n",
            "Downloading: \"https://api.ngc.nvidia.com/v2/models/nvidia/resnet50_pyt_amp/versions/20.06.0/files/nvidia_resnet50_200821.pth.tar\" to /root/.cache/torch/hub/checkpoints/nvidia_resnet50_200821.pth.tar\n"
          ]
        },
        {
          "output_type": "display_data",
          "data": {
            "text/plain": [
              "  0%|          | 0.00/97.7M [00:00<?, ?B/s]"
            ],
            "application/vnd.jupyter.widget-view+json": {
              "version_major": 2,
              "version_minor": 0,
              "model_id": "45ccfba9305a41c5a0573aa6c2771f86"
            }
          },
          "metadata": {}
        },
        {
          "output_type": "stream",
          "name": "stdout",
          "text": [
            "Sequential(\n",
            "  (0): ResNet(\n",
            "    (conv1): Conv2d(3, 64, kernel_size=(7, 7), stride=(2, 2), padding=(3, 3), bias=False)\n",
            "    (bn1): BatchNorm2d(64, eps=1e-05, momentum=0.1, affine=True, track_running_stats=True)\n",
            "    (relu): ReLU(inplace=True)\n",
            "    (maxpool): MaxPool2d(kernel_size=3, stride=2, padding=1, dilation=1, ceil_mode=False)\n",
            "    (layers): Sequential(\n",
            "      (0): Sequential(\n",
            "        (0): Bottleneck(\n",
            "          (conv1): Conv2d(64, 64, kernel_size=(1, 1), stride=(1, 1), bias=False)\n",
            "          (bn1): BatchNorm2d(64, eps=1e-05, momentum=0.1, affine=True, track_running_stats=True)\n",
            "          (conv2): Conv2d(64, 64, kernel_size=(3, 3), stride=(1, 1), padding=(1, 1), bias=False)\n",
            "          (bn2): BatchNorm2d(64, eps=1e-05, momentum=0.1, affine=True, track_running_stats=True)\n",
            "          (conv3): Conv2d(64, 256, kernel_size=(1, 1), stride=(1, 1), bias=False)\n",
            "          (bn3): BatchNorm2d(256, eps=1e-05, momentum=0.1, affine=True, track_running_stats=True)\n",
            "          (relu): ReLU(inplace=True)\n",
            "          (downsample): Sequential(\n",
            "            (0): Conv2d(64, 256, kernel_size=(1, 1), stride=(1, 1), bias=False)\n",
            "            (1): BatchNorm2d(256, eps=1e-05, momentum=0.1, affine=True, track_running_stats=True)\n",
            "          )\n",
            "        )\n",
            "        (1): Bottleneck(\n",
            "          (conv1): Conv2d(256, 64, kernel_size=(1, 1), stride=(1, 1), bias=False)\n",
            "          (bn1): BatchNorm2d(64, eps=1e-05, momentum=0.1, affine=True, track_running_stats=True)\n",
            "          (conv2): Conv2d(64, 64, kernel_size=(3, 3), stride=(1, 1), padding=(1, 1), bias=False)\n",
            "          (bn2): BatchNorm2d(64, eps=1e-05, momentum=0.1, affine=True, track_running_stats=True)\n",
            "          (conv3): Conv2d(64, 256, kernel_size=(1, 1), stride=(1, 1), bias=False)\n",
            "          (bn3): BatchNorm2d(256, eps=1e-05, momentum=0.1, affine=True, track_running_stats=True)\n",
            "          (relu): ReLU(inplace=True)\n",
            "        )\n",
            "        (2): Bottleneck(\n",
            "          (conv1): Conv2d(256, 64, kernel_size=(1, 1), stride=(1, 1), bias=False)\n",
            "          (bn1): BatchNorm2d(64, eps=1e-05, momentum=0.1, affine=True, track_running_stats=True)\n",
            "          (conv2): Conv2d(64, 64, kernel_size=(3, 3), stride=(1, 1), padding=(1, 1), bias=False)\n",
            "          (bn2): BatchNorm2d(64, eps=1e-05, momentum=0.1, affine=True, track_running_stats=True)\n",
            "          (conv3): Conv2d(64, 256, kernel_size=(1, 1), stride=(1, 1), bias=False)\n",
            "          (bn3): BatchNorm2d(256, eps=1e-05, momentum=0.1, affine=True, track_running_stats=True)\n",
            "          (relu): ReLU(inplace=True)\n",
            "        )\n",
            "      )\n",
            "      (1): Sequential(\n",
            "        (0): Bottleneck(\n",
            "          (conv1): Conv2d(256, 128, kernel_size=(1, 1), stride=(1, 1), bias=False)\n",
            "          (bn1): BatchNorm2d(128, eps=1e-05, momentum=0.1, affine=True, track_running_stats=True)\n",
            "          (conv2): Conv2d(128, 128, kernel_size=(3, 3), stride=(2, 2), padding=(1, 1), bias=False)\n",
            "          (bn2): BatchNorm2d(128, eps=1e-05, momentum=0.1, affine=True, track_running_stats=True)\n",
            "          (conv3): Conv2d(128, 512, kernel_size=(1, 1), stride=(1, 1), bias=False)\n",
            "          (bn3): BatchNorm2d(512, eps=1e-05, momentum=0.1, affine=True, track_running_stats=True)\n",
            "          (relu): ReLU(inplace=True)\n",
            "          (downsample): Sequential(\n",
            "            (0): Conv2d(256, 512, kernel_size=(1, 1), stride=(2, 2), bias=False)\n",
            "            (1): BatchNorm2d(512, eps=1e-05, momentum=0.1, affine=True, track_running_stats=True)\n",
            "          )\n",
            "        )\n",
            "        (1): Bottleneck(\n",
            "          (conv1): Conv2d(512, 128, kernel_size=(1, 1), stride=(1, 1), bias=False)\n",
            "          (bn1): BatchNorm2d(128, eps=1e-05, momentum=0.1, affine=True, track_running_stats=True)\n",
            "          (conv2): Conv2d(128, 128, kernel_size=(3, 3), stride=(1, 1), padding=(1, 1), bias=False)\n",
            "          (bn2): BatchNorm2d(128, eps=1e-05, momentum=0.1, affine=True, track_running_stats=True)\n",
            "          (conv3): Conv2d(128, 512, kernel_size=(1, 1), stride=(1, 1), bias=False)\n",
            "          (bn3): BatchNorm2d(512, eps=1e-05, momentum=0.1, affine=True, track_running_stats=True)\n",
            "          (relu): ReLU(inplace=True)\n",
            "        )\n",
            "        (2): Bottleneck(\n",
            "          (conv1): Conv2d(512, 128, kernel_size=(1, 1), stride=(1, 1), bias=False)\n",
            "          (bn1): BatchNorm2d(128, eps=1e-05, momentum=0.1, affine=True, track_running_stats=True)\n",
            "          (conv2): Conv2d(128, 128, kernel_size=(3, 3), stride=(1, 1), padding=(1, 1), bias=False)\n",
            "          (bn2): BatchNorm2d(128, eps=1e-05, momentum=0.1, affine=True, track_running_stats=True)\n",
            "          (conv3): Conv2d(128, 512, kernel_size=(1, 1), stride=(1, 1), bias=False)\n",
            "          (bn3): BatchNorm2d(512, eps=1e-05, momentum=0.1, affine=True, track_running_stats=True)\n",
            "          (relu): ReLU(inplace=True)\n",
            "        )\n",
            "        (3): Bottleneck(\n",
            "          (conv1): Conv2d(512, 128, kernel_size=(1, 1), stride=(1, 1), bias=False)\n",
            "          (bn1): BatchNorm2d(128, eps=1e-05, momentum=0.1, affine=True, track_running_stats=True)\n",
            "          (conv2): Conv2d(128, 128, kernel_size=(3, 3), stride=(1, 1), padding=(1, 1), bias=False)\n",
            "          (bn2): BatchNorm2d(128, eps=1e-05, momentum=0.1, affine=True, track_running_stats=True)\n",
            "          (conv3): Conv2d(128, 512, kernel_size=(1, 1), stride=(1, 1), bias=False)\n",
            "          (bn3): BatchNorm2d(512, eps=1e-05, momentum=0.1, affine=True, track_running_stats=True)\n",
            "          (relu): ReLU(inplace=True)\n",
            "        )\n",
            "      )\n",
            "      (2): Sequential(\n",
            "        (0): Bottleneck(\n",
            "          (conv1): Conv2d(512, 256, kernel_size=(1, 1), stride=(1, 1), bias=False)\n",
            "          (bn1): BatchNorm2d(256, eps=1e-05, momentum=0.1, affine=True, track_running_stats=True)\n",
            "          (conv2): Conv2d(256, 256, kernel_size=(3, 3), stride=(2, 2), padding=(1, 1), bias=False)\n",
            "          (bn2): BatchNorm2d(256, eps=1e-05, momentum=0.1, affine=True, track_running_stats=True)\n",
            "          (conv3): Conv2d(256, 1024, kernel_size=(1, 1), stride=(1, 1), bias=False)\n",
            "          (bn3): BatchNorm2d(1024, eps=1e-05, momentum=0.1, affine=True, track_running_stats=True)\n",
            "          (relu): ReLU(inplace=True)\n",
            "          (downsample): Sequential(\n",
            "            (0): Conv2d(512, 1024, kernel_size=(1, 1), stride=(2, 2), bias=False)\n",
            "            (1): BatchNorm2d(1024, eps=1e-05, momentum=0.1, affine=True, track_running_stats=True)\n",
            "          )\n",
            "        )\n",
            "        (1): Bottleneck(\n",
            "          (conv1): Conv2d(1024, 256, kernel_size=(1, 1), stride=(1, 1), bias=False)\n",
            "          (bn1): BatchNorm2d(256, eps=1e-05, momentum=0.1, affine=True, track_running_stats=True)\n",
            "          (conv2): Conv2d(256, 256, kernel_size=(3, 3), stride=(1, 1), padding=(1, 1), bias=False)\n",
            "          (bn2): BatchNorm2d(256, eps=1e-05, momentum=0.1, affine=True, track_running_stats=True)\n",
            "          (conv3): Conv2d(256, 1024, kernel_size=(1, 1), stride=(1, 1), bias=False)\n",
            "          (bn3): BatchNorm2d(1024, eps=1e-05, momentum=0.1, affine=True, track_running_stats=True)\n",
            "          (relu): ReLU(inplace=True)\n",
            "        )\n",
            "        (2): Bottleneck(\n",
            "          (conv1): Conv2d(1024, 256, kernel_size=(1, 1), stride=(1, 1), bias=False)\n",
            "          (bn1): BatchNorm2d(256, eps=1e-05, momentum=0.1, affine=True, track_running_stats=True)\n",
            "          (conv2): Conv2d(256, 256, kernel_size=(3, 3), stride=(1, 1), padding=(1, 1), bias=False)\n",
            "          (bn2): BatchNorm2d(256, eps=1e-05, momentum=0.1, affine=True, track_running_stats=True)\n",
            "          (conv3): Conv2d(256, 1024, kernel_size=(1, 1), stride=(1, 1), bias=False)\n",
            "          (bn3): BatchNorm2d(1024, eps=1e-05, momentum=0.1, affine=True, track_running_stats=True)\n",
            "          (relu): ReLU(inplace=True)\n",
            "        )\n",
            "        (3): Bottleneck(\n",
            "          (conv1): Conv2d(1024, 256, kernel_size=(1, 1), stride=(1, 1), bias=False)\n",
            "          (bn1): BatchNorm2d(256, eps=1e-05, momentum=0.1, affine=True, track_running_stats=True)\n",
            "          (conv2): Conv2d(256, 256, kernel_size=(3, 3), stride=(1, 1), padding=(1, 1), bias=False)\n",
            "          (bn2): BatchNorm2d(256, eps=1e-05, momentum=0.1, affine=True, track_running_stats=True)\n",
            "          (conv3): Conv2d(256, 1024, kernel_size=(1, 1), stride=(1, 1), bias=False)\n",
            "          (bn3): BatchNorm2d(1024, eps=1e-05, momentum=0.1, affine=True, track_running_stats=True)\n",
            "          (relu): ReLU(inplace=True)\n",
            "        )\n",
            "        (4): Bottleneck(\n",
            "          (conv1): Conv2d(1024, 256, kernel_size=(1, 1), stride=(1, 1), bias=False)\n",
            "          (bn1): BatchNorm2d(256, eps=1e-05, momentum=0.1, affine=True, track_running_stats=True)\n",
            "          (conv2): Conv2d(256, 256, kernel_size=(3, 3), stride=(1, 1), padding=(1, 1), bias=False)\n",
            "          (bn2): BatchNorm2d(256, eps=1e-05, momentum=0.1, affine=True, track_running_stats=True)\n",
            "          (conv3): Conv2d(256, 1024, kernel_size=(1, 1), stride=(1, 1), bias=False)\n",
            "          (bn3): BatchNorm2d(1024, eps=1e-05, momentum=0.1, affine=True, track_running_stats=True)\n",
            "          (relu): ReLU(inplace=True)\n",
            "        )\n",
            "        (5): Bottleneck(\n",
            "          (conv1): Conv2d(1024, 256, kernel_size=(1, 1), stride=(1, 1), bias=False)\n",
            "          (bn1): BatchNorm2d(256, eps=1e-05, momentum=0.1, affine=True, track_running_stats=True)\n",
            "          (conv2): Conv2d(256, 256, kernel_size=(3, 3), stride=(1, 1), padding=(1, 1), bias=False)\n",
            "          (bn2): BatchNorm2d(256, eps=1e-05, momentum=0.1, affine=True, track_running_stats=True)\n",
            "          (conv3): Conv2d(256, 1024, kernel_size=(1, 1), stride=(1, 1), bias=False)\n",
            "          (bn3): BatchNorm2d(1024, eps=1e-05, momentum=0.1, affine=True, track_running_stats=True)\n",
            "          (relu): ReLU(inplace=True)\n",
            "        )\n",
            "      )\n",
            "      (3): Sequential(\n",
            "        (0): Bottleneck(\n",
            "          (conv1): Conv2d(1024, 512, kernel_size=(1, 1), stride=(1, 1), bias=False)\n",
            "          (bn1): BatchNorm2d(512, eps=1e-05, momentum=0.1, affine=True, track_running_stats=True)\n",
            "          (conv2): Conv2d(512, 512, kernel_size=(3, 3), stride=(2, 2), padding=(1, 1), bias=False)\n",
            "          (bn2): BatchNorm2d(512, eps=1e-05, momentum=0.1, affine=True, track_running_stats=True)\n",
            "          (conv3): Conv2d(512, 2048, kernel_size=(1, 1), stride=(1, 1), bias=False)\n",
            "          (bn3): BatchNorm2d(2048, eps=1e-05, momentum=0.1, affine=True, track_running_stats=True)\n",
            "          (relu): ReLU(inplace=True)\n",
            "          (downsample): Sequential(\n",
            "            (0): Conv2d(1024, 2048, kernel_size=(1, 1), stride=(2, 2), bias=False)\n",
            "            (1): BatchNorm2d(2048, eps=1e-05, momentum=0.1, affine=True, track_running_stats=True)\n",
            "          )\n",
            "        )\n",
            "        (1): Bottleneck(\n",
            "          (conv1): Conv2d(2048, 512, kernel_size=(1, 1), stride=(1, 1), bias=False)\n",
            "          (bn1): BatchNorm2d(512, eps=1e-05, momentum=0.1, affine=True, track_running_stats=True)\n",
            "          (conv2): Conv2d(512, 512, kernel_size=(3, 3), stride=(1, 1), padding=(1, 1), bias=False)\n",
            "          (bn2): BatchNorm2d(512, eps=1e-05, momentum=0.1, affine=True, track_running_stats=True)\n",
            "          (conv3): Conv2d(512, 2048, kernel_size=(1, 1), stride=(1, 1), bias=False)\n",
            "          (bn3): BatchNorm2d(2048, eps=1e-05, momentum=0.1, affine=True, track_running_stats=True)\n",
            "          (relu): ReLU(inplace=True)\n",
            "        )\n",
            "        (2): Bottleneck(\n",
            "          (conv1): Conv2d(2048, 512, kernel_size=(1, 1), stride=(1, 1), bias=False)\n",
            "          (bn1): BatchNorm2d(512, eps=1e-05, momentum=0.1, affine=True, track_running_stats=True)\n",
            "          (conv2): Conv2d(512, 512, kernel_size=(3, 3), stride=(1, 1), padding=(1, 1), bias=False)\n",
            "          (bn2): BatchNorm2d(512, eps=1e-05, momentum=0.1, affine=True, track_running_stats=True)\n",
            "          (conv3): Conv2d(512, 2048, kernel_size=(1, 1), stride=(1, 1), bias=False)\n",
            "          (bn3): BatchNorm2d(2048, eps=1e-05, momentum=0.1, affine=True, track_running_stats=True)\n",
            "          (relu): ReLU(inplace=True)\n",
            "        )\n",
            "      )\n",
            "    )\n",
            "    (avgpool): AdaptiveAvgPool2d(output_size=1)\n",
            "    (fc): Linear(in_features=2048, out_features=1000, bias=True)\n",
            "  )\n",
            "  (1): Linear(in_features=1000, out_features=5, bias=True)\n",
            ")\n"
          ]
        }
      ],
      "source": [
        "##load pretrained resnet50 network ###\n",
        "resnet50 = torch.hub.load('NVIDIA/DeepLearningExamples:torchhub', 'nvidia_resnet50', pretrained=True)\n",
        "resnet50=nn.Sequential(\n",
        "    resnet50,\n",
        "    nn.Linear(1000,5)\n",
        ")\n",
        "print(resnet50)"
      ]
    },
    {
      "cell_type": "code",
      "execution_count": null,
      "metadata": {
        "id": "zOY2JJuHueVV"
      },
      "outputs": [],
      "source": [
        "num_epoch=3\n",
        "device = torch.device(\"cuda:0\" if torch.cuda.is_available() else \"cpu\")\n",
        "model=resnet50.to(device)\n",
        "loss_fn=nn.CrossEntropyLoss()\n",
        "optimizer=optim.Adam(filter(lambda p:p.requires_grad,model.parameters()),lr=1e-4)"
      ]
    },
    {
      "cell_type": "code",
      "execution_count": null,
      "metadata": {
        "id": "q3MaI6ioyJGs",
        "colab": {
          "base_uri": "https://localhost:8080/"
        },
        "outputId": "3af7ad30-4e75-496e-cae3-5f53244fedda"
      },
      "outputs": [
        {
          "output_type": "stream",
          "name": "stdout",
          "text": [
            "epoch1 has been trained\n",
            "epoch2 has been trained\n",
            "epoch3 has been trained\n"
          ]
        }
      ],
      "source": [
        "train_loss=[]\n",
        "evaluate_score=[]\n",
        "for i in range(num_epoch):\n",
        "  loss=train_main(model,loss_fn,optimizer,train_loader,device)\n",
        "  train_loss.append(np.mean(loss))\n",
        "  predict_r,f1_r=evaluate_whole(model,eva_loader,evaluate_truth,device)\n",
        "  evaluate_score.append(f1_r)\n",
        "  print(f'epoch{i+1} has been trained')"
      ]
    },
    {
      "cell_type": "code",
      "execution_count": null,
      "metadata": {
        "id": "4f9bl0KXyPJY",
        "colab": {
          "base_uri": "https://localhost:8080/",
          "height": 279
        },
        "outputId": "e66212a2-52a7-4142-cae9-a75131c88083"
      },
      "outputs": [
        {
          "output_type": "display_data",
          "data": {
            "text/plain": [
              "<Figure size 432x288 with 1 Axes>"
            ],
            "image/png": "[encoded data removed]"
          },
          "metadata": {
            "needs_background": "light"
          }
        }
      ],
      "source": [
        "### print train result and evaluation result###\n",
        "plt.plot(train_loss,'o-r',label='train_loss')\n",
        "plt.plot(evaluate_score,'o-b',label='evaulate_f1 score')\n",
        "plt.xlabel('num of epoch')\n",
        "plt.ylabel('related value')\n",
        "plt.grid()\n",
        "plt.legend()\n",
        "plt.show()"
      ]
    },
    {
      "cell_type": "code",
      "execution_count": null,
      "metadata": {
        "id": "1Hg57vv3yS-9"
      },
      "outputs": [],
      "source": [
        "## the main test part ##\n",
        "import seaborn as sns\n",
        "from sklearn.metrics import confusion_matrix,f1_score\n",
        "def test_whole(model,test_loader,truth_label):\n",
        "  predict_list=[]\n",
        "  norm=nn.Softmax(1)\n",
        "  model.eval()\n",
        "  with torch.no_grad():\n",
        "    for batchind,data in enumerate(test_loader):\n",
        "      images,label=data\n",
        "      ##change to (1,c,h,w)\n",
        "      images = torch.Tensor(images).to(device)\n",
        "      label = torch.Tensor(label).to(device).float()\n",
        "      outputs=norm(model(images).detach().cpu()).numpy().ravel()\n",
        "      predict_list.append(np.argmax(outputs))\n",
        "  f1_c=f1_score(truth_label,predict_list,average='micro')\n",
        "  recall = recall_score(truth_label,predict_list,average='micro')\n",
        "  prec = precision_score(truth_label,predict_list,average='micro')\n",
        "  mac = balanced_accuracy_score(truth_label,predict_list)\n",
        "  con_mat=confusion_matrix(truth_label,predict_list)\n",
        "  con_mat=confusion_matrix(truth_label,predict_list)\n",
        "\n",
        "  return predict_list,f1_c,recall,prec,mac,con_mat\n",
        "\n",
        "truth=test_set.label\n",
        "predict_label,f1,recall,prec,mac,mat=test_whole(model,test_loader,truth)\n",
        "      "
      ]
    },
    {
      "cell_type": "code",
      "execution_count": null,
      "metadata": {
        "colab": {
          "base_uri": "https://localhost:8080/",
          "height": 366
        },
        "id": "kpPScBoOyclT",
        "outputId": "f6e722cf-8bf9-4f91-9e6d-6a9125dab3f5"
      },
      "outputs": [
        {
          "output_type": "stream",
          "name": "stdout",
          "text": [
            "the micro f1 score on test set is 0.8472222222222222\n",
            "the micro recall score on test set is 0.8472222222222222\n",
            "the micro precision score on test set is 0.8472222222222222\n",
            "the micro mean average precision score on test set is 0.8466666666666667\n"
          ]
        },
        {
          "output_type": "display_data",
          "data": {
            "text/plain": [
              "<Figure size 432x288 with 2 Axes>"
            ],
            "image/png": "[encoded data removed]"
          },
          "metadata": {
            "needs_background": "light"
          }
        }
      ],
      "source": [
        "print(f'the micro f1 score on test set is {f1}')\n",
        "print(f'the micro recall score on test set is {recall}')\n",
        "print(f'the micro precision score on test set is {prec}')\n",
        "print(f'the micro mean average precision score on test set is {mac}')\n",
        "label_name=['pottery','print','painting','photo','sculpture']\n",
        "sns.heatmap(mat.T,square=True,annot=True,fmt='d',cbar=True,xticklabels=label_name,yticklabels=label_name)\n",
        "#plt.colorbar()\n",
        "plt.ylabel('predicted label')\n",
        "plt.xlabel('truth label')\n",
        "plt.title('Confusion matrix for ResNet50')\n",
        "plt.show()"
      ]
    },
    {
      "cell_type": "markdown",
      "source": [
        "# AlexNet"
      ],
      "metadata": {
        "id": "ZJFJpZOG5T-c"
      }
    },
    {
      "cell_type": "code",
      "execution_count": null,
      "metadata": {
        "colab": {
          "base_uri": "https://localhost:8080/"
        },
        "id": "eVotM0vD5r5F",
        "outputId": "c21f9879-221c-453f-8cd5-0abf085d3bcb"
      },
      "outputs": [
        {
          "output_type": "stream",
          "name": "stderr",
          "text": [
            "Using cache found in /root/.cache/torch/hub/pytorch_vision_v0.10.0\n"
          ]
        },
        {
          "output_type": "stream",
          "name": "stdout",
          "text": [
            "Sequential(\n",
            "  (0): AlexNet(\n",
            "    (features): Sequential(\n",
            "      (0): Conv2d(3, 64, kernel_size=(11, 11), stride=(4, 4), padding=(2, 2))\n",
            "      (1): ReLU(inplace=True)\n",
            "      (2): MaxPool2d(kernel_size=3, stride=2, padding=0, dilation=1, ceil_mode=False)\n",
            "      (3): Conv2d(64, 192, kernel_size=(5, 5), stride=(1, 1), padding=(2, 2))\n",
            "      (4): ReLU(inplace=True)\n",
            "      (5): MaxPool2d(kernel_size=3, stride=2, padding=0, dilation=1, ceil_mode=False)\n",
            "      (6): Conv2d(192, 384, kernel_size=(3, 3), stride=(1, 1), padding=(1, 1))\n",
            "      (7): ReLU(inplace=True)\n",
            "      (8): Conv2d(384, 256, kernel_size=(3, 3), stride=(1, 1), padding=(1, 1))\n",
            "      (9): ReLU(inplace=True)\n",
            "      (10): Conv2d(256, 256, kernel_size=(3, 3), stride=(1, 1), padding=(1, 1))\n",
            "      (11): ReLU(inplace=True)\n",
            "      (12): MaxPool2d(kernel_size=3, stride=2, padding=0, dilation=1, ceil_mode=False)\n",
            "    )\n",
            "    (avgpool): AdaptiveAvgPool2d(output_size=(6, 6))\n",
            "    (classifier): Sequential(\n",
            "      (0): Dropout(p=0.5, inplace=False)\n",
            "      (1): Linear(in_features=9216, out_features=4096, bias=True)\n",
            "      (2): ReLU(inplace=True)\n",
            "      (3): Dropout(p=0.5, inplace=False)\n",
            "      (4): Linear(in_features=4096, out_features=4096, bias=True)\n",
            "      (5): ReLU(inplace=True)\n",
            "      (6): Linear(in_features=4096, out_features=1000, bias=True)\n",
            "    )\n",
            "  )\n",
            "  (1): Linear(in_features=1000, out_features=5, bias=True)\n",
            ")\n"
          ]
        }
      ],
      "source": [
        "##load pretrained alexnet network ###\n",
        "alexnet = torch.hub.load('pytorch/vision:v0.10.0', 'alexnet', pretrained=True)\n",
        "alexnet=nn.Sequential(\n",
        "    alexnet,\n",
        "    nn.Linear(1000,5)\n",
        ")\n",
        "print(alexnet)"
      ]
    },
    {
      "cell_type": "code",
      "execution_count": null,
      "metadata": {
        "id": "xG02IgHK5r5F"
      },
      "outputs": [],
      "source": [
        "num_epoch=3\n",
        "device = torch.device(\"cuda:0\" if torch.cuda.is_available() else \"cpu\")\n",
        "model=alexnet.to(device)\n",
        "loss_fn=nn.CrossEntropyLoss()\n",
        "optimizer=optim.Adam(filter(lambda p:p.requires_grad,model.parameters()),lr=1e-4)"
      ]
    },
    {
      "cell_type": "code",
      "execution_count": null,
      "metadata": {
        "colab": {
          "base_uri": "https://localhost:8080/"
        },
        "outputId": "6f5a47b1-2e80-4c44-8637-5b23e5dd5f60",
        "id": "Kek8t6Vs5r5F"
      },
      "outputs": [
        {
          "output_type": "stream",
          "name": "stdout",
          "text": [
            "epoch1 has been trained\n",
            "epoch2 has been trained\n",
            "epoch3 has been trained\n"
          ]
        }
      ],
      "source": [
        "train_loss=[]\n",
        "evaluate_score=[]\n",
        "for i in range(num_epoch):\n",
        "  loss=train_main(model,loss_fn,optimizer,train_loader,device)\n",
        "  train_loss.append(np.mean(loss))\n",
        "  predict_r,f1_r=evaluate_whole(model,eva_loader,evaluate_truth,device)\n",
        "  evaluate_score.append(f1_r)\n",
        "  print(f'epoch{i+1} has been trained')"
      ]
    },
    {
      "cell_type": "code",
      "execution_count": null,
      "metadata": {
        "colab": {
          "base_uri": "https://localhost:8080/",
          "height": 283
        },
        "id": "mQlSIz5R5r5G",
        "outputId": "27119bb4-ae88-42ab-e987-d660171c24ee"
      },
      "outputs": [
        {
          "output_type": "display_data",
          "data": {
            "text/plain": [
              "<Figure size 432x288 with 1 Axes>"
            ],
            "image/png": "[encoded data removed]"
          },
          "metadata": {
            "needs_background": "light"
          }
        }
      ],
      "source": [
        "### print train result and evaluation result###\n",
        "plt.plot(train_loss,'o-r',label='train_loss')\n",
        "plt.plot(evaluate_score,'o-b',label='evaulate_f1 score')\n",
        "plt.xlabel('num of epoch')\n",
        "plt.ylabel('related value')\n",
        "plt.grid()\n",
        "plt.legend()\n",
        "plt.show()"
      ]
    },
    {
      "cell_type": "code",
      "execution_count": null,
      "metadata": {
        "id": "WZZYhOmq5r5G"
      },
      "outputs": [],
      "source": [
        "## the main test part ##\n",
        "import seaborn as sns\n",
        "from sklearn.metrics import confusion_matrix,f1_score\n",
        "def test_whole(model,test_loader,truth_label):\n",
        "  predict_list=[]\n",
        "  norm=nn.Softmax(1)\n",
        "  model.eval()\n",
        "  with torch.no_grad():\n",
        "    for batchind,data in enumerate(test_loader):\n",
        "      images,label=data\n",
        "      ##change to (1,c,h,w)\n",
        "      images = torch.Tensor(images).to(device)\n",
        "      label = torch.Tensor(label).to(device).float()\n",
        "      outputs=norm(model(images).detach().cpu()).numpy().ravel()\n",
        "      predict_list.append(np.argmax(outputs))\n",
        "  f1_c=f1_score(truth_label,predict_list,average='micro')\n",
        "  recall = recall_score(truth_label,predict_list,average='micro')\n",
        "  prec = precision_score(truth_label,predict_list,average='micro')\n",
        "  mac = balanced_accuracy_score(truth_label,predict_list)\n",
        "  con_mat=confusion_matrix(truth_label,predict_list)\n",
        "\n",
        "  return predict_list,f1_c,recall,prec,mac,con_mat\n",
        "\n",
        "truth=test_set.label\n",
        "predict_label,f1,recall,prec,mac,mat=test_whole(model,test_loader,truth)"
      ]
    },
    {
      "cell_type": "code",
      "execution_count": null,
      "metadata": {
        "id": "UXfDK_rm5r5G",
        "colab": {
          "base_uri": "https://localhost:8080/",
          "height": 366
        },
        "outputId": "72ec265e-eea2-4cf1-e6cc-c2f753e4b4ba"
      },
      "outputs": [
        {
          "output_type": "stream",
          "name": "stdout",
          "text": [
            "the micro f1 score on test set is 0.8611111111111112\n",
            "the micro recall score on test set is 0.8611111111111112\n",
            "the micro precision score on test set is 0.8611111111111112\n",
            "the micro mean average precision score on test set is 0.86\n"
          ]
        },
        {
          "output_type": "display_data",
          "data": {
            "text/plain": [
              "<Figure size 432x288 with 2 Axes>"
            ],
            "image/png": "[encoded data removed]"
          },
          "metadata": {
            "needs_background": "light"
          }
        }
      ],
      "source": [
        "print(f'the micro f1 score on test set is {f1}')\n",
        "print(f'the micro recall score on test set is {recall}')\n",
        "print(f'the micro precision score on test set is {prec}')\n",
        "print(f'the micro mean average precision score on test set is {mac}')\n",
        "label_name=['pottery','print','painting','photo','sculpture']\n",
        "sns.heatmap(mat.T,square=True,annot=True,fmt='d',cbar=True,xticklabels=label_name,yticklabels=label_name)\n",
        "#plt.colorbar()\n",
        "plt.ylabel('predicted label')\n",
        "plt.xlabel('truth label')\n",
        "plt.title('Confusion matrix for AlexNet')\n",
        "plt.show()"
      ]
    },
    {
      "cell_type": "code",
      "source": [
        "import pickle\n",
        "creators = []\n",
        "with (open(drive / 'dataset' / 'label' / 'creator' / 'sample_creator_label.pickle', \"rb\")) as openfile:\n",
        "    while True:\n",
        "        try:\n",
        "            creators.append(pickle.load(openfile))\n",
        "        except EOFError:\n",
        "            break\n",
        "with (open(drive / 'dataset' / 'label' / 'creator' / 'test_creator_label.pickle', \"rb\")) as openfile:\n",
        "    while True:\n",
        "        try:\n",
        "            creators.append(pickle.load(openfile))\n",
        "        except EOFError:\n",
        "            break\n",
        "with (open(drive / 'dataset' / 'label' / 'creator' / 'val_creator_label.pickle', \"rb\")) as openfile:\n",
        "    while True:\n",
        "        try:\n",
        "            creators.append(pickle.load(openfile))\n",
        "        except EOFError:\n",
        "            break\n",
        "print(creators)\n",
        "all_creators = {}\n",
        "counter = 0\n",
        "for c in creators[0]:\n",
        "  for j in c:\n",
        "    if j not in all_creators:\n",
        "      all_creators[j] = 1\n",
        "    else:\n",
        "      all_creators[j] += 1\n",
        "    counter += 1\n",
        "print(\"length: \", len(all_creators))\n",
        "print(all_creators)\n",
        "print(counter)"
      ],
      "metadata": {
        "colab": {
          "base_uri": "https://localhost:8080/"
        },
        "id": "4hIlIpl2qNEV",
        "outputId": "8f8e0eaf-09d2-49fc-d379-96feed0e9c27"
      },
      "execution_count": null,
      "outputs": [
        {
          "output_type": "stream",
          "name": "stdout",
          "text": [
            "[[['anoniem'], ['Dihl et Guerhard'], ['anoniem'], ['anoniem'], ['anoniem'], ['Amstel', 'Porceleinfabriek aan den'], ['anoniem'], ['anoniem'], ['anoniem'], ['anoniem'], ['Dihl et Guerhard'], ['anoniem'], ['anoniem'], ['anoniem'], ['anoniem'], [''], ['De Porceleijne Bijl'], ['anoniem'], [''], ['M.O.L.'], ['M.O.L.'], ['anoniem'], ['anoniem'], ['De Metalen Pot'], ['anoniem'], ['anoniem'], ['anoniem'], ['anoniem'], ['anoniem'], ['anoniem'], ['anoniem'], [''], ['anoniem'], ['anoniem'], ['anoniem'], ['anoniem'], ['anoniem'], ['Dihl et Guerhard'], ['anoniem'], ['anoniem'], ['anoniem'], ['De Porceleijne Bijl'], ['anoniem'], ['anoniem'], ['anoniem'], ['anoniem'], ['Swebach', 'Jacques François Joseph'], ['anoniem'], ['anoniem'], ['M.O.L.'], ['Dihl et Guerhard'], ['anoniem'], ['anoniem'], ['anoniem'], ['anoniem'], ['De Porceleijne Bijl'], [''], ['anoniem'], ['Fortuyn', \"'t\"], ['anoniem'], ['anoniem'], ['anoniem'], ['anoniem'], ['anoniem'], ['anoniem'], ['anoniem'], ['anoniem'], [''], ['anoniem'], ['anoniem'], ['anoniem'], ['anoniem'], ['anoniem'], ['anoniem'], ['anoniem'], ['anoniem'], ['anoniem'], ['anoniem'], ['anoniem'], ['anoniem'], [''], ['Dihl et Guerhard'], ['Kloet', 'Familie Van der'], ['anoniem'], ['anoniem'], ['Amstel', 'Porceleinfabriek aan den'], ['anoniem'], ['anoniem'], ['De Roos'], ['anoniem'], ['anoniem'], ['De Grieksche A'], ['anoniem'], ['anoniem'], ['anoniem'], ['De Roos'], ['anoniem'], ['anoniem'], ['anoniem'], ['anoniem'], ['anoniem'], ['anoniem'], ['anoniem'], ['M.O.L.'], ['anoniem'], ['anoniem'], ['anoniem'], ['Amstel', 'Porceleinfabriek aan den'], ['anoniem'], ['anoniem'], ['anoniem'], ['anoniem'], ['anoniem'], ['anoniem'], [''], ['Amstel', 'Porceleinfabriek aan den'], ['anoniem'], ['anoniem'], ['anoniem'], ['anoniem'], ['anoniem'], ['Amstel', 'Porceleinfabriek aan den'], ['anoniem'], ['De Roos'], ['anoniem'], ['anoniem'], ['anoniem'], ['anoniem'], ['De Roos'], ['anoniem'], ['Worcester'], ['De Porceleijne Bijl'], ['anoniem'], ['anoniem'], [''], ['anoniem'], ['anoniem'], ['anoniem'], ['anoniem'], [''], ['anoniem'], ['M.O.L.'], ['anoniem'], ['anoniem'], ['anoniem'], [''], ['anoniem'], ['anoniem'], ['anoniem'], ['De Porceleijne Bijl'], ['Amstel', 'Porceleinfabriek aan den'], ['anoniem'], ['Chien-Lung'], ['anoniem'], ['De Porceleijne Bijl'], ['anoniem'], ['De Porceleijne Bijl'], ['anoniem'], ['De Porceleijne Bijl'], ['anoniem'], ['anoniem'], [''], ['anoniem'], ['anoniem'], ['anoniem'], ['Dihl et Guerhard'], ['anoniem'], ['anoniem'], ['anoniem'], ['anoniem'], ['anoniem'], ['anoniem'], ['anoniem'], ['anoniem'], ['anoniem'], ['Amstel', 'Porceleinfabriek aan den'], ['Amstel', 'Porceleinfabriek aan den'], ['anoniem'], [''], 'null', ['anoniem'], ['anoniem'], ['anoniem'], ['anoniem'], ['anoniem'], [''], ['anoniem'], ['anoniem'], ['anoniem'], ['anoniem'], ['anoniem'], ['anoniem'], ['De Grieksche A'], ['anoniem'], [''], ['anoniem'], ['anoniem'], ['Amstel', 'Porceleinfabriek aan den'], ['De Metalen Pot'], ['anoniem'], ['Huys', 'Frans'], ['Nickelen', 'Jan van'], ['Pfeiffer', 'François Joseph (I)'], ['Audran', 'Jean'], ['Sadeler', 'Johann (I)'], ['Gellée (genaamd Le Lorrain)', 'Claude'], ['Velde', 'Esaias van de'], ['Galle', 'Cornelis (I)'], ['Bemme', 'Joannes'], ['Nolthenius de Man', 'Anthonie Willem Hendrik'], ['Houbraken', 'Arnold'], ['Potter', 'Paulus'], ['Frisius', 'Simon'], ['Gheyn', 'Jacob de (II)'], ['Oberman', 'Anthony'], ['Hilten', 'Hendrik van'], ['Jongman', 'Wouter'], ['Matham', 'Jacob'], ['Cornelisz. van Oostsanen', 'Jacob'], ['Bloemaert', 'Frederick'], ['Savery', 'Salomon'], ['Tanjé', 'Pieter'], ['Dolendo', 'Zacharias'], ['Matham', 'Jacob'], ['Collaert', 'Adriaen'], ['Muys', 'Robbert'], ['Dubourcq', 'Pierre Louis'], ['Maes', 'Godfried'], ['Sadeler', 'Aegidius'], ['Martszen de Jonge', 'Jan'], ['Kok', 'Willem'], ['Callot', 'Jacques'], ['Matham', 'Jacob'], ['Rahms', 'Eberhard Cornelis'], ['Tanjé', 'Pieter'], ['Matham', 'Jacob'], ['Schongauer', 'Martin'], ['Goya y Lucientes', 'Francisco José de'], ['Ryckmans', 'Nicolaes'], ['Brondgeest', 'Albertus'], ['Houbraken', 'Jacob'], ['Rembrandt Harmensz. van Rijn'], ['Cornelisz.', 'Lambert'], ['Passe', 'Crispijn van de (II)'], ['Beham', 'Hans Sebald'], ['Bolswert', 'Schelte Adamsz.'], ['Sadahide', 'Utagawa'], ['Anthonisz.', 'Cornelis'], ['Callot', 'Jacques'], ['Gronsveld', 'Johannes'], ['Leth', 'Hendrik de'], ['Meer', 'Noach van der (II)'], ['Roghman', 'Roelant'], ['anoniem'], ['Colizzi', 'Johan Antoni Kauclitz'], ['Lommelin', 'Adriaen'], ['Orley', 'Richard van'], ['Louys', 'Jacob (1620-ca.1673)'], ['Leth', 'Hendrik de'], ['Laan', 'Adolf van der'], ['Dürer', 'Albrecht'], ['Géricault', 'Théodore'], ['Kiyonaga', 'Torii'], ['Moorrees', 'Christiaan Wilhelmus'], ['Heyden', 'Pieter van der'], ['Rembrandt Harmensz. van Rijn'], ['Houbraken', 'Jacob'], ['Jode', 'Pieter de (I)'], ['Gheyn', 'Jacob de (II)'], ['Heusch', 'Willem de'], ['Breen', 'Adam van'], ['Gaal', 'Jacobus Cornelis'], ['Bolswert', 'Boëtius Adamsz.'], ['Almeloveen', 'Jan van'], ['Cranach', 'Lucas (I)'], ['Beek', 'Antonie van der'], ['Rembrandt Harmensz. van Rijn'], ['Dalen', 'Cornelis van (I)'], ['Greuze', 'Jean-Baptiste'], ['Bos', 'Anthonie van den'], ['Leyden', 'Lucas van'], ['Monnoyer', 'Jean Baptiste'], ['Callot', 'Jacques'], ['Natalis', 'Michel'], ['Chalon', 'Jan'], ['Quinkhard', 'Julius Henricus'], ['Galle', 'Philips'], ['Potter', 'Paulus'], ['Fokke', 'Simon'], ['Ryckmans', 'Nicolaes'], ['Morellon La Cave', 'François'], ['Ossenbeeck', 'Jan van'], ['Roghman', 'Roelant'], ['Collaert', 'Adriaen'], ['Eizan', 'Kikugawa'], ['Everdingen', 'Allaert van'], ['Ossenbeeck', 'Jan van'], ['Philips', 'Jan Caspar'], ['Drebbel', 'Cornelis Jacobsz.'], ['Sadeler', 'Johann (I)'], ['Panneels', 'Willem'], ['Sadeler', 'Johann (I)'], ['Lievens', 'Jan'], ['anoniem'], ['Gellée (genaamd Le Lorrain)', 'Claude'], ['Neefs', 'Jacob'], ['Galle', 'Cornelis (II)'], ['Groenewegen', 'Gerrit'], ['Bemme', 'Joannes'], ['Boel', 'Cornelis'], ['Sadeler', 'Johann (I)'], ['Baudous', 'Robert de'], ['Collaert', 'Adriaen'], ['Haelwegh', 'Adriaen'], ['Coclers', 'Louis Bernard'], ['Matham', 'Jacob'], ['Galle', 'Philips'], ['Bos', 'Anthonie van den'], ['Kessel', 'Theodorus van'], ['Marcus', 'Jacob Ernst'], ['Sadeler', 'Johann (I)'], ['Lépicié', 'Bernard François'], ['Goltzius', 'Hendrick'], ['Rembrandt Harmensz. van Rijn'], ['Goltzius', 'Julius'], ['Raimondi', 'Marcantonio'], ['Novelanus', 'Symon'], ['Bruyn', 'Nicolaes de'], ['Wierix', 'Hieronymus'], ['Gheyn', 'Jacob de (II)'], ['Ichieisai Yoshitsyua'], ['Beek', 'Jan Lucas van der'], ['Decker', 'Coenraet'], ['Pencz', 'Georg'], ['Sadeler', 'Johann (I)'], ['Nijmegen', 'Gerard van'], ['Shunsho', 'Katsukawa'], ['Mulder', 'Joseph'], ['Hoecke', 'Robert van den'], ['Bol', 'Ferdinand'], ['Noorde', 'Cornelis van'], ['Nolpe', 'Pieter'], ['Rembrandt Harmensz. van Rijn'], ['Collaert', 'Adriaen'], ['Bouttats', 'Gaspar'], ['Goltzius', 'Julius'], ['Bisschop', 'Cornelis'], ['Kessel', 'Theodorus van'], ['Picart', 'Bernard'], ['Bloteling', 'Abraham'], ['Hodges', 'Charles Howard'], ['Raphael'], ['Collaert', 'Adriaen'], ['Bloemaert', 'Cornelis (II)'], ['Punt', 'Jan'], ['Frisius', 'Simon'], ['Bendorp', 'Carel Frederik (I)'], ['Fruytiers', 'Philip'], ['Everdingen', 'Allaert van'], ['Faber', 'Frédéric Théodore'], ['Goltzius', 'Hendrick'], ['Tiepolo', 'Giovanni Domenico'], ['Ruppe', 'Christiaan Friedrich'], ['Hackaert', 'Jan'], ['Everdingen', 'Allaert van'], ['Koning', 'Theodoor'], ['Dürer', 'Albrecht'], ['Heemskerck', 'Maarten van'], ['Descourtis', 'Charles Melchior'], ['Bruyn', 'Nicolaes de'], ['Frey', 'Johannes Pieter de'], ['Dalen', 'Cornelis van (I)'], ['Hermans', 'J.'], ['Cort', 'Cornelis'], ['Liotard', 'Jean-Etienne'], ['Dusart', 'Cornelis'], ['Altdorfer', 'Albrecht'], ['Löwenstam', 'Herman'], ['Barbé', 'Jan-Baptist'], ['Gheyn', 'Jacob de (II)'], ['Genoels', 'Abraham'], ['Breen', 'Adam van'], ['Goltzius', 'Julius'], ['Callot', 'Jacques'], ['Muller', 'Jan Harmensz.'], ['Heenck', 'Jabes'], ['Bolswert', 'Boëtius Adamsz.'], ['Beham', 'Hans Sebald'], ['Sadeler', 'Johann (I)'], ['Pauli', 'Andries'], ['Jode', 'Pieter de (II)'], ['Punt', 'Jan'], ['Dujardin', 'Karel'], ['Ribera', 'Jusepe'], ['Bloemaert', 'Cornelis (II)'], ['Hokusai', 'Katsushika'], ['Lamsweerde', 'Steven van'], ['Ostade', 'Adriaen van'], ['Meyssens', 'Cornelis'], ['Muller', 'Harmen Jansz'], ['Cuyp', 'Aelbert'], ['anoniem'], ['Ducros', 'Louis'], ['anoniem'], ['Ducros', 'Louis'], ['Schellinks', 'Willem'], ['Dorsten', 'Jacob van'], ['Budde', 'Hendrik'], ['Rijp', 'Cornelis'], ['Roghman', 'Roelant'], ['Brandes', 'Jan'], ['Brandes', 'Jan'], ['Varelen', 'Jacob Elias van'], ['Cavedone', 'Giacomo'], ['Brandes', 'Jan'], ['anoniem'], ['anoniem'], ['Mertens', 'Johannes Cornelis'], ['Vinne', 'Vincent Jansz. van der'], ['Pontormo', 'Jacopo'], ['Potter', 'Paulus'], ['Cock', 'Maerten de'], ['Breenbergh', 'Bartholomeus'], ['Picart', 'Bernard'], ['Strij', 'Abraham van (I)'], ['Ducros', 'Louis'], ['Goyen', 'Jan van'], ['Pronk', 'Cornelis'], ['Wijandt', 'F.'], ['Saftleven', 'Herman'], ['Liernur', 'Alexander'], ['Ziesenis', 'Anthony'], ['Grandjean', 'Jean'], ['Saftleven', 'Herman'], ['Stoop', 'Dirk'], ['Os', 'Pieter Gerardus van'], ['Delfos', 'Abraham'], ['Ducros', 'Louis'], ['Battem', 'Gerrit van (de Oude)'], ['Bernard', 'Jean'], ['Bol', 'Hans'], ['Troost', 'Sara'], ['Toorenburgh', 'Gerrit'], ['Brandes', 'Jan'], ['Huygens', 'Constantijn (II)'], ['Gerritsz', 'Hessel'], ['Ulft', 'Jacob van der'], ['Brandes', 'Jan'], ['Aartman', 'Nicolaes'], ['Carracci', 'Annibale'], ['Bosch', 'Johannes de'], ['Teyler', 'Johan'], ['Schutter', 'Theodorus Cornelis'], ['Hulswit', 'Jan'], ['anoniem'], ['Velde', 'Adriaen van de'], ['Quellinus', 'Artus (I)'], ['Fokke', 'Simon'], ['anoniem'], ['Voogd', 'Hendrik'], ['Pseudo-Gherardi'], ['Bailly', 'David'], ['Langendijk', 'Dirk'], ['Laan', 'Dirk Jan van der'], ['Ruisdael', 'Jacob Isaacksz. van'], ['Luini', 'Aurelio'], ['Palma', 'Jacopo (il Giovane)'], ['Schutter', 'Theodorus Cornelis'], ['Roghman', 'Roelant'], ['Roghman', 'Roelant'], ['Borch', 'Gerard ter (I)'], ['Wandelaar', 'Jan'], ['Lombard', 'Lambert'], ['Goudt', 'Hendrick'], ['Buys', 'Jacobus'], ['Cats', 'Jacob (1741-1799)'], ['Pronk', 'Cornelis'], ['Loo', 'Pieter van'], ['Milatz', 'Franciscus Andreas'], ['Schiavone', 'Michele'], ['Boucher', 'François'], ['Tersteeg', 'Jan'], ['Procaccini', 'Camillo'], ['Avercamp', 'Hendrick'], ['Kobell', 'Jan (II)'], ['Boitard', 'François'], ['Ruyscher', 'Jan'], ['Steen', 'Jan Havicksz.'], ['Noordt', 'Jan van (1623-1676)'], ['Andriessen', 'Christiaan'], ['Cats', 'Jacob (1741-1799)'], ['Schouman', 'Aert'], ['Andriessen', 'Jurriaan'], ['Wael', 'Cornelis de'], ['Hoorn', 'Jordanus'], ['Voet', 'Carel Borchaert'], ['Borch', 'Gerard ter (II)'], ['Beijer', 'Jan de'], ['Everdingen', 'Allaert van'], ['Hermitage Meester'], ['Quinkhard', 'Jan Maurits'], ['Goltzius', 'Hendrick'], ['Troost', 'Cornelis'], ['Grandjean', 'Jean'], ['Cate', 'Hendrik Gerrit ten'], ['anoniem'], ['Haen', 'Abraham de (II)'], ['Steiger', 'C.'], ['Borch', 'Moses ter'], ['Schouten', 'Hermanus Petrus'], ['Teyler', 'Johan'], ['Pfeiffer', 'François Joseph (II)'], ['anoniem'], ['Gellée (genaamd Le Lorrain)', 'Claude'], ['anoniem'], ['Cornelisz. genaamd Kunst', 'Pieter'], ['Asselijn', 'Jan'], ['Toorenburgh', 'Gerrit'], ['Drielst', 'Egbert van'], ['Géricault', 'Théodore'], ['Spilman', 'Hendrik'], ['Cats', 'Jacob (1741-1799)'], ['Borch', 'Harmen ter'], ['Gheyn', 'Jacob de (II)'], ['anoniem'], ['Ulft', 'Jacob van der'], ['Wijsman', 'Jacobus'], ['Bernard', 'Jean'], ['Badalocchio', 'Sisto'], ['Poelenburch', 'Cornelis van'], ['Heemskerck', 'Maarten van'], ['Horstink', 'Warner'], ['Esselens', 'Jacob'], ['Liender', 'Paulus van'], ['Ziesenis', 'Johannes'], ['Vinkeles', 'Reinier'], ['Grasdorp', 'Gerrit'], ['Watteau', 'Jean Antoine'], ['Luti', 'Benedetto'], ['Stokvisch', 'Hendrik'], ['Weenix', 'Jan Baptist'], ['Beijer', 'Jan de'], ['Piranesi', 'Giovanni Battista'], ['Zuccaro', 'Federico'], ['Ducros', 'Louis'], ['Velde', 'Willem van de (II)'], ['Masurel', 'A.'], ['Dusart', 'Cornelis'], ['Testa', 'Pietro'], ['Verdier', 'François'], ['Brandes', 'Jan'], ['Numan', 'Hermanus'], ['Borch', 'Harmen ter'], ['Wijck', 'Thomas'], ['Ducros', 'Louis'], ['Rembrandt Harmensz. van Rijn'], ['Bernard', 'Jean'], ['Drost', 'Willem'], ['Borch', 'Gerard ter (I)'], ['anoniem'], ['Scaramuccia', 'Luigi'], ['Teniers', 'David (II)'], ['Saftleven', 'Herman'], ['Cesi', 'Bartolomeo'], ['anoniem'], ['anoniem'], ['Schouman', 'Aert'], ['Buys', 'Jacobus'], ['Krausz', 'Simon Andreas'], ['Stellingwerff', 'Jacobus'], ['Idserts', 'Pieter'], ['Voogd', 'Hendrik'], ['Borch', 'Harmen ter'], ['Wel', 'H. van'], ['Hendriks', 'Wybrand'], ['Borssom', 'Anthonie van'], ['Grave', 'Josua de'], ['Uyl', 'Jan Jansz. den (II)'], ['anoniem'], ['Pronk', 'Cornelis'], ['Loo', 'Pieter van'], ['Roghman', 'Roelant'], ['Pronk', 'Cornelis'], ['Berhuyzen', 'F.'], ['Vinne', 'Vincent Jansz. van der'], ['Amman', 'Jost'], ['Krausz', 'Simon Andreas'], ['Cats', 'Jacob (1741-1799)'], ['Bisschop', 'Jan de'], ['Borch', 'Moses ter'], ['Vlieger', 'Simon de'], ['Moulinneuf', 'H.A.'], ['Schwartzenbach', 'Jacob'], ['Cooghen', 'Leendert van der'], ['Pomarancio', 'Cristoforo'], ['Brandes', 'Jan'], ['Bloemaert', 'Abraham'], ['Overbeek', 'M. van'], ['Saenredam', 'Pieter Jansz.'], ['Munnickhuysen', 'Johannes Willemsz.'], ['anoniem'], ['Asser', 'Eduard Isaac'], ['Verveer', 'Maurits'], ['Bingham', 'Robert Jefferson'], ['Delamotte', 'Philip Henry'], ['Delamotte', 'Philip Henry'], ['anoniem'], ['Ferrier & F. von Martens', 'C.M.'], ['Ferrier & F. von Martens', 'C.M.'], ['anoniem'], ['Tripe', 'Linnaeus'], ['Hisgen & Co.', 'O.'], ['Asser', 'Eduard Isaac'], ['Asser', 'Eduard Isaac'], ['Le Secq', 'Henri'], ['Beattie', 'John'], ['anoniem'], ['Braun', 'Adolphe'], ['Munnich & Ermerins'], ['Salzmann', 'Auguste'], ['Woodbury & Page'], ['Woodbury & Page'], ['Cameron', 'Julia Margaret'], ['Woodbury & Page'], ['anoniem'], ['Asser', 'Eduard Isaac'], ['Emerson', 'Peter Henry'], ['Verveer', 'Maurits'], ['Asser', 'Eduard Isaac'], ['Pieterse', 'Albertus'], ['Du Camp', 'Maxime'], ['Nègre', 'Charles'], ['Asser', 'Eduard Isaac'], ['Gaudin', 'Marc Antoine'], ['Delamotte', 'Philip Henry'], ['Delamotte', 'Philip Henry'], ['Bingham', 'Robert Jefferson'], ['Thompson', 'Charles Thurston'], ['anoniem'], ['Woodbury & Page'], ['anoniem'], ['anoniem'], ['Ferrier & F. von Martens', 'C.M.'], ['Beard', 'Richard'], ['Owen', 'Hugh'], ['Bisson Frères'], ['Asser', 'Eduard Isaac'], ['Ferrier & F. von Martens', 'C.M.'], ['Cundall', 'Downes & Co.'], ['Pecarrère', 'Emile'], ['Ferrier & F. von Martens', 'C.M.'], ['Nègre', 'Charles'], ['Le Gray', 'Gustave'], ['Asser', 'Eduard Isaac'], ['anoniem'], ['Emerson', 'Peter Henry'], ['anoniem'], ['Asser', 'Eduard Isaac'], ['Stelzner', 'Carl Ferdinand'], ['anoniem'], ['Bingham', 'Robert Jefferson'], ['Nègre', 'Charles'], ['Hisgen & Co.', 'O.'], ['anoniem'], ['anoniem'], ['anoniem'], ['Wegner & Mottu'], ['Salzmann', 'Auguste'], ['Woodbury & Page'], ['Hisgen & Co.', 'O.'], ['anoniem'], ['Stillfried und Ratenitz', 'Baron Raimund von'], ['Ferrier', 'Claude-Marie'], ['Asser', 'Eduard Isaac'], ['anoniem'], ['Bourne', 'Samuel'], ['Thompson', 'Charles Thurston'], ['Woodbury & Page'], ['Nadar', 'Félix'], ['England', 'William'], ['Clifford', 'Charles'], ['Asser', 'Eduard Isaac'], ['Nasmyth', 'James'], ['Asser', 'Eduard Isaac'], ['Salzmann', 'Auguste'], ['Bullock', 'T.'], ['Thompson', 'Charles Thurston'], ['Asser', 'Eduard Isaac'], ['Alinari', 'Fratelli'], ['Hisgen & Co.', 'O.'], ['Nadar'], ['anoniem'], ['Woodbury & Page'], ['Delamotte', 'Philip Henry'], ['Woodbury & Page'], ['Müller (fotograaf)'], ['Stoppelman', 'Francis'], ['Krone', 'Hermann'], ['Quinet', 'Achille'], ['Whipple', 'John Adams'], ['Ferrier & F. von Martens', 'C.M.'], ['Stillfried und Ratenitz', 'Baron Raimund von'], ['anoniem'], ['Emerson', 'Peter Henry'], ['Chevalier', 'Charles Louis'], ['Delamotte', 'Philip Henry'], ['Chevallier', 'V. (Vincent)'], ['Ferrier & F. von Martens', 'C.M.'], ['Callahan', 'Harry'], ['Clifford', 'Charles'], ['Ross & Thomson'], ['Asser', 'Eduard Isaac'], ['Bingham', 'Robert Jefferson'], ['Durand-Brager & Lassimonne'], ['anoniem'], ['Krone', 'Hermann'], ['Salzmann', 'Auguste'], ['anoniem'], ['Bingham', 'Robert Jefferson'], ['Hanfstaengl', 'Franz'], ['Clifford', 'Charles'], ['Löcherer', 'Alois'], ['Frith', 'Francis'], ['Owen', 'Hugh'], ['Asser', 'Eduard Isaac'], ['Beard', 'Richard'], ['Bembridge', 'William'], ['Hisgen & Co.', 'O.'], ['anoniem'], ['Woodbury & Page'], ['anoniem'], ['anoniem'], ['Bedford', 'Francis'], ['Bingham', 'Robert Jefferson'], ['Frith', 'Francis'], ['Houdoit'], ['Robertson', 'James'], ['Marville', 'Charles'], ['Krone', 'Hermann'], ['anoniem'], ['Woodbury & Page'], ['Woodbury & Page'], ['Quinet', 'Achille'], ['anoniem'], ['Bingham', 'Robert Jefferson'], ['Du Camp', 'Maxime'], ['Bingham', 'Robert Jefferson'], ['Emerson', 'Peter Henry'], ['Frith', 'Francis'], ['Hisgen & Co.', 'O.'], ['Bisson Frères'], ['Aubry', 'Charles'], ['Faris', 'Thomas'], ['Asser', 'Eduard Isaac'], ['Woodbury & Page'], ['Woodbury & Page'], ['Bourne', 'Samuel'], ['anoniem'], ['Woodbury & Page'], ['Bourne', 'Samuel'], ['Asser', 'Eduard Isaac'], ['Du Camp', 'Maxime'], ['anoniem'], ['Woodbury & Page'], ['Bourne', 'Samuel'], ['Oosterhuis', 'Pieter'], ['Woodbury & Page'], ['Ferrier & F. von Martens', 'C.M.'], ['anoniem'], ['Thompson', 'Charles Thurston'], ['Fenton', 'Roger'], ['Bedford', 'Francis'], ['Asser', 'Eduard Isaac'], ['anoniem'], ['Ferrier & F. von Martens', 'C.M.'], ['Bourne', 'Samuel'], ['Wegner & Mottu'], ['Woodbury & Page'], ['anoniem'], ['anoniem'], ['Asser', 'Eduard Isaac'], ['Delamotte', 'Philip Henry'], ['Thompson', 'Charles Thurston'], ['Hill & Adamson'], ['Bingham', 'Robert Jefferson'], ['Frith', 'Francis'], ['Asser', 'Eduard Isaac'], ['Baldus', 'Édouard Denis'], ['Delamotte', 'Philip Henry'], ['Hisgen & Co.', 'O.'], ['anoniem'], ['Barber & Marks'], ['Frith', 'Francis'], ['Asser', 'Eduard Isaac'], ['Bingham', 'Robert Jefferson'], ['Thompson', 'Charles Thurston'], ['Woodbury & Page'], ['Rensing', 'Carl'], ['Ferrier & F. von Martens', 'C.M.'], ['Woodbury & Page'], [''], ['Shee', 'Michiel Emanuel'], [''], [''], ['Quellinus', 'Artus (II)'], ['Quellinus', 'Artus'], ['anoniem'], ['Verhulst', 'Rombout'], ['Klocker', 'Hans'], ['Xavery', 'Jan Baptist'], ['Moderno'], ['Bellano', 'Bartolomeo'], ['Chitqua'], ['Valdambrino', 'Francesco di'], ['anoniem'], ['anoniem'], ['anoniem'], [''], ['Lacomblé', 'Eugène'], ['Roccatagliata', 'Niccolò'], [''], ['Wesel', 'Adriaen van'], ['Wesel', 'Adriaen van'], ['Lacomblé', 'Eugène'], [''], ['Logteren', 'Ignatius van'], [''], ['Delvaux', 'Laurent'], 'null', ['anoniem'], ['anoniem'], ['anoniem'], [''], ['Jayet', 'Clément'], [''], ['Verhulst', 'Rombout'], ['Camper', 'Petrus'], ['Verrocchio', 'Andrea del'], ['Robbia', 'Luca della'], ['Chevré', 'Paul Romain'], [''], ['Xavery', 'Jan Baptist'], ['Lacomblé', 'Eugène'], ['anoniem'], ['anoniem'], ['Lacomblé', 'Eugène'], ['anoniem'], [''], ['Xavery', 'Jan Baptist'], ['anoniem'], ['anoniem'], [''], ['Troger', 'Simon'], ['Lacomblé', 'Eugène'], ['anoniem'], ['anoniem'], ['Lacomblé', 'Eugène'], ['Lacomblé', 'Eugène'], ['anoniem'], ['Rustici', 'Giovanni Francesco'], [''], [''], ['Meester van Coriolanus'], ['Troger', 'Simon'], [''], ['Lacomblé', 'Eugène'], ['Vinckenbrinck', 'Albert Jansz.'], ['Royer', 'Louis'], ['anoniem'], [''], ['Lacomblé', 'Eugène'], ['Troger', 'Simon'], ['anoniem'], ['Meester van de Madonna van La Gleize'], [''], ['Bartolini', 'Lorenzo'], ['Troger', 'Simon'], ['Gabriël', 'Paulus Joseph'], [''], ['anoniem'], ['Leenhoff', 'Ferdinand'], ['Lacomblé', 'Eugène'], ['Shee', 'Michiel Emanuel'], [''], [''], [''], ['anoniem'], ['Giambologna'], ['Lacomblé', 'Eugène'], ['Aspetti', 'Tiziano'], ['anoniem'], ['anoniem'], ['anoniem'], ['Gerhards', 'Hubert'], ['Meester van Joachim en Anna'], [''], [''], ['Wall', 'Willem Hendrik van der'], ['Xaveri', 'Pieter'], ['anoniem'], ['anoniem'], [''], ['anoniem'], ['Vries', 'Adriaen de'], ['Desiderio da Settignano'], [''], ['Meester van Ottobeuren'], ['anoniem'], ['Xaveri', 'Pieter'], ['Troger', 'Simon'], ['Logteren', 'Jan van'], [''], [''], ['anoniem'], ['Keyser', 'Hendrik de (I)'], ['anoniem'], ['anoniem'], ['Dieussart', 'François'], [''], ['anoniem'], ['Drentwett', 'Abraham (I)'], ['anoniem'], ['anoniem'], ['Lacomblé', 'Eugène'], ['Troger', 'Simon'], ['Xavery', 'Jan Baptist'], ['Xavery', 'Jan Baptist'], ['Bartolini', 'Lorenzo'], [''], ['anoniem'], ['Xavery', 'Jan Baptist'], ['Tissenaken', 'Isaac'], [''], ['anoniem'], ['Roccatagliata', 'Niccolò'], ['anoniem'], [''], ['Lacomblé', 'Eugène'], ['Wesel', 'Adriaen van'], ['Lacomblé', 'Eugène'], ['Cock', 'Jan Claudius de'], ['anoniem'], [''], ['Quellinus', 'Artus (I)'], ['Soldani Benzi', 'Massimiliano'], ['Royer', 'Louis'], ['Troger', 'Simon'], ['anoniem'], ['anoniem'], ['anoniem'], ['anoniem'], ['anoniem'], ['anoniem'], ['Meester van Joachim en Anna'], ['anoniem'], ['Donatello'], [''], [''], ['Quellinus', 'Artus (I)'], ['Quellinus', 'Artus (I)'], ['anoniem'], ['Xaveri', 'Pieter'], ['Robbia', 'Luca della'], ['Xavery', 'Jan Baptist'], [''], [''], ['Eggers', 'Bartholomeus'], ['Quellinus', 'Artus (II)'], ['Lacomblé', 'Eugène'], ['Royer', 'Louis'], ['Lacomblé', 'Eugène'], 'null', ['anoniem'], ['anoniem'], ['anoniem'], ['Troger', 'Simon'], ['anoniem'], ['Lacomblé', 'Eugène'], ['Lacomblé', 'Eugène'], [''], ['anoniem'], ['Quellinus', 'Artus (I)'], ['Leenhoff', 'Ferdinand'], ['anoniem'], [''], [''], ['Rossellino', 'Antonio'], [''], [''], ['Quercia', 'Jacopo della'], [''], [''], ['Lacomblé', 'Eugène'], ['Tetrode', 'Willem Danielsz. van'], ['anoniem'], ['Shee', 'Michiel Emanuel'], ['Verhulst', 'Rombout'], ['anoniem'], ['Beest', 'Ryck Hendrickszoon van'], ['Lacomblé', 'Eugène']], [['Plateelbakkerij De Roos'], ['anoniem'], ['anoniem'], ['anoniem'], ['Plateelbakkerij De Roos'], ['anoniem'], ['anoniem'], ['anoniem'], ['anoniem'], ['anoniem'], ['anoniem'], ['anoniem'], ['anoniem'], ['Dihl et Guerhard'], ['anoniem'], ['Ploos van Amstel', 'Cornelis'], ['Coornhert', 'Dirck Volckertsz'], ['anoniem'], ['Velde', 'Adriaen van de'], ['Passe', 'Crispijn van de (I)'], ['Everdingen', 'Allaert van'], ['Vianen', 'Jan van'], ['Bye', 'Marcus de'], ['Lombard', 'Lambert'], ['Gronsveld', 'Johannes'], ['Nolpe', 'Pieter'], ['Janson', 'Johannes Christiaan'], ['Noorde', 'Cornelis van'], ['Passe', 'Crispijn van de (I)'], ['Raimondi', 'Marcantonio'], ['Velde', 'Willem van de (II)'], ['Krausz', 'J.'], ['Velde', 'Willem van de (II)'], ['Vinkeles', 'Reinier'], ['Goes', 'Jan Augustin van der'], ['Beijer', 'Jan de'], ['Brandes', 'Jan'], ['Bril', 'Paul'], ['Flamen', 'Albert'], ['Wet', 'Jacob de (I)'], ['Bernard', 'Jean'], ['Bernard', 'Jean'], ['Brandes', 'Jan'], ['Ruisdael', 'Jacob Isaacksz. van'], ['Tavarone', 'Lazzaro'], ['Emerson', 'Peter Henry'], ['anoniem'], ['Bernieri', 'Caldesi & Co.'], ['Nègre', 'Charles'], ['Owen', 'Hugh'], ['Delamotte', 'Philip Henry'], ['anoniem'], ['Asser', 'Eduard Isaac'], ['Cundall', 'Downes & Co.'], ['Desplanques', 'Eugène'], ['Bingham', 'Robert Jefferson'], ['Wilson', 'George Washington'], ['Hisgen & Co.', 'O.'], ['anoniem'], ['Ferrier & F. von Martens', 'C.M.'], [''], ['Lacomblé', 'Eugène'], 'null', ['Xaveri', 'Pieter'], ['Donatello'], ['Meester van Ottobeuren'], ['Xaveri', 'Pieter'], ['Schardt', 'Jan Gregor van der'], ['Begarelli', 'Antonio'], [''], [''], [''], [''], ['anoniem'], 'null'], [['De 3 Aschpotten'], ['anoniem'], ['anoniem'], ['Plattenberg', 'Matthieu van'], ['Laan', 'Adolf van der'], ['Luyken', 'Caspar'], ['Grave', 'Josua de'], ['Maratti', 'Carlo'], ['Jelgerhuis', 'Johannes'], ['Woodbury & Page'], ['Owen', 'Hugh'], ['Delamotte', 'Philip Henry'], 'null', ['Lacomblé', 'Eugène'], ['Gardet', 'George']]]\n",
            "length:  675\n",
            "{'anoniem': 244, 'Dihl et Guerhard': 6, 'Amstel': 9, 'Porceleinfabriek aan den': 9, '': 57, 'De Porceleijne Bijl': 8, 'M.O.L.': 5, 'De Metalen Pot': 2, 'Swebach': 1, 'Jacques François Joseph': 1, 'Fortuyn': 1, \"'t\": 1, 'Kloet': 1, 'Familie Van der': 1, 'De Roos': 4, 'De Grieksche A': 2, 'Worcester': 1, 'Chien-Lung': 1, 'n': 3, 'u': 3, 'l': 6, 'Huys': 1, 'Frans': 1, 'Nickelen': 1, 'Jan van': 6, 'Pfeiffer': 2, 'François Joseph (I)': 1, 'Audran': 1, 'Jean': 6, 'Sadeler': 8, 'Johann (I)': 7, 'Gellée (genaamd Le Lorrain)': 3, 'Claude': 3, 'Velde': 3, 'Esaias van de': 1, 'Galle': 4, 'Cornelis (I)': 1, 'Bemme': 2, 'Joannes': 2, 'Nolthenius de Man': 1, 'Anthonie Willem Hendrik': 1, 'Houbraken': 3, 'Arnold': 1, 'Potter': 3, 'Paulus': 3, 'Frisius': 2, 'Simon': 12, 'Gheyn': 5, 'Jacob de (II)': 5, 'Oberman': 1, 'Anthony': 2, 'Hilten': 1, 'Hendrik van': 1, 'Jongman': 1, 'Wouter': 1, 'Matham': 5, 'Jacob': 11, 'Cornelisz. van Oostsanen': 1, 'Bloemaert': 4, 'Frederick': 1, 'Savery': 1, 'Salomon': 1, 'Tanjé': 2, 'Pieter': 9, 'Dolendo': 1, 'Zacharias': 1, 'Collaert': 5, 'Adriaen': 7, 'Muys': 1, 'Robbert': 1, 'Dubourcq': 1, 'Pierre Louis': 1, 'Maes': 1, 'Godfried': 1, 'Aegidius': 1, 'Martszen de Jonge': 1, 'Jan': 18, 'Kok': 1, 'Willem': 4, 'Callot': 4, 'Jacques': 4, 'Rahms': 1, 'Eberhard Cornelis': 1, 'Schongauer': 1, 'Martin': 1, 'Goya y Lucientes': 1, 'Francisco José de': 1, 'Ryckmans': 2, 'Nicolaes': 3, 'Brondgeest': 1, 'Albertus': 2, 'Rembrandt Harmensz. van Rijn': 6, 'Cornelisz.': 1, 'Lambert': 2, 'Passe': 1, 'Crispijn van de (II)': 1, 'Beham': 2, 'Hans Sebald': 2, 'Bolswert': 3, 'Schelte Adamsz.': 1, 'Sadahide': 1, 'Utagawa': 1, 'Anthonisz.': 1, 'Cornelis': 13, 'Gronsveld': 1, 'Johannes': 2, 'Leth': 2, 'Hendrik de': 2, 'Meer': 1, 'Noach van der (II)': 1, 'Roghman': 6, 'Roelant': 6, 'Colizzi': 1, 'Johan Antoni Kauclitz': 1, 'Lommelin': 1, 'Orley': 1, 'Richard van': 1, 'Louys': 1, 'Jacob (1620-ca.1673)': 1, 'Laan': 2, 'Adolf van der': 1, 'Dürer': 2, 'Albrecht': 3, 'Géricault': 2, 'Théodore': 2, 'Kiyonaga': 1, 'Torii': 1, 'Moorrees': 1, 'Christiaan Wilhelmus': 1, 'Heyden': 1, 'Pieter van der': 1, 'Jode': 2, 'Pieter de (I)': 1, 'Heusch': 1, 'Willem de': 1, 'Breen': 2, 'Adam van': 2, 'Gaal': 1, 'Jacobus Cornelis': 1, 'Boëtius Adamsz.': 2, 'Almeloveen': 1, 'Cranach': 1, 'Lucas (I)': 1, 'Beek': 2, 'Antonie van der': 1, 'Dalen': 2, 'Cornelis van (I)': 2, 'Greuze': 1, 'Jean-Baptiste': 1, 'Bos': 2, 'Anthonie van den': 2, 'Leyden': 1, 'Lucas van': 1, 'Monnoyer': 1, 'Jean Baptiste': 1, 'Natalis': 1, 'Michel': 1, 'Chalon': 1, 'Quinkhard': 2, 'Julius Henricus': 1, 'Philips': 3, 'Fokke': 2, 'Morellon La Cave': 1, 'François': 5, 'Ossenbeeck': 2, 'Eizan': 1, 'Kikugawa': 1, 'Everdingen': 4, 'Allaert van': 4, 'Jan Caspar': 1, 'Drebbel': 1, 'Cornelis Jacobsz.': 1, 'Panneels': 1, 'Lievens': 1, 'Neefs': 1, 'Cornelis (II)': 3, 'Groenewegen': 1, 'Gerrit': 4, 'Boel': 1, 'Baudous': 1, 'Robert de': 1, 'Haelwegh': 1, 'Coclers': 1, 'Louis Bernard': 1, 'Kessel': 2, 'Theodorus van': 2, 'Marcus': 1, 'Jacob Ernst': 1, 'Lépicié': 1, 'Bernard François': 1, 'Goltzius': 6, 'Hendrick': 5, 'Julius': 3, 'Raimondi': 1, 'Marcantonio': 1, 'Novelanus': 1, 'Symon': 1, 'Bruyn': 2, 'Nicolaes de': 2, 'Wierix': 1, 'Hieronymus': 1, 'Ichieisai Yoshitsyua': 1, 'Jan Lucas van der': 1, 'Decker': 1, 'Coenraet': 1, 'Pencz': 1, 'Georg': 1, 'Nijmegen': 1, 'Gerard van': 1, 'Shunsho': 1, 'Katsukawa': 1, 'Mulder': 1, 'Joseph': 1, 'Hoecke': 1, 'Robert van den': 1, 'Bol': 2, 'Ferdinand': 3, 'Noorde': 1, 'Cornelis van': 2, 'Nolpe': 1, 'Bouttats': 1, 'Gaspar': 1, 'Bisschop': 2, 'Picart': 2, 'Bernard': 5, 'Bloteling': 1, 'Abraham': 4, 'Hodges': 1, 'Charles Howard': 1, 'Raphael': 1, 'Punt': 2, 'Bendorp': 1, 'Carel Frederik (I)': 1, 'Fruytiers': 1, 'Philip': 1, 'Faber': 1, 'Frédéric Théodore': 1, 'Tiepolo': 1, 'Giovanni Domenico': 1, 'Ruppe': 1, 'Christiaan Friedrich': 1, 'Hackaert': 1, 'Koning': 1, 'Theodoor': 1, 'Heemskerck': 2, 'Maarten van': 2, 'Descourtis': 1, 'Charles Melchior': 1, 'Frey': 1, 'Johannes Pieter de': 1, 'Hermans': 1, 'J.': 1, 'Cort': 1, 'Liotard': 1, 'Jean-Etienne': 1, 'Dusart': 2, 'Altdorfer': 1, 'Löwenstam': 1, 'Herman': 4, 'Barbé': 1, 'Jan-Baptist': 1, 'Genoels': 1, 'Muller': 2, 'Jan Harmensz.': 1, 'Heenck': 1, 'Jabes': 1, 'Pauli': 1, 'Andries': 1, 'Pieter de (II)': 1, 'Dujardin': 1, 'Karel': 1, 'Ribera': 1, 'Jusepe': 1, 'Hokusai': 1, 'Katsushika': 1, 'Lamsweerde': 1, 'Steven van': 1, 'Ostade': 1, 'Adriaen van': 4, 'Meyssens': 1, 'Harmen Jansz': 1, 'Cuyp': 1, 'Aelbert': 1, 'Ducros': 6, 'Louis': 9, 'Schellinks': 1, 'Dorsten': 1, 'Jacob van': 1, 'Budde': 1, 'Hendrik': 5, 'Rijp': 1, 'Brandes': 7, 'Varelen': 1, 'Jacob Elias van': 1, 'Cavedone': 1, 'Giacomo': 1, 'Mertens': 1, 'Johannes Cornelis': 1, 'Vinne': 2, 'Vincent Jansz. van der': 2, 'Pontormo': 1, 'Jacopo': 1, 'Cock': 2, 'Maerten de': 1, 'Breenbergh': 1, 'Bartholomeus': 2, 'Strij': 1, 'Abraham van (I)': 1, 'Goyen': 1, 'Pronk': 4, 'Wijandt': 1, 'F.': 2, 'Saftleven': 3, 'Liernur': 1, 'Alexander': 1, 'Ziesenis': 2, 'Grandjean': 2, 'Stoop': 1, 'Dirk': 2, 'Os': 1, 'Pieter Gerardus van': 1, 'Delfos': 1, 'Battem': 1, 'Gerrit van (de Oude)': 1, 'Hans': 2, 'Troost': 2, 'Sara': 1, 'Toorenburgh': 2, 'Huygens': 1, 'Constantijn (II)': 1, 'Gerritsz': 1, 'Hessel': 1, 'Ulft': 2, 'Jacob van der': 2, 'Aartman': 1, 'Carracci': 1, 'Annibale': 1, 'Bosch': 1, 'Johannes de': 1, 'Teyler': 2, 'Johan': 2, 'Schutter': 2, 'Theodorus Cornelis': 2, 'Hulswit': 1, 'Adriaen van de': 1, 'Quellinus': 8, 'Artus (I)': 5, 'Voogd': 2, 'Pseudo-Gherardi': 1, 'Bailly': 1, 'David': 1, 'Langendijk': 1, 'Dirk Jan van der': 1, 'Ruisdael': 1, 'Jacob Isaacksz. van': 1, 'Luini': 1, 'Aurelio': 1, 'Palma': 1, 'Jacopo (il Giovane)': 1, 'Borch': 8, 'Gerard ter (I)': 2, 'Wandelaar': 1, 'Lombard': 1, 'Goudt': 1, 'Buys': 2, 'Jacobus': 4, 'Cats': 4, 'Jacob (1741-1799)': 4, 'Loo': 2, 'Pieter van': 2, 'Milatz': 1, 'Franciscus Andreas': 1, 'Schiavone': 1, 'Michele': 1, 'Boucher': 1, 'Tersteeg': 1, 'Procaccini': 1, 'Camillo': 1, 'Avercamp': 1, 'Kobell': 1, 'Jan (II)': 1, 'Boitard': 1, 'Ruyscher': 1, 'Steen': 1, 'Jan Havicksz.': 1, 'Noordt': 1, 'Jan van (1623-1676)': 1, 'Andriessen': 2, 'Christiaan': 1, 'Schouman': 2, 'Aert': 2, 'Jurriaan': 1, 'Wael': 1, 'Cornelis de': 1, 'Hoorn': 1, 'Jordanus': 1, 'Voet': 1, 'Carel Borchaert': 1, 'Gerard ter (II)': 1, 'Beijer': 2, 'Jan de': 3, 'Hermitage Meester': 1, 'Jan Maurits': 1, 'Cate': 1, 'Hendrik Gerrit ten': 1, 'Haen': 1, 'Abraham de (II)': 1, 'Steiger': 1, 'C.': 1, 'Moses ter': 2, 'Schouten': 1, 'Hermanus Petrus': 1, 'François Joseph (II)': 1, 'Cornelisz. genaamd Kunst': 1, 'Asselijn': 1, 'Drielst': 1, 'Egbert van': 1, 'Spilman': 1, 'Harmen ter': 3, 'Wijsman': 1, 'Badalocchio': 1, 'Sisto': 1, 'Poelenburch': 1, 'Horstink': 1, 'Warner': 1, 'Esselens': 1, 'Liender': 1, 'Paulus van': 1, 'Vinkeles': 1, 'Reinier': 1, 'Grasdorp': 1, 'Watteau': 1, 'Jean Antoine': 1, 'Luti': 1, 'Benedetto': 1, 'Stokvisch': 1, 'Weenix': 1, 'Jan Baptist': 8, 'Piranesi': 1, 'Giovanni Battista': 1, 'Zuccaro': 1, 'Federico': 1, 'Willem van de (II)': 1, 'Masurel': 1, 'A.': 1, 'Testa': 1, 'Pietro': 1, 'Verdier': 1, 'Numan': 1, 'Hermanus': 1, 'Wijck': 1, 'Thomas': 2, 'Drost': 1, 'Scaramuccia': 1, 'Luigi': 1, 'Teniers': 1, 'David (II)': 1, 'Cesi': 1, 'Bartolomeo': 2, 'Krausz': 2, 'Simon Andreas': 2, 'Stellingwerff': 1, 'Idserts': 1, 'Wel': 1, 'H. van': 1, 'Hendriks': 1, 'Wybrand': 1, 'Borssom': 1, 'Anthonie van': 1, 'Grave': 1, 'Josua de': 1, 'Uyl': 1, 'Jan Jansz. den (II)': 1, 'Berhuyzen': 1, 'Amman': 1, 'Jost': 1, 'Vlieger': 1, 'Simon de': 1, 'Moulinneuf': 1, 'H.A.': 1, 'Schwartzenbach': 1, 'Cooghen': 1, 'Leendert van der': 1, 'Pomarancio': 1, 'Cristoforo': 1, 'Overbeek': 1, 'M. van': 1, 'Saenredam': 1, 'Pieter Jansz.': 1, 'Munnickhuysen': 1, 'Johannes Willemsz.': 1, 'Asser': 21, 'Eduard Isaac': 21, 'Verveer': 2, 'Maurits': 2, 'Bingham': 10, 'Robert Jefferson': 10, 'Delamotte': 8, 'Philip Henry': 8, 'Ferrier & F. von Martens': 10, 'C.M.': 10, 'Tripe': 1, 'Linnaeus': 1, 'Hisgen & Co.': 7, 'O.': 7, 'Le Secq': 1, 'Henri': 1, 'Beattie': 1, 'John': 1, 'Braun': 1, 'Adolphe': 1, 'Munnich & Ermerins': 1, 'Salzmann': 4, 'Auguste': 4, 'Woodbury & Page': 19, 'Cameron': 1, 'Julia Margaret': 1, 'Emerson': 4, 'Peter Henry': 4, 'Pieterse': 1, 'Du Camp': 3, 'Maxime': 3, 'Nègre': 3, 'Charles': 8, 'Gaudin': 1, 'Marc Antoine': 1, 'Thompson': 6, 'Charles Thurston': 6, 'Beard': 2, 'Richard': 2, 'Owen': 2, 'Hugh': 2, 'Bisson Frères': 2, 'Cundall': 1, 'Downes & Co.': 1, 'Pecarrère': 1, 'Emile': 1, 'Le Gray': 1, 'Gustave': 1, 'Stelzner': 1, 'Carl Ferdinand': 1, 'Wegner & Mottu': 2, 'Stillfried und Ratenitz': 2, 'Baron Raimund von': 2, 'Ferrier': 1, 'Claude-Marie': 1, 'Bourne': 5, 'Samuel': 5, 'Nadar': 2, 'Félix': 1, 'England': 1, 'William': 2, 'Clifford': 3, 'Nasmyth': 1, 'James': 2, 'Bullock': 1, 'T.': 1, 'Alinari': 1, 'Fratelli': 1, 'Müller (fotograaf)': 1, 'Stoppelman': 1, 'Francis': 8, 'Krone': 3, 'Hermann': 3, 'Quinet': 2, 'Achille': 2, 'Whipple': 1, 'John Adams': 1, 'Chevalier': 1, 'Charles Louis': 1, 'Chevallier': 1, 'V. (Vincent)': 1, 'Callahan': 1, 'Harry': 1, 'Ross & Thomson': 1, 'Durand-Brager & Lassimonne': 1, 'Hanfstaengl': 1, 'Franz': 1, 'Löcherer': 1, 'Alois': 1, 'Frith': 5, 'Bembridge': 1, 'Bedford': 2, 'Houdoit': 1, 'Robertson': 1, 'Marville': 1, 'Aubry': 1, 'Faris': 1, 'Oosterhuis': 1, 'Fenton': 1, 'Roger': 1, 'Hill & Adamson': 1, 'Baldus': 1, 'Édouard Denis': 1, 'Barber & Marks': 1, 'Rensing': 1, 'Carl': 1, 'Shee': 3, 'Michiel Emanuel': 3, 'Artus (II)': 2, 'Artus': 1, 'Verhulst': 3, 'Rombout': 3, 'Klocker': 1, 'Xavery': 7, 'Moderno': 1, 'Bellano': 1, 'Chitqua': 1, 'Valdambrino': 1, 'Francesco di': 1, 'Lacomblé': 20, 'Eugène': 20, 'Roccatagliata': 2, 'Niccolò': 2, 'Wesel': 3, 'Logteren': 2, 'Ignatius van': 1, 'Delvaux': 1, 'Laurent': 1, 'Jayet': 1, 'Clément': 1, 'Camper': 1, 'Petrus': 1, 'Verrocchio': 1, 'Andrea del': 1, 'Robbia': 2, 'Luca della': 2, 'Chevré': 1, 'Paul Romain': 1, 'Troger': 8, 'Rustici': 1, 'Giovanni Francesco': 1, 'Meester van Coriolanus': 1, 'Vinckenbrinck': 1, 'Albert Jansz.': 1, 'Royer': 3, 'Meester van de Madonna van La Gleize': 1, 'Bartolini': 2, 'Lorenzo': 2, 'Gabriël': 1, 'Paulus Joseph': 1, 'Leenhoff': 2, 'Giambologna': 1, 'Aspetti': 1, 'Tiziano': 1, 'Gerhards': 1, 'Hubert': 1, 'Meester van Joachim en Anna': 2, 'Wall': 1, 'Willem Hendrik van der': 1, 'Xaveri': 3, 'Vries': 1, 'Adriaen de': 1, 'Desiderio da Settignano': 1, 'Meester van Ottobeuren': 1, 'Keyser': 1, 'Hendrik de (I)': 1, 'Dieussart': 1, 'Drentwett': 1, 'Abraham (I)': 1, 'Tissenaken': 1, 'Isaac': 1, 'Jan Claudius de': 1, 'Soldani Benzi': 1, 'Massimiliano': 1, 'Donatello': 1, 'Eggers': 1, 'Rossellino': 1, 'Antonio': 1, 'Quercia': 1, 'Jacopo della': 1, 'Tetrode': 1, 'Willem Danielsz. van': 1, 'Beest': 1, 'Ryck Hendrickszoon van': 1}\n",
            "1625\n"
          ]
        }
      ]
    },
    {
      "cell_type": "markdown",
      "metadata": {
        "id": "8hIX0CBUmgkE"
      },
      "source": [
        "# KNN"
      ]
    },
    {
      "cell_type": "code",
      "execution_count": null,
      "metadata": {
        "id": "ksIzy2s1_GGQ"
      },
      "outputs": [],
      "source": [
        "### create knn data_loader and make related preprocess###\n",
        "preprocess_knn = transforms.Compose([\n",
        "    transforms.ToPILImage(),\n",
        "    transforms.Resize((256,256)),\n",
        "    transforms.CenterCrop(224),\n",
        "    transforms.ToTensor(),\n",
        "    transforms.Normalize(mean=[0.485, 0.456, 0.406], std=[0.229, 0.224, 0.225]),\n",
        "])\n",
        "class train_set_knn(data.Dataset):\n",
        "  def __init__ (self,root_path=drive / 'dataset'):\n",
        "    self.image=[]\n",
        "    self.label=ground_truth\n",
        "\n",
        "    for i in range(1,973):\n",
        "      ###(H,W,C)###\n",
        "      img = cv2.imread(os.path.join(root_path, \"image_total\", \"%07d.jpg\" % i))\n",
        "      self.image.append(img)\n",
        "\n",
        "  def __len__(self):\n",
        "    return len(self.label)\n",
        "\n",
        "  def __getitem__(self, index):\n",
        "     image=self.image[index]\n",
        "     label=self.label[index]\n",
        "     #pil_image=Image.fromarray(image.astype(np.uint8))\n",
        "\n",
        "     return preprocess_knn(image),label\n",
        "\n",
        "class eva_set_knn(data.Dataset):\n",
        "  def __init__ (self,root_path=drive / 'dataset'):\n",
        "    self.image=[]\n",
        "    self.label=evaluate_truth\n",
        "\n",
        "    for i in range(1,16):\n",
        "      ###(H,W,C)###\n",
        "      img = cv2.imread(os.path.join(root_path, \"evaluate_image\", \"%03d.jpg\" % i))\n",
        "      self.image.append(img)\n",
        "\n",
        "  def __len__(self):\n",
        "    return len(self.label)\n",
        "\n",
        "  def __getitem__(self, index):\n",
        "     image=self.image[index]\n",
        "     label=self.label[index]\n",
        "     #pil_image=Image.fromarray(image.astype(np.uint8))\n",
        "\n",
        "     return preprocess_knn(image),label\n",
        "class test_set_knn(data.Dataset):\n",
        "  def __init__ (self,root_path=drive / 'dataset'):\n",
        "    self.image=[]\n",
        "    self.label=test_truth\n",
        "\n",
        "    for i in range(72):\n",
        "      ###(H,W,C)###\n",
        "      img = cv2.imread(os.path.join(root_path, \"new_test\", \"%03d.jpg\" % i))\n",
        "      self.image.append(img)\n",
        "\n",
        "  def __len__(self):\n",
        "    return len(self.label)\n",
        "\n",
        "  def __getitem__(self, index):\n",
        "     image=self.image[index]\n",
        "     label=self.label[index]\n",
        "     #pil_image=Image.fromarray(image.astype(np.uint8))\n",
        "\n",
        "     return preprocess_knn(image),label\n",
        "\n",
        "\n"
      ]
    },
    {
      "cell_type": "code",
      "execution_count": null,
      "metadata": {
        "id": "vxZ_LO-XI1RD"
      },
      "outputs": [],
      "source": [
        "##construct 3 dataloader###\n",
        "knn_train=train_set_knn()\n",
        "knn_evaluate=eva_set_knn()\n",
        "knn_test=test_set_knn()"
      ]
    },
    {
      "cell_type": "code",
      "execution_count": null,
      "metadata": {
        "colab": {
          "base_uri": "https://localhost:8080/"
        },
        "id": "P9i0mkDCG0LK",
        "outputId": "9c9dfde2-ddbf-4b70-b32d-fff6da089048"
      },
      "outputs": [
        {
          "output_type": "stream",
          "name": "stdout",
          "text": [
            "True\n"
          ]
        }
      ],
      "source": [
        "#a=hog(knn_train[1][0],multichannel=True)\n",
        "#a.shape\n",
        "c=np.transpose(knn_train[1][0].numpy(),(1,2,0))\n",
        "type(c)\n",
        "a=hog(c,multichannel=True)\n",
        "a.shape\n",
        "print(len(knn_test)==len(knn_test.label))"
      ]
    },
    {
      "cell_type": "code",
      "execution_count": null,
      "metadata": {
        "id": "l35exYjPCkNh"
      },
      "outputs": [],
      "source": [
        "#len(knn_train.image)==len(knn_train)\n",
        "#len(knn_test.image)==len(knn_test)\n",
        "###calculate hog features for KNN###\n",
        "\n",
        "hog_train=np.zeros((972,54756))\n",
        "hog_eva=np.zeros((15,54756))\n",
        "hog_test=np.zeros((72,54756))\n",
        "knn_train[1][0].shape\n",
        "\n",
        "for i in range(hog_train.shape[0]):\n",
        "  hog_train[i,:]=hog(np.transpose(knn_train[i][0].numpy(),(1,2,0)),multichannel=True)\n",
        "\n",
        "for j in range(hog_eva.shape[0]):\n",
        "  hog_eva[j,:]=hog(np.transpose(knn_evaluate[j][0].numpy(),(1,2,0)),multichannel=True)\n",
        "\n",
        "for k in range(hog_test.shape[0]):\n",
        "  hog_test[k,:]=hog(np.transpose(knn_test[k][0].numpy(),(1,2,0)),multichannel=True)\n"
      ]
    },
    {
      "cell_type": "code",
      "execution_count": null,
      "metadata": {
        "id": "9uUtngjLI89J"
      },
      "outputs": [],
      "source": [
        "hog_eval=np.zeros((45,54756))\n",
        "for i in range(hog_eval.shape[0]):\n",
        "  hog_eval[i,:]=hog(np.transpose(knn_train[(i+927)][0].numpy(),(1,2,0)),multichannel=True)"
      ]
    },
    {
      "cell_type": "code",
      "execution_count": null,
      "metadata": {
        "colab": {
          "base_uri": "https://localhost:8080/"
        },
        "id": "bgOeRzbeKM2U",
        "outputId": "85d9821b-dec8-4fba-b211-b59df0038553"
      },
      "outputs": [
        {
          "output_type": "execute_result",
          "data": {
            "text/plain": [
              "[2, 3, 4, 5]"
            ]
          },
          "metadata": {},
          "execution_count": 27
        }
      ],
      "source": [
        "len([i for i in range(928,973)])\n",
        "q=[i for i in range(928,973)]\n",
        "q[-1]\n",
        "z=[i for i in range(1,21)]\n",
        "z[1:5]"
      ]
    },
    {
      "cell_type": "code",
      "execution_count": null,
      "metadata": {
        "colab": {
          "base_uri": "https://localhost:8080/",
          "height": 298
        },
        "id": "68zXPj_OIVJC",
        "outputId": "1d7808dc-be09-4dcb-aafb-fb7c9ef1831e"
      },
      "outputs": [
        {
          "output_type": "stream",
          "name": "stdout",
          "text": [
            "the best n_neighbors is 10\n"
          ]
        },
        {
          "output_type": "display_data",
          "data": {
            "text/plain": [
              "<Figure size 432x288 with 1 Axes>"
            ],
            "image/png": "[encoded data removed]"
          },
          "metadata": {
            "needs_background": "light"
          }
        }
      ],
      "source": [
        "### use evaluate set to find best hyperparameters###\n",
        "mean_acc=[]\n",
        "neighbor_list=[i for i in range(1,21)]\n",
        "target=ground_truth\n",
        "target_eval=evaluate_truth\n",
        "for j in neighbor_list:\n",
        "  KNN_model=KNeighborsClassifier(n_neighbors=j)\n",
        "  KNN_model.fit(hog_train,target)\n",
        "  mean_acc.append(KNN_model.score(hog_eva,target_eval))\n",
        "\n",
        "plt.plot(neighbor_list,mean_acc,label='accuracy related with n_neighbors')\n",
        "plt.xlabel('n_neighbors')\n",
        "plt.ylabel('the accuracy')\n",
        "plt.grid()\n",
        "plt.legend()\n",
        "best_n=neighbor_list[np.argmax(mean_acc)]\n",
        "print(f'the best n_neighbors is {best_n}')\n"
      ]
    },
    {
      "cell_type": "code",
      "execution_count": null,
      "metadata": {
        "colab": {
          "base_uri": "https://localhost:8080/",
          "height": 366
        },
        "id": "NIfPNah9Ohfa",
        "outputId": "f4eaad13-89f1-4370-bd0f-a7edc7d4705c"
      },
      "outputs": [
        {
          "output_type": "stream",
          "name": "stdout",
          "text": [
            "the micro f1 score on test set is 0.5694444444444444\n",
            "the micro recall score on test set is 0.5694444444444444\n",
            "the micro precision score on test set is 0.5694444444444444\n",
            "the micro mean average precision score on test set is 0.5666666666666667\n"
          ]
        },
        {
          "output_type": "display_data",
          "data": {
            "text/plain": [
              "<Figure size 432x288 with 2 Axes>"
            ],
            "image/png": "[encoded data removed]"
          },
          "metadata": {
            "needs_background": "light"
          }
        }
      ],
      "source": [
        "###KNN model performance###\n",
        "KNN_model=KNeighborsClassifier(n_neighbors=best_n)\n",
        "KNN_model.fit(hog_train,target)\n",
        "predict_list=KNN_model.predict(hog_test)\n",
        "\n",
        "f1_c=f1_score(test_truth,predict_list,average='micro')\n",
        "\n",
        "recall = recall_score(test_truth,predict_list,average='micro')\n",
        "prec = precision_score(test_truth,predict_list,average='micro')\n",
        "mac = balanced_accuracy_score(test_truth,predict_list)\n",
        "con_mat=confusion_matrix(test_truth,predict_list)\n",
        "\n",
        "print(f'the micro f1 score on test set is {f1_c}')\n",
        "print(f'the micro recall score on test set is {recall}')\n",
        "print(f'the micro precision score on test set is {prec}')\n",
        "print(f'the micro mean average precision score on test set is {mac}')\n",
        "label_name=['pottery','print','painting','photo','sculpture']\n",
        "sns.heatmap(mat.T,square=True,annot=True,fmt='d',cbar=True,xticklabels=label_name,yticklabels=label_name)\n",
        "#plt.colorbar()\n",
        "plt.ylabel('predicted label')\n",
        "plt.xlabel('truth label')\n",
        "plt.title('Confusion matrix for KNN')\n",
        "plt.show()"
      ]
    }
  ],
  "metadata": {
    "accelerator": "GPU",
    "colab": {
      "machine_shape": "hm",
      "provenance": []
    },
    "kernelspec": {
      "display_name": "Python 3",
      "name": "python3"
    },
    "language_info": {
      "name": "python"
    },
    "widgets": {
      "application/vnd.jupyter.widget-state+json": {
        "3dd4c44d506c4b23a6c6baecf1d5a2cc": {
          "model_module": "@jupyter-widgets/controls",
          "model_name": "HBoxModel",
          "model_module_version": "1.5.0",
          "state": {
            "_dom_classes": [],
            "_model_module": "@jupyter-widgets/controls",
            "_model_module_version": "1.5.0",
            "_model_name": "HBoxModel",
            "_view_count": null,
            "_view_module": "@jupyter-widgets/controls",
            "_view_module_version": "1.5.0",
            "_view_name": "HBoxView",
            "box_style": "",
            "children": [
              "IPY_MODEL_bc7d2bb02cc346f3a4477535a404e612",
              "IPY_MODEL_8a1f13ae9af74da3a00f1842462eb197",
              "IPY_MODEL_7c951a5b509a4e1292947303505b35ac"
            ],
            "layout": "IPY_MODEL_dfd992c138c747b38737f2723e0d1038"
          }
        },
        "bc7d2bb02cc346f3a4477535a404e612": {
          "model_module": "@jupyter-widgets/controls",
          "model_name": "HTMLModel",
          "model_module_version": "1.5.0",
          "state": {
            "_dom_classes": [],
            "_model_module": "@jupyter-widgets/controls",
            "_model_module_version": "1.5.0",
            "_model_name": "HTMLModel",
            "_view_count": null,
            "_view_module": "@jupyter-widgets/controls",
            "_view_module_version": "1.5.0",
            "_view_name": "HTMLView",
            "description": "",
            "description_tooltip": null,
            "layout": "IPY_MODEL_d849936f6e97433ab170ed100cb5ca4e",
            "placeholder": "​",
            "style": "IPY_MODEL_e76bce16800d41d0a17fff7cf4f1694f",
            "value": "100%"
          }
        },
        "8a1f13ae9af74da3a00f1842462eb197": {
          "model_module": "@jupyter-widgets/controls",
          "model_name": "FloatProgressModel",
          "model_module_version": "1.5.0",
          "state": {
            "_dom_classes": [],
            "_model_module": "@jupyter-widgets/controls",
            "_model_module_version": "1.5.0",
            "_model_name": "FloatProgressModel",
            "_view_count": null,
            "_view_module": "@jupyter-widgets/controls",
            "_view_module_version": "1.5.0",
            "_view_name": "ProgressView",
            "bar_style": "success",
            "description": "",
            "description_tooltip": null,
            "layout": "IPY_MODEL_d252f8e7b5f8452eaf0adc320df01913",
            "max": 553433881,
            "min": 0,
            "orientation": "horizontal",
            "style": "IPY_MODEL_8a798e02ebc942f48dcad4841c9b8bc4",
            "value": 553433881
          }
        },
        "7c951a5b509a4e1292947303505b35ac": {
          "model_module": "@jupyter-widgets/controls",
          "model_name": "HTMLModel",
          "model_module_version": "1.5.0",
          "state": {
            "_dom_classes": [],
            "_model_module": "@jupyter-widgets/controls",
            "_model_module_version": "1.5.0",
            "_model_name": "HTMLModel",
            "_view_count": null,
            "_view_module": "@jupyter-widgets/controls",
            "_view_module_version": "1.5.0",
            "_view_name": "HTMLView",
            "description": "",
            "description_tooltip": null,
            "layout": "IPY_MODEL_d34d96cdeb66455a86557b03f9658469",
            "placeholder": "​",
            "style": "IPY_MODEL_87fe54fec4a14e148ae337dbee30f8ac",
            "value": " 528M/528M [00:02&lt;00:00, 280MB/s]"
          }
        },
        "dfd992c138c747b38737f2723e0d1038": {
          "model_module": "@jupyter-widgets/base",
          "model_name": "LayoutModel",
          "model_module_version": "1.2.0",
          "state": {
            "_model_module": "@jupyter-widgets/base",
            "_model_module_version": "1.2.0",
            "_model_name": "LayoutModel",
            "_view_count": null,
            "_view_module": "@jupyter-widgets/base",
            "_view_module_version": "1.2.0",
            "_view_name": "LayoutView",
            "align_content": null,
            "align_items": null,
            "align_self": null,
            "border": null,
            "bottom": null,
            "display": null,
            "flex": null,
            "flex_flow": null,
            "grid_area": null,
            "grid_auto_columns": null,
            "grid_auto_flow": null,
            "grid_auto_rows": null,
            "grid_column": null,
            "grid_gap": null,
            "grid_row": null,
            "grid_template_areas": null,
            "grid_template_columns": null,
            "grid_template_rows": null,
            "height": null,
            "justify_content": null,
            "justify_items": null,
            "left": null,
            "margin": null,
            "max_height": null,
            "max_width": null,
            "min_height": null,
            "min_width": null,
            "object_fit": null,
            "object_position": null,
            "order": null,
            "overflow": null,
            "overflow_x": null,
            "overflow_y": null,
            "padding": null,
            "right": null,
            "top": null,
            "visibility": null,
            "width": null
          }
        },
        "d849936f6e97433ab170ed100cb5ca4e": {
          "model_module": "@jupyter-widgets/base",
          "model_name": "LayoutModel",
          "model_module_version": "1.2.0",
          "state": {
            "_model_module": "@jupyter-widgets/base",
            "_model_module_version": "1.2.0",
            "_model_name": "LayoutModel",
            "_view_count": null,
            "_view_module": "@jupyter-widgets/base",
            "_view_module_version": "1.2.0",
            "_view_name": "LayoutView",
            "align_content": null,
            "align_items": null,
            "align_self": null,
            "border": null,
            "bottom": null,
            "display": null,
            "flex": null,
            "flex_flow": null,
            "grid_area": null,
            "grid_auto_columns": null,
            "grid_auto_flow": null,
            "grid_auto_rows": null,
            "grid_column": null,
            "grid_gap": null,
            "grid_row": null,
            "grid_template_areas": null,
            "grid_template_columns": null,
            "grid_template_rows": null,
            "height": null,
            "justify_content": null,
            "justify_items": null,
            "left": null,
            "margin": null,
            "max_height": null,
            "max_width": null,
            "min_height": null,
            "min_width": null,
            "object_fit": null,
            "object_position": null,
            "order": null,
            "overflow": null,
            "overflow_x": null,
            "overflow_y": null,
            "padding": null,
            "right": null,
            "top": null,
            "visibility": null,
            "width": null
          }
        },
        "e76bce16800d41d0a17fff7cf4f1694f": {
          "model_module": "@jupyter-widgets/controls",
          "model_name": "DescriptionStyleModel",
          "model_module_version": "1.5.0",
          "state": {
            "_model_module": "@jupyter-widgets/controls",
            "_model_module_version": "1.5.0",
            "_model_name": "DescriptionStyleModel",
            "_view_count": null,
            "_view_module": "@jupyter-widgets/base",
            "_view_module_version": "1.2.0",
            "_view_name": "StyleView",
            "description_width": ""
          }
        },
        "d252f8e7b5f8452eaf0adc320df01913": {
          "model_module": "@jupyter-widgets/base",
          "model_name": "LayoutModel",
          "model_module_version": "1.2.0",
          "state": {
            "_model_module": "@jupyter-widgets/base",
            "_model_module_version": "1.2.0",
            "_model_name": "LayoutModel",
            "_view_count": null,
            "_view_module": "@jupyter-widgets/base",
            "_view_module_version": "1.2.0",
            "_view_name": "LayoutView",
            "align_content": null,
            "align_items": null,
            "align_self": null,
            "border": null,
            "bottom": null,
            "display": null,
            "flex": null,
            "flex_flow": null,
            "grid_area": null,
            "grid_auto_columns": null,
            "grid_auto_flow": null,
            "grid_auto_rows": null,
            "grid_column": null,
            "grid_gap": null,
            "grid_row": null,
            "grid_template_areas": null,
            "grid_template_columns": null,
            "grid_template_rows": null,
            "height": null,
            "justify_content": null,
            "justify_items": null,
            "left": null,
            "margin": null,
            "max_height": null,
            "max_width": null,
            "min_height": null,
            "min_width": null,
            "object_fit": null,
            "object_position": null,
            "order": null,
            "overflow": null,
            "overflow_x": null,
            "overflow_y": null,
            "padding": null,
            "right": null,
            "top": null,
            "visibility": null,
            "width": null
          }
        },
        "8a798e02ebc942f48dcad4841c9b8bc4": {
          "model_module": "@jupyter-widgets/controls",
          "model_name": "ProgressStyleModel",
          "model_module_version": "1.5.0",
          "state": {
            "_model_module": "@jupyter-widgets/controls",
            "_model_module_version": "1.5.0",
            "_model_name": "ProgressStyleModel",
            "_view_count": null,
            "_view_module": "@jupyter-widgets/base",
            "_view_module_version": "1.2.0",
            "_view_name": "StyleView",
            "bar_color": null,
            "description_width": ""
          }
        },
        "d34d96cdeb66455a86557b03f9658469": {
          "model_module": "@jupyter-widgets/base",
          "model_name": "LayoutModel",
          "model_module_version": "1.2.0",
          "state": {
            "_model_module": "@jupyter-widgets/base",
            "_model_module_version": "1.2.0",
            "_model_name": "LayoutModel",
            "_view_count": null,
            "_view_module": "@jupyter-widgets/base",
            "_view_module_version": "1.2.0",
            "_view_name": "LayoutView",
            "align_content": null,
            "align_items": null,
            "align_self": null,
            "border": null,
            "bottom": null,
            "display": null,
            "flex": null,
            "flex_flow": null,
            "grid_area": null,
            "grid_auto_columns": null,
            "grid_auto_flow": null,
            "grid_auto_rows": null,
            "grid_column": null,
            "grid_gap": null,
            "grid_row": null,
            "grid_template_areas": null,
            "grid_template_columns": null,
            "grid_template_rows": null,
            "height": null,
            "justify_content": null,
            "justify_items": null,
            "left": null,
            "margin": null,
            "max_height": null,
            "max_width": null,
            "min_height": null,
            "min_width": null,
            "object_fit": null,
            "object_position": null,
            "order": null,
            "overflow": null,
            "overflow_x": null,
            "overflow_y": null,
            "padding": null,
            "right": null,
            "top": null,
            "visibility": null,
            "width": null
          }
        },
        "87fe54fec4a14e148ae337dbee30f8ac": {
          "model_module": "@jupyter-widgets/controls",
          "model_name": "DescriptionStyleModel",
          "model_module_version": "1.5.0",
          "state": {
            "_model_module": "@jupyter-widgets/controls",
            "_model_module_version": "1.5.0",
            "_model_name": "DescriptionStyleModel",
            "_view_count": null,
            "_view_module": "@jupyter-widgets/base",
            "_view_module_version": "1.2.0",
            "_view_name": "StyleView",
            "description_width": ""
          }
        },
        "45ccfba9305a41c5a0573aa6c2771f86": {
          "model_module": "@jupyter-widgets/controls",
          "model_name": "HBoxModel",
          "model_module_version": "1.5.0",
          "state": {
            "_dom_classes": [],
            "_model_module": "@jupyter-widgets/controls",
            "_model_module_version": "1.5.0",
            "_model_name": "HBoxModel",
            "_view_count": null,
            "_view_module": "@jupyter-widgets/controls",
            "_view_module_version": "1.5.0",
            "_view_name": "HBoxView",
            "box_style": "",
            "children": [
              "IPY_MODEL_e9a8d59a141649c8a20183230239111a",
              "IPY_MODEL_c13ea35d20e44f149c4371cc07ffc373",
              "IPY_MODEL_2ac2e89f2b4143f88bc3f1d06d782e6a"
            ],
            "layout": "IPY_MODEL_ea3dc25ade8b477493aa9ba832317a5c"
          }
        },
        "e9a8d59a141649c8a20183230239111a": {
          "model_module": "@jupyter-widgets/controls",
          "model_name": "HTMLModel",
          "model_module_version": "1.5.0",
          "state": {
            "_dom_classes": [],
            "_model_module": "@jupyter-widgets/controls",
            "_model_module_version": "1.5.0",
            "_model_name": "HTMLModel",
            "_view_count": null,
            "_view_module": "@jupyter-widgets/controls",
            "_view_module_version": "1.5.0",
            "_view_name": "HTMLView",
            "description": "",
            "description_tooltip": null,
            "layout": "IPY_MODEL_bbe9561d21b041f3963254f0855825a8",
            "placeholder": "​",
            "style": "IPY_MODEL_39aea0649e7c4daab6e79333258989c9",
            "value": "100%"
          }
        },
        "c13ea35d20e44f149c4371cc07ffc373": {
          "model_module": "@jupyter-widgets/controls",
          "model_name": "FloatProgressModel",
          "model_module_version": "1.5.0",
          "state": {
            "_dom_classes": [],
            "_model_module": "@jupyter-widgets/controls",
            "_model_module_version": "1.5.0",
            "_model_name": "FloatProgressModel",
            "_view_count": null,
            "_view_module": "@jupyter-widgets/controls",
            "_view_module_version": "1.5.0",
            "_view_name": "ProgressView",
            "bar_style": "success",
            "description": "",
            "description_tooltip": null,
            "layout": "IPY_MODEL_1a79f1a63aa04cd7b51f914bd8db8053",
            "max": 102491118,
            "min": 0,
            "orientation": "horizontal",
            "style": "IPY_MODEL_81c0be338b8d492cbd2d3c6be2eec30e",
            "value": 102491118
          }
        },
        "2ac2e89f2b4143f88bc3f1d06d782e6a": {
          "model_module": "@jupyter-widgets/controls",
          "model_name": "HTMLModel",
          "model_module_version": "1.5.0",
          "state": {
            "_dom_classes": [],
            "_model_module": "@jupyter-widgets/controls",
            "_model_module_version": "1.5.0",
            "_model_name": "HTMLModel",
            "_view_count": null,
            "_view_module": "@jupyter-widgets/controls",
            "_view_module_version": "1.5.0",
            "_view_name": "HTMLView",
            "description": "",
            "description_tooltip": null,
            "layout": "IPY_MODEL_a4ab5012374b4a35a0caedb1a271fb94",
            "placeholder": "​",
            "style": "IPY_MODEL_a87bb0ce773c4e7ebc4603e879e184a5",
            "value": " 97.7M/97.7M [00:05&lt;00:00, 21.7MB/s]"
          }
        },
        "ea3dc25ade8b477493aa9ba832317a5c": {
          "model_module": "@jupyter-widgets/base",
          "model_name": "LayoutModel",
          "model_module_version": "1.2.0",
          "state": {
            "_model_module": "@jupyter-widgets/base",
            "_model_module_version": "1.2.0",
            "_model_name": "LayoutModel",
            "_view_count": null,
            "_view_module": "@jupyter-widgets/base",
            "_view_module_version": "1.2.0",
            "_view_name": "LayoutView",
            "align_content": null,
            "align_items": null,
            "align_self": null,
            "border": null,
            "bottom": null,
            "display": null,
            "flex": null,
            "flex_flow": null,
            "grid_area": null,
            "grid_auto_columns": null,
            "grid_auto_flow": null,
            "grid_auto_rows": null,
            "grid_column": null,
            "grid_gap": null,
            "grid_row": null,
            "grid_template_areas": null,
            "grid_template_columns": null,
            "grid_template_rows": null,
            "height": null,
            "justify_content": null,
            "justify_items": null,
            "left": null,
            "margin": null,
            "max_height": null,
            "max_width": null,
            "min_height": null,
            "min_width": null,
            "object_fit": null,
            "object_position": null,
            "order": null,
            "overflow": null,
            "overflow_x": null,
            "overflow_y": null,
            "padding": null,
            "right": null,
            "top": null,
            "visibility": null,
            "width": null
          }
        },
        "bbe9561d21b041f3963254f0855825a8": {
          "model_module": "@jupyter-widgets/base",
          "model_name": "LayoutModel",
          "model_module_version": "1.2.0",
          "state": {
            "_model_module": "@jupyter-widgets/base",
            "_model_module_version": "1.2.0",
            "_model_name": "LayoutModel",
            "_view_count": null,
            "_view_module": "@jupyter-widgets/base",
            "_view_module_version": "1.2.0",
            "_view_name": "LayoutView",
            "align_content": null,
            "align_items": null,
            "align_self": null,
            "border": null,
            "bottom": null,
            "display": null,
            "flex": null,
            "flex_flow": null,
            "grid_area": null,
            "grid_auto_columns": null,
            "grid_auto_flow": null,
            "grid_auto_rows": null,
            "grid_column": null,
            "grid_gap": null,
            "grid_row": null,
            "grid_template_areas": null,
            "grid_template_columns": null,
            "grid_template_rows": null,
            "height": null,
            "justify_content": null,
            "justify_items": null,
            "left": null,
            "margin": null,
            "max_height": null,
            "max_width": null,
            "min_height": null,
            "min_width": null,
            "object_fit": null,
            "object_position": null,
            "order": null,
            "overflow": null,
            "overflow_x": null,
            "overflow_y": null,
            "padding": null,
            "right": null,
            "top": null,
            "visibility": null,
            "width": null
          }
        },
        "39aea0649e7c4daab6e79333258989c9": {
          "model_module": "@jupyter-widgets/controls",
          "model_name": "DescriptionStyleModel",
          "model_module_version": "1.5.0",
          "state": {
            "_model_module": "@jupyter-widgets/controls",
            "_model_module_version": "1.5.0",
            "_model_name": "DescriptionStyleModel",
            "_view_count": null,
            "_view_module": "@jupyter-widgets/base",
            "_view_module_version": "1.2.0",
            "_view_name": "StyleView",
            "description_width": ""
          }
        },
        "1a79f1a63aa04cd7b51f914bd8db8053": {
          "model_module": "@jupyter-widgets/base",
          "model_name": "LayoutModel",
          "model_module_version": "1.2.0",
          "state": {
            "_model_module": "@jupyter-widgets/base",
            "_model_module_version": "1.2.0",
            "_model_name": "LayoutModel",
            "_view_count": null,
            "_view_module": "@jupyter-widgets/base",
            "_view_module_version": "1.2.0",
            "_view_name": "LayoutView",
            "align_content": null,
            "align_items": null,
            "align_self": null,
            "border": null,
            "bottom": null,
            "display": null,
            "flex": null,
            "flex_flow": null,
            "grid_area": null,
            "grid_auto_columns": null,
            "grid_auto_flow": null,
            "grid_auto_rows": null,
            "grid_column": null,
            "grid_gap": null,
            "grid_row": null,
            "grid_template_areas": null,
            "grid_template_columns": null,
            "grid_template_rows": null,
            "height": null,
            "justify_content": null,
            "justify_items": null,
            "left": null,
            "margin": null,
            "max_height": null,
            "max_width": null,
            "min_height": null,
            "min_width": null,
            "object_fit": null,
            "object_position": null,
            "order": null,
            "overflow": null,
            "overflow_x": null,
            "overflow_y": null,
            "padding": null,
            "right": null,
            "top": null,
            "visibility": null,
            "width": null
          }
        },
        "81c0be338b8d492cbd2d3c6be2eec30e": {
          "model_module": "@jupyter-widgets/controls",
          "model_name": "ProgressStyleModel",
          "model_module_version": "1.5.0",
          "state": {
            "_model_module": "@jupyter-widgets/controls",
            "_model_module_version": "1.5.0",
            "_model_name": "ProgressStyleModel",
            "_view_count": null,
            "_view_module": "@jupyter-widgets/base",
            "_view_module_version": "1.2.0",
            "_view_name": "StyleView",
            "bar_color": null,
            "description_width": ""
          }
        },
        "a4ab5012374b4a35a0caedb1a271fb94": {
          "model_module": "@jupyter-widgets/base",
          "model_name": "LayoutModel",
          "model_module_version": "1.2.0",
          "state": {
            "_model_module": "@jupyter-widgets/base",
            "_model_module_version": "1.2.0",
            "_model_name": "LayoutModel",
            "_view_count": null,
            "_view_module": "@jupyter-widgets/base",
            "_view_module_version": "1.2.0",
            "_view_name": "LayoutView",
            "align_content": null,
            "align_items": null,
            "align_self": null,
            "border": null,
            "bottom": null,
            "display": null,
            "flex": null,
            "flex_flow": null,
            "grid_area": null,
            "grid_auto_columns": null,
            "grid_auto_flow": null,
            "grid_auto_rows": null,
            "grid_column": null,
            "grid_gap": null,
            "grid_row": null,
            "grid_template_areas": null,
            "grid_template_columns": null,
            "grid_template_rows": null,
            "height": null,
            "justify_content": null,
            "justify_items": null,
            "left": null,
            "margin": null,
            "max_height": null,
            "max_width": null,
            "min_height": null,
            "min_width": null,
            "object_fit": null,
            "object_position": null,
            "order": null,
            "overflow": null,
            "overflow_x": null,
            "overflow_y": null,
            "padding": null,
            "right": null,
            "top": null,
            "visibility": null,
            "width": null
          }
        },
        "a87bb0ce773c4e7ebc4603e879e184a5": {
          "model_module": "@jupyter-widgets/controls",
          "model_name": "DescriptionStyleModel",
          "model_module_version": "1.5.0",
          "state": {
            "_model_module": "@jupyter-widgets/controls",
            "_model_module_version": "1.5.0",
            "_model_name": "DescriptionStyleModel",
            "_view_count": null,
            "_view_module": "@jupyter-widgets/base",
            "_view_module_version": "1.2.0",
            "_view_name": "StyleView",
            "description_width": ""
          }
        }
      }
    }
  },
  "nbformat": 4,
  "nbformat_minor": 0
}