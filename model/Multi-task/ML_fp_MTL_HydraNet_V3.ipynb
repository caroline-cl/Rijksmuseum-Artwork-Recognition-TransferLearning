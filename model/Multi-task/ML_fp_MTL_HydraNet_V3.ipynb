{
  "cells": [
    {
      "cell_type": "markdown",
      "source": [
        "# Imports"
      ],
      "metadata": {
        "id": "Ktlp16SELJgi"
      }
    },
    {
      "cell_type": "code",
      "execution_count": null,
      "metadata": {
        "id": "gFxWltiS-phJ"
      },
      "outputs": [],
      "source": [
        "import os\n",
        "import pickle\n",
        "from collections import OrderedDict\n",
        "import torch\n",
        "from torch.utils.data import DataLoader\n",
        "from torchvision.utils import save_image\n",
        "import torch.nn as nn\n",
        "import cv2\n",
        "import random\n",
        "import torchvision.transforms as transforms\n",
        "from torch.utils import data\n",
        "from torch.nn import functional as F\n",
        "from torchvision import models\n",
        "import matplotlib.pyplot as plt\n",
        "import pandas as pd\n",
        "import torchvision\n",
        "import numpy as np\n",
        "import torch.optim as optim\n",
        "import torchvision.datasets as td\n",
        "from torchvision import transforms\n",
        "from PIL import Image\n",
        "from skimage.feature import hog as hog\n",
        "from sklearn.model_selection import cross_val_score\n",
        "from sklearn.neighbors import KNeighborsClassifier\n",
        "from sklearn.metrics import plot_confusion_matrix,f1_score, accuracy_score, average_precision_score\n",
        "from sklearn.preprocessing import OneHotEncoder, MultiLabelBinarizer, LabelEncoder"
      ]
    },
    {
      "cell_type": "code",
      "execution_count": null,
      "metadata": {
        "colab": {
          "base_uri": "https://localhost:8080/"
        },
        "id": "lxspDmUS91Oi",
        "outputId": "334629b7-303c-474c-ef4a-4c73c04d37b6"
      },
      "outputs": [
        {
          "output_type": "stream",
          "name": "stdout",
          "text": [
            "Mounted at /content/drive\n"
          ]
        }
      ],
      "source": [
        "from google.colab import drive\n",
        "import pathlib\n",
        "\n",
        "drive.mount('/content/drive', force_remount=True)\n",
        "\n",
        "drive = pathlib.Path('./drive/MyDrive') / 'ML_Project' / 'ML_FP_2022'"
      ]
    },
    {
      "cell_type": "markdown",
      "metadata": {
        "id": "k6spRVWl98fQ"
      },
      "source": [
        "# Load data"
      ]
    },
    {
      "cell_type": "code",
      "execution_count": null,
      "metadata": {
        "id": "b5X16h3AUf8Y"
      },
      "outputs": [],
      "source": [
        "with open(drive / \"data2022\" / \"multi-task\" / \"label_v1\" / \"eval_label.pickle\", 'rb') as pickle_file:\n",
        "  eval_ = pickle.load(pickle_file)\n",
        "pickle_file.close()\n",
        "\n",
        "with open(drive / \"data2022\" / \"multi-task\" / \"label_v1\" / \"test_label.pickle\", 'rb') as pickle_file:\n",
        "  test_ = pickle.load(pickle_file)\n",
        "pickle_file.close()\n",
        "\n",
        "with open(drive / \"data2022\" / \"multi-task\" / \"label_v1\" / \"train_label.pickle\", 'rb') as pickle_file:\n",
        "  train_ = pickle.load(pickle_file)\n",
        "pickle_file.close()"
      ]
    },
    {
      "cell_type": "markdown",
      "metadata": {
        "id": "_m8rphcE9_Q4"
      },
      "source": [
        "# Define preprocessor and label encoder"
      ]
    },
    {
      "cell_type": "code",
      "execution_count": null,
      "metadata": {
        "colab": {
          "base_uri": "https://localhost:8080/"
        },
        "id": "rGHJUWS4U7kK",
        "outputId": "1b3bea59-f3c8-43be-d2bc-64c203faef63"
      },
      "outputs": [
        {
          "output_type": "execute_result",
          "data": {
            "text/plain": [
              "MultiLabelBinarizer()"
            ]
          },
          "metadata": {},
          "execution_count": 5
        }
      ],
      "source": [
        "#data augmentation, define image preprocessor\n",
        "preprocess = transforms.Compose([\n",
        "    transforms.ToPILImage(),\n",
        "    transforms.Resize((256, 256)),\n",
        "    transforms.CenterCrop(224),\n",
        "    transforms.ToTensor(),\n",
        "    transforms.Normalize(mean=[0.485, 0.456, 0.406], std=[0.229, 0.224, 0.225])\n",
        "   \n",
        "])\n",
        "\n",
        "labels_c = train_['creator']+test_['creator']+eval_['creator']\n",
        "encoder_c = LabelEncoder()\n",
        "encoder_c.fit(labels_c)\n",
        "\n",
        "labels_m = train_['material']+test_['material']+eval_['material']\n",
        "encoder_m = MultiLabelBinarizer()\n",
        "encoder_m.fit(labels_m)\n",
        "\n",
        "labels_t = train_['type']+test_['type']+eval_['type']\n",
        "encoder_t = MultiLabelBinarizer()\n",
        "encoder_t.fit(labels_t)"
      ]
    },
    {
      "cell_type": "code",
      "execution_count": null,
      "metadata": {
        "colab": {
          "base_uri": "https://localhost:8080/"
        },
        "id": "pqszz2Ac-J2x",
        "outputId": "6a8c2caa-7d7d-4287-d580-1161f7280253"
      },
      "outputs": [
        {
          "output_type": "execute_result",
          "data": {
            "text/plain": [
              "array(['Callot, Jacques', 'Collaert, Adriaen', 'Fokke, Simon',\n",
              "       'Galle, Philips', 'Gheyn, Jacob de (II)', 'Goltzius, Hendrick',\n",
              "       'Hogenberg, Frans', 'Hooghe, Romeyn de', 'Houbraken, Jacob',\n",
              "       'Luyken, Jan', 'Meissener Porzellan Manufaktur',\n",
              "       'Passe, Crispijn van de (I)', 'Picart, Bernard',\n",
              "       'Rembrandt Harmensz. van Rijn', 'Vinkeles, Reinier'], dtype='<U30')"
            ]
          },
          "metadata": {},
          "execution_count": 6
        }
      ],
      "source": [
        "encoder_c.classes_"
      ]
    },
    {
      "cell_type": "code",
      "execution_count": null,
      "metadata": {
        "colab": {
          "base_uri": "https://localhost:8080/"
        },
        "id": "lKFngBq5DXZM",
        "outputId": "d4aa1fb3-14ae-4314-9e19-2e93ef2b01ff"
      },
      "outputs": [
        {
          "output_type": "stream",
          "name": "stdout",
          "text": [
            "(15,)\n"
          ]
        }
      ],
      "source": [
        "print(encoder_c.classes_.shape)"
      ]
    },
    {
      "cell_type": "code",
      "execution_count": null,
      "metadata": {
        "colab": {
          "base_uri": "https://localhost:8080/"
        },
        "id": "sASAeA79byce",
        "outputId": "66052fc3-cdc6-4aec-9f20-20c70694548f"
      },
      "outputs": [
        {
          "output_type": "execute_result",
          "data": {
            "text/plain": [
              "array(['Japans papier', 'dekverf', 'doek', 'ebbenhout', 'eikenhout',\n",
              "       'fluweel', 'goud', 'hout', 'inkt', 'koper', 'krijt', 'leer',\n",
              "       'olieverf', 'paneel', 'papier', 'porselein', 'potlood', 'staal',\n",
              "       'steengoed', 'verf', 'waterverf', 'zilver'], dtype=object)"
            ]
          },
          "metadata": {},
          "execution_count": 8
        }
      ],
      "source": [
        "encoder_m.classes_"
      ]
    },
    {
      "cell_type": "code",
      "execution_count": null,
      "metadata": {
        "colab": {
          "base_uri": "https://localhost:8080/"
        },
        "id": "qVgLJluyDcyc",
        "outputId": "b49909d3-5de8-4a43-988a-2ae3ea8aa0d8"
      },
      "outputs": [
        {
          "output_type": "stream",
          "name": "stdout",
          "text": [
            "(22,)\n"
          ]
        }
      ],
      "source": [
        "print(encoder_m.classes_.shape)"
      ]
    },
    {
      "cell_type": "code",
      "execution_count": null,
      "metadata": {
        "colab": {
          "base_uri": "https://localhost:8080/"
        },
        "id": "XWPel7FD-G_x",
        "outputId": "599d9740-01ce-4342-a867-65f1110f4301"
      },
      "outputs": [
        {
          "output_type": "execute_result",
          "data": {
            "text/plain": [
              "array(['adreskaart', 'album', 'albumblad', 'almanak', 'beker',\n",
              "       'bestekfoedraal', 'bierpul', 'boek', 'boekillustratie',\n",
              "       'bord (vaatwerk)', 'boterspaan', 'brief', 'chocoladekan',\n",
              "       'chocoladekop', 'dessertbord', 'dienblad', 'eet- en drinkgerei',\n",
              "       'embleem', 'fragment', 'frontispice', 'handschrift',\n",
              "       'historieplaat', 'historieprent', 'historisch objectvoorstelling',\n",
              "       'huwelijksprent', 'kaart', 'kan', 'koffie- en theeservies',\n",
              "       'koffiekan', 'kom', 'kop', 'kop-en-schotel', 'kostuumprent',\n",
              "       'lepel', 'lidmaatschapsbewijs', 'loterijprent', 'maculatuur',\n",
              "       'melkkan', 'modeprent', 'nieuwsprent', 'ontwerp', 'ornamentprent',\n",
              "       'pamflet', 'pattipan', 'plattegrond', 'portret', 'prent',\n",
              "       'proefdruk (prent)', 'promotieprent', 'propagandaprent',\n",
              "       'reisbestek', 'sauskom', 'schaal (objectnaam)', 'schilderij',\n",
              "       'schotel', 'servies', 'soepbord', 'specerijdoos', 'spoelkom',\n",
              "       'spotprent', 'suikerbak', 'suikerdoos', 'suikerpot', 'tafelbel',\n",
              "       'tekening', 'tekstblad', 'terrine', 'theebus', 'theepot',\n",
              "       'titelblad', 'titelpagina', 'titelprent', 'trembleuse',\n",
              "       'vervalsing', 'vignet', 'zoutvat'], dtype=object)"
            ]
          },
          "metadata": {},
          "execution_count": 10
        }
      ],
      "source": [
        "encoder_t.classes_"
      ]
    },
    {
      "cell_type": "code",
      "execution_count": null,
      "metadata": {
        "colab": {
          "base_uri": "https://localhost:8080/"
        },
        "id": "i0z6hGB1DfPM",
        "outputId": "e8c0aac9-670f-4d4c-99ee-3b8623942129"
      },
      "outputs": [
        {
          "output_type": "stream",
          "name": "stdout",
          "text": [
            "(76,)\n"
          ]
        }
      ],
      "source": [
        "print(encoder_t.classes_.shape)"
      ]
    },
    {
      "cell_type": "markdown",
      "metadata": {
        "id": "BB-VJ2cd-M3J"
      },
      "source": [
        "# Dataset"
      ]
    },
    {
      "cell_type": "code",
      "execution_count": null,
      "metadata": {
        "id": "ki1ruYvO-PHR"
      },
      "outputs": [],
      "source": [
        "class train_dataset():\n",
        "  def __init__(self, dict_ = train_, encoder = [encoder_c, encoder_m, encoder_t]):\n",
        "    #load data\n",
        "    self.transform = preprocess\n",
        "    self.image = dict_['identifier']\n",
        "    self.creator = encoder[0].transform(dict_['creator'])\n",
        "    self.material = encoder[1].transform(dict_['material'])\n",
        "    self.art_type = encoder[2].transform(dict_['type'])\n",
        "    \n",
        "  def __len__(self):\n",
        "    return len(self.image)\n",
        "\n",
        "  def __getitem__(self, index, img_path=drive / \"data2022\" / \"multi-task\" / 'data' / \"train set new\"):\n",
        "    # img augmentation\n",
        "    img = cv2.imread(os.path.join(img_path / self.image[index]))\n",
        "    img = self.transform(img)\n",
        "    \n",
        "    #label\n",
        "    creator = self.creator[index]\n",
        "    material = self.material[index]\n",
        "    art_type = self.art_type[index]\n",
        "\n",
        "    sample = {'image' : img, 'creator' : creator, 'material' : material, 'type' : art_type}\n",
        "    return sample"
      ]
    },
    {
      "cell_type": "code",
      "execution_count": null,
      "metadata": {
        "id": "Tj5uLvK9-RIh"
      },
      "outputs": [],
      "source": [
        "class test_dataset():\n",
        "  def __init__(self, dict_ = test_, encoder = [encoder_c, encoder_m, encoder_t]):\n",
        "    #load data\n",
        "    self.transform = preprocess\n",
        "    self.image = dict_['identifier']\n",
        "    self.creator = encoder[0].transform(dict_['creator'])\n",
        "    self.material = encoder[1].transform(dict_['material'])\n",
        "    self.art_type = encoder[2].transform(dict_['type'])\n",
        "    \n",
        "  def __len__(self):\n",
        "    return len(self.image)\n",
        "\n",
        "  def __getitem__(self, index, img_path=drive / \"data2022\" / \"multi-task\" / 'data' / \"test set\"):\n",
        "    # img augmentation\n",
        "    img = cv2.imread(os.path.join(img_path / self.image[index]))\n",
        "    img = self.transform(img)\n",
        "    \n",
        "    #label\n",
        "    creator = self.creator[index]\n",
        "    material = self.material[index]\n",
        "    art_type = self.art_type[index]\n",
        "\n",
        "    sample = {'image' : img, 'creator' : creator, 'material' : material, 'type' : art_type}\n",
        "    return sample"
      ]
    },
    {
      "cell_type": "code",
      "execution_count": null,
      "metadata": {
        "id": "I28B1FuI-S4K"
      },
      "outputs": [],
      "source": [
        "class val_dataset():\n",
        "  def __init__(self, dict_ = eval_, encoder = [encoder_c, encoder_m, encoder_t]):\n",
        "    #load data\n",
        "    self.transform = preprocess\n",
        "    self.image = dict_['identifier']\n",
        "    self.creator = encoder[0].transform(dict_['creator'])\n",
        "    self.material = encoder[1].transform(dict_['material'])\n",
        "    self.art_type = encoder[2].transform(dict_['type'])\n",
        "    \n",
        "  def __len__(self):\n",
        "    return len(self.image)\n",
        "\n",
        "  def __getitem__(self, index, img_path=drive / \"data2022\" / \"multi-task\" / 'data' / \"eval set\"):\n",
        "    # img augmentation\n",
        "    img = cv2.imread(os.path.join(img_path / self.image[index]))\n",
        "    img = self.transform(img)\n",
        "    \n",
        "    #label\n",
        "    creator = self.creator[index]\n",
        "    material = self.material[index]\n",
        "    art_type = self.art_type[index]\n",
        "\n",
        "    sample = {'image' : img, 'creator' : creator, 'material' : material, 'type' : art_type}\n",
        "    return sample"
      ]
    },
    {
      "cell_type": "code",
      "execution_count": null,
      "metadata": {
        "id": "MydywQwu-WlC"
      },
      "outputs": [],
      "source": [
        "train = train_dataset()\n",
        "test = test_dataset()\n",
        "val = val_dataset()"
      ]
    },
    {
      "cell_type": "markdown",
      "metadata": {
        "id": "BA7cumK--XVK"
      },
      "source": [
        "# Data Loader"
      ]
    },
    {
      "cell_type": "code",
      "execution_count": null,
      "metadata": {
        "id": "Lf4twaCc-Zxq"
      },
      "outputs": [],
      "source": [
        "BATCH_SIZE = 16\n",
        "BATCH_SIZE_VAL = 1\n",
        "\n",
        "train_dataloader = DataLoader(train, shuffle=True, batch_size=BATCH_SIZE)\n",
        "test_dataloader = DataLoader(test, shuffle=False, batch_size=BATCH_SIZE_VAL)\n",
        "val_dataloader = DataLoader(val, shuffle=False, batch_size=BATCH_SIZE_VAL)"
      ]
    },
    {
      "cell_type": "markdown",
      "source": [
        "# Early Stopping"
      ],
      "metadata": {
        "id": "Kh8H9Rs_wxvQ"
      }
    },
    {
      "cell_type": "code",
      "source": [
        "import numpy as np\n",
        "import torch\n",
        "\n",
        "class EarlyStopping:\n",
        "    \"\"\"Early stops the training if validation loss doesn't improve after a given patience.\"\"\"\n",
        "    def __init__(self, patience=7, verbose=False, delta=0, path='checkpoint.pt', trace_func=print):\n",
        "        \"\"\"\n",
        "        Args:\n",
        "            patience (int): How long to wait after last time validation loss improved.\n",
        "                            Default: 7\n",
        "            verbose (bool): If True, prints a message for each validation loss improvement. \n",
        "                            Default: False\n",
        "            delta (float): Minimum change in the monitored quantity to qualify as an improvement.\n",
        "                            Default: 0\n",
        "            path (str): Path for the checkpoint to be saved to.\n",
        "                            Default: 'checkpoint.pt'\n",
        "            trace_func (function): trace print function.\n",
        "                            Default: print            \n",
        "        \"\"\"\n",
        "        self.patience = patience\n",
        "        self.verbose = verbose\n",
        "        self.counter = 0\n",
        "        self.best_score = None\n",
        "        self.early_stop = False\n",
        "        self.val_loss_min = np.Inf\n",
        "        self.delta = delta\n",
        "        self.path = path\n",
        "        self.trace_func = trace_func\n",
        "    def __call__(self, val_loss, model):\n",
        "\n",
        "        score = -val_loss\n",
        "\n",
        "        if self.best_score is None:\n",
        "            self.best_score = score\n",
        "            self.save_checkpoint(val_loss, model)\n",
        "        elif score < self.best_score + self.delta:\n",
        "            self.counter += 1\n",
        "            self.trace_func(f'EarlyStopping counter: {self.counter} out of {self.patience}')\n",
        "            if self.counter >= self.patience:\n",
        "                self.early_stop = True\n",
        "        else:\n",
        "            self.best_score = score\n",
        "            self.save_checkpoint(val_loss, model)\n",
        "            self.counter = 0\n",
        "\n",
        "    def save_checkpoint(self, val_loss, model):\n",
        "        '''Saves model when validation loss decrease.'''\n",
        "        if self.verbose:\n",
        "            self.trace_func(f'Validation loss decreased ({self.val_loss_min:.6f} --> {val_loss:.6f}).  Saving model ...')\n",
        "        torch.save(model.state_dict(), self.path)\n",
        "        self.val_loss_min = val_loss"
      ],
      "metadata": {
        "id": "Sc6i9At7xDLv"
      },
      "execution_count": null,
      "outputs": []
    },
    {
      "cell_type": "markdown",
      "metadata": {
        "id": "2mFQlAS7-dWC"
      },
      "source": [
        "# Train and Evaluate Module"
      ]
    },
    {
      "cell_type": "code",
      "execution_count": null,
      "metadata": {
        "id": "49-6hlJ8-cWb"
      },
      "outputs": [],
      "source": [
        "###main train and evaluate function ###\n",
        "from tqdm import tqdm\n",
        "import time\n",
        "\n",
        "def train_main(model,loss_,optimizer,train_dataloader,device, epoch):\n",
        "  # loss_epoch=[]\n",
        "  # loss_each=[[],[],[]]\n",
        "  loss_train = 0\n",
        "  model.train()\n",
        "  for data in train_dataloader:\n",
        "      ##(b,c,h,w)\n",
        "      images = torch.Tensor(data['image']).to(device)\n",
        "      label_c = torch.Tensor(data['creator']).to(device)\n",
        "      label_m = torch.Tensor(data['material']).to(device)\n",
        "      label_t = torch.Tensor(data['type']).to(device)\n",
        "      #print(images.shape)\n",
        "      optimizer.zero_grad()\n",
        "      outputs_c, outputs_m, outputs_t = model(images)\n",
        "      outputs_m=outputs_m.unsqueeze(1).float()\n",
        "      outputs_t=outputs_t.unsqueeze(1).float()\n",
        "      label_m=label_m.unsqueeze(1).float()\n",
        "      label_t=label_t.unsqueeze(1).float()\n",
        "\n",
        "      loss_c = loss_[0](outputs_c, label_c)\n",
        "      loss_m = loss_[1](outputs_m, label_m)\n",
        "      loss_t = loss_[2](outputs_t, label_t)\n",
        "      # print(loss_c.detach().cpu().numpy().ravel(), loss_m.detach().cpu().numpy().ravel() , loss_t.detach().cpu().numpy().ravel())\n",
        "      # loss_each[0].append(loss_c.item())\n",
        "      # loss_each[1].append(loss_m.item())\n",
        "      # loss_each[2].append(loss_t.item())\n",
        "      # total_loss\n",
        "      loss = loss_c + 0.08*loss_m + loss_t\n",
        "      loss_train += loss.item()\n",
        "      #loss = loss_[1](outputs_m, label_m) + loss_[2](outputs_t, label_t)\n",
        "      loss.backward()\n",
        "      optimizer.step()\n",
        "      # loss_epoch.append(loss.item())\n",
        "  return loss_train\n",
        "\n",
        "def val_test(model,val_dataloader):\n",
        "  predict_clist=[]\n",
        "  predict_mlist=[]\n",
        "  predict_tlist=[]\n",
        "  loss_val = 0\n",
        "  y_c = []\n",
        "  y_m = []\n",
        "  y_t = []\n",
        "  with torch.no_grad():\n",
        "    model.eval()\n",
        "    for batchind,data in enumerate(val_dataloader):\n",
        "      images = torch.Tensor(data['image']).to(device)\n",
        "      label_c = torch.Tensor(data['creator']).to(device)\n",
        "      label_m = torch.Tensor(data['material']).to(device)\n",
        "      label_t = torch.Tensor(data['type']).to(device)\n",
        "      \n",
        "      outputs_c, outputs_m, outputs_t = model(images)\n",
        "      outputs_m1=outputs_m.unsqueeze(1).float()\n",
        "      outputs_t1=outputs_t.unsqueeze(1).float()\n",
        "      label_m1=label_m.unsqueeze(1).float()\n",
        "      label_t1=label_t.unsqueeze(1).float()\n",
        "      ##change to (1,c,h,w)\n",
        "\n",
        "      loss_c = loss_[0](outputs_c, label_c)\n",
        "      loss_m = loss_[1](outputs_m1, label_m1)\n",
        "      loss_t = loss_[2](outputs_t1, label_t1)\n",
        "      # total_loss\n",
        "      loss= loss_c + 0.08*loss_m + loss_t\n",
        "      loss_val += loss.item()\n",
        "\n",
        "      softmax = nn.Softmax()\n",
        "      outputs_c = softmax(outputs_c).argmax(dim=1, keepdim=True)\n",
        "      outputs_m=outputs_m.float()\n",
        "      outputs_t=outputs_t.float()\n",
        "      label_c=label_c\n",
        "      label_m=label_m.float()\n",
        "      label_t=label_t.float()\n",
        "\n",
        "      # predict creator\n",
        "      predict_clist.append(outputs_c.detach().cpu().numpy().ravel())\n",
        "      y_c.append(torch.Tensor.round(label_c).detach().cpu().numpy().ravel())\n",
        "      # predict material\n",
        "      predict_mlist.append(torch.Tensor.round(outputs_m).detach().cpu().numpy().ravel())\n",
        "      y_m.append(torch.Tensor.round(label_m).detach().cpu().numpy().ravel())\n",
        "      # predict type\n",
        "      predict_tlist.append(torch.Tensor.round(outputs_t).detach().cpu().numpy().ravel())\n",
        "      y_t.append(torch.Tensor.round(label_t).detach().cpu().numpy().ravel())\n",
        "  # print(y_m[0].shape)\n",
        "  # print(predict_mlist[0].shape)\n",
        "  # print(y_t[0].shape)\n",
        "  # print(predict_tlist[0].shape) \n",
        "\n",
        "  #Artist aacc\n",
        "  aacc = 0\n",
        "  for index in range(len(predict_clist)):\n",
        "    aacc = aacc + accuracy_score(y_c[index], predict_clist[index])\n",
        "  aacc = aacc / len(predict_clist)\n",
        "\n",
        "  #material mmAP\n",
        "  mmAp = 0\n",
        "  for index in range(len(predict_mlist)):\n",
        "    mmAp = mmAp + average_precision_score(y_m[index], predict_mlist[index])\n",
        "  mmAp = mmAp / len(predict_mlist)\n",
        "\n",
        "  #type tmAP\n",
        "  tmAp = 0\n",
        "  for index in range(len(predict_tlist)):\n",
        "    tmAp = tmAp + average_precision_score(y_t[index], predict_tlist[index])\n",
        "  tmAp = tmAp / len(predict_tlist)\n",
        "  \n",
        "  return loss_val, [predict_clist, predict_mlist, predict_tlist], [y_c, y_m, y_t], [aacc, mmAp, tmAp]\n",
        "\n",
        "import seaborn as sns\n",
        "from sklearn.metrics import confusion_matrix,f1_score,recall_score,precision_score,balanced_accuracy_score\n",
        "\n",
        "def eval_all(predict_list, truth_label):\n",
        "  #creator\n",
        "  acc=0\n",
        "  for index in range(len(predict_list[0])):\n",
        "    acc = acc + accuracy_score(truth_label[0][index], predict_list[0][index])\n",
        "  acc = acc / len(predict_list[0])\n",
        "  f1_c=f1_score(truth_label[0],predict_list[0],average='micro')\n",
        "  recal_c = recall_score(truth_label[0],predict_list[0],average='micro')\n",
        "  prec_c = precision_score(truth_label[0],predict_list[0],average='micro')\n",
        "  mac_c = balanced_accuracy_score(truth_label[0],predict_list[0])\n",
        "  con_mat_c=confusion_matrix(truth_label[0],predict_list[0])\n",
        "\n",
        "  #material\n",
        "  mmAp = 0\n",
        "  for index in range(len(predict_list[1])):\n",
        "    mmAp = mmAp + average_precision_score(truth_label[1][index], predict_list[1][index], average='weighted')\n",
        "  mmAp = mmAp / len(predict_list[1])\n",
        "\n",
        "  mmRecall = 0\n",
        "  for index in range(len(predict_list[1])):\n",
        "    mmRecall = mmRecall + recall_score(truth_label[1][index], predict_list[1][index], average='weighted')\n",
        "  mmRecall = mmRecall/len(predict_list[1])\n",
        "\n",
        "  mf1 = 2*(mmAp*mmRecall)/(mmAp+mmRecall)\n",
        "\n",
        "  #type\n",
        "  tmAp = 0\n",
        "  for index in range(len(predict_list[2])):\n",
        "    tmAp = tmAp + average_precision_score(truth_label[2][index], predict_list[2][index], average='weighted')\n",
        "  tmAp = tmAp / len(predict_list[2])\n",
        "\n",
        "  tmRecall = 0\n",
        "  for index in range(len(predict_list[2])):\n",
        "    tmRecall = tmRecall + recall_score(truth_label[2][index], predict_list[2][index], average='weighted')\n",
        "  tmRecall = tmRecall/len(predict_list[2])\n",
        "\n",
        "  tf1 = 2*(tmAp*tmRecall)/(tmAp+tmRecall)\n",
        "\n",
        "  return [f1_c,recal_c,prec_c,prec_c,mac_c,con_mat_c,acc], [mmAp,mmRecall,mf1], [tmAp,tmRecall,tf1]"
      ]
    },
    {
      "cell_type": "markdown",
      "metadata": {
        "id": "gcX0OQi_-irS"
      },
      "source": [
        "# ResNet 50"
      ]
    },
    {
      "cell_type": "code",
      "execution_count": null,
      "metadata": {
        "colab": {
          "base_uri": "https://localhost:8080/"
        },
        "id": "AX4JNMJX-otE",
        "outputId": "86b31dd9-3daf-48c8-cd04-9ecd89dfcc4b"
      },
      "outputs": [
        {
          "output_type": "stream",
          "name": "stderr",
          "text": [
            "Using cache found in /root/.cache/torch/hub/NVIDIA_DeepLearningExamples_torchhub\n",
            "/root/.cache/torch/hub/NVIDIA_DeepLearningExamples_torchhub/PyTorch/Classification/ConvNets/image_classification/models/common.py:13: UserWarning: pytorch_quantization module not found, quantization will not be available\n",
            "  warnings.warn(\n",
            "/root/.cache/torch/hub/NVIDIA_DeepLearningExamples_torchhub/PyTorch/Classification/ConvNets/image_classification/models/efficientnet.py:17: UserWarning: pytorch_quantization module not found, quantization will not be available\n",
            "  warnings.warn(\n"
          ]
        }
      ],
      "source": [
        "##load pretrained resnet50 network ###\n",
        "resnet50 = torch.hub.load('NVIDIA/DeepLearningExamples:torchhub', 'nvidia_resnet50', pretrained=True)\n",
        "\n",
        "class HydraNet(nn.Module):\n",
        "  def __init__(self, resnet50):\n",
        "    super().__init__()\n",
        "    self.net  = resnet50\n",
        "    self.n_features = self.net.fc.out_features\n",
        "\n",
        "    # head 1, creator\n",
        "    self.net.fc1 = nn.Sequential(OrderedDict([('linear', nn.Linear(self.n_features,self.n_features)),\n",
        "                                              ('relu1', nn.ReLU()),\n",
        "                                              ('output', nn.Linear(self.n_features, 15))]))\n",
        "    \n",
        "    # head 2, material\n",
        "    self.net.fc2 = nn.Sequential(OrderedDict([('linear1', nn.Linear(self.n_features,self.n_features)),\n",
        "                                              ('relu1', nn.ReLU()),\n",
        "                                              ('linear2', nn.Linear(self.n_features, 22)),\n",
        "                                              ('output', nn.Sigmoid())]))\n",
        "    # head 3, type\n",
        "    self.net.fc3 = nn.Sequential(OrderedDict([('linear1', nn.Linear(self.n_features,self.n_features)),\n",
        "                                          ('relu1', nn.ReLU()),\n",
        "                                          ('linear2', nn.Linear(self.n_features, 76)),\n",
        "                                          ('output', nn.Sigmoid())]))\n",
        "  def forward(self, x):\n",
        "    output_resnet = self.net(x)\n",
        "    c_head = self.net.fc1(output_resnet)\n",
        "    m_head = self.net.fc2(output_resnet)\n",
        "    t_head = self.net.fc3(output_resnet)\n",
        "    return c_head, m_head, t_head"
      ]
    },
    {
      "cell_type": "markdown",
      "source": [
        "# Train"
      ],
      "metadata": {
        "id": "zGijXOZoLUKT"
      }
    },
    {
      "cell_type": "code",
      "execution_count": null,
      "metadata": {
        "id": "9o4ORtg1-kkM"
      },
      "outputs": [],
      "source": [
        "num_epochs=50\n",
        "device = torch.device(\"cuda:0\" if torch.cuda.is_available() else \"cpu\")\n",
        "model=HydraNet(resnet50).to(device)\n",
        "loss_c = nn.CrossEntropyLoss()\n",
        "loss_m = nn.BCELoss()\n",
        "loss_t = nn.BCELoss()\n",
        "loss_ = [loss_c, loss_m, loss_t]\n",
        "optimizer=optim.Adam(filter(lambda p:p.requires_grad,model.parameters()),lr=(1e-5))\n",
        "# optimizer: changed to use SGD"
      ]
    },
    {
      "cell_type": "code",
      "execution_count": null,
      "metadata": {
        "colab": {
          "base_uri": "https://localhost:8080/"
        },
        "id": "2CFp-UQN-wHc",
        "outputId": "c6f14d93-cf22-4abe-fc29-ae42f2044aba"
      },
      "outputs": [
        {
          "output_type": "stream",
          "name": "stderr",
          "text": [
            "\r  0%|          | 0/50 [00:00<?, ?it/s]<ipython-input-24-96e9b0b47c6b>:71: UserWarning: Implicit dimension choice for softmax has been deprecated. Change the call to include dim=X as an argument.\n",
            "  outputs_c = softmax(outputs_c).argmax(dim=1, keepdim=True)\n"
          ]
        },
        {
          "output_type": "stream",
          "name": "stdout",
          "text": [
            "Validation loss decreased (inf --> 0.461431).  Saving model ...\n"
          ]
        },
        {
          "output_type": "stream",
          "name": "stderr",
          "text": [
            "\r  2%|▏         | 1/50 [24:33<20:03:01, 1473.10s/it]"
          ]
        },
        {
          "output_type": "stream",
          "name": "stdout",
          "text": [
            "training loss: 0.8176722916925024\n",
            "validation loss: 0.46143067553390715\n",
            "epoch1 has been trained\n"
          ]
        },
        {
          "output_type": "stream",
          "name": "stderr",
          "text": [
            "<ipython-input-24-96e9b0b47c6b>:71: UserWarning: Implicit dimension choice for softmax has been deprecated. Change the call to include dim=X as an argument.\n",
            "  outputs_c = softmax(outputs_c).argmax(dim=1, keepdim=True)\n"
          ]
        },
        {
          "output_type": "stream",
          "name": "stdout",
          "text": [
            "Validation loss decreased (0.461431 --> 0.264123).  Saving model ...\n"
          ]
        },
        {
          "output_type": "stream",
          "name": "stderr",
          "text": [
            "\r  4%|▍         | 2/50 [28:19<9:52:00, 740.02s/it]  "
          ]
        },
        {
          "output_type": "stream",
          "name": "stdout",
          "text": [
            "training loss: 0.5164485456879268\n",
            "validation loss: 0.26412321492270685\n",
            "epoch2 has been trained\n"
          ]
        },
        {
          "output_type": "stream",
          "name": "stderr",
          "text": [
            "<ipython-input-24-96e9b0b47c6b>:71: UserWarning: Implicit dimension choice for softmax has been deprecated. Change the call to include dim=X as an argument.\n",
            "  outputs_c = softmax(outputs_c).argmax(dim=1, keepdim=True)\n"
          ]
        },
        {
          "output_type": "stream",
          "name": "stdout",
          "text": [
            "Validation loss decreased (0.264123 --> 0.179075).  Saving model ...\n"
          ]
        },
        {
          "output_type": "stream",
          "name": "stderr",
          "text": [
            "\r  6%|▌         | 3/50 [32:11<6:37:56, 508.01s/it]"
          ]
        },
        {
          "output_type": "stream",
          "name": "stdout",
          "text": [
            "training loss: 0.3552016974343154\n",
            "validation loss: 0.17907497366654734\n",
            "epoch3 has been trained\n"
          ]
        },
        {
          "output_type": "stream",
          "name": "stderr",
          "text": [
            "<ipython-input-24-96e9b0b47c6b>:71: UserWarning: Implicit dimension choice for softmax has been deprecated. Change the call to include dim=X as an argument.\n",
            "  outputs_c = softmax(outputs_c).argmax(dim=1, keepdim=True)\n"
          ]
        },
        {
          "output_type": "stream",
          "name": "stdout",
          "text": [
            "Validation loss decreased (0.179075 --> 0.124201).  Saving model ...\n"
          ]
        },
        {
          "output_type": "stream",
          "name": "stderr",
          "text": [
            "\r  8%|▊         | 4/50 [36:04<5:05:58, 399.11s/it]"
          ]
        },
        {
          "output_type": "stream",
          "name": "stdout",
          "text": [
            "training loss: 0.22541005014369409\n",
            "validation loss: 0.12420123778714241\n",
            "epoch4 has been trained\n"
          ]
        },
        {
          "output_type": "stream",
          "name": "stderr",
          "text": [
            "<ipython-input-24-96e9b0b47c6b>:71: UserWarning: Implicit dimension choice for softmax has been deprecated. Change the call to include dim=X as an argument.\n",
            "  outputs_c = softmax(outputs_c).argmax(dim=1, keepdim=True)\n"
          ]
        },
        {
          "output_type": "stream",
          "name": "stdout",
          "text": [
            "Validation loss decreased (0.124201 --> 0.114310).  Saving model ...\n"
          ]
        },
        {
          "output_type": "stream",
          "name": "stderr",
          "text": [
            "\r 10%|█         | 5/50 [39:55<4:14:05, 338.79s/it]"
          ]
        },
        {
          "output_type": "stream",
          "name": "stdout",
          "text": [
            "training loss: 0.15628667489742626\n",
            "validation loss: 0.11431009321275801\n",
            "epoch5 has been trained\n"
          ]
        },
        {
          "output_type": "stream",
          "name": "stderr",
          "text": [
            "<ipython-input-24-96e9b0b47c6b>:71: UserWarning: Implicit dimension choice for softmax has been deprecated. Change the call to include dim=X as an argument.\n",
            "  outputs_c = softmax(outputs_c).argmax(dim=1, keepdim=True)\n"
          ]
        },
        {
          "output_type": "stream",
          "name": "stdout",
          "text": [
            "Validation loss decreased (0.114310 --> 0.101233).  Saving model ...\n"
          ]
        },
        {
          "output_type": "stream",
          "name": "stderr",
          "text": [
            "\r 12%|█▏        | 6/50 [43:47<3:41:47, 302.45s/it]"
          ]
        },
        {
          "output_type": "stream",
          "name": "stdout",
          "text": [
            "training loss: 0.11406570851167072\n",
            "validation loss: 0.10123291439135892\n",
            "epoch6 has been trained\n"
          ]
        },
        {
          "output_type": "stream",
          "name": "stderr",
          "text": [
            "<ipython-input-24-96e9b0b47c6b>:71: UserWarning: Implicit dimension choice for softmax has been deprecated. Change the call to include dim=X as an argument.\n",
            "  outputs_c = softmax(outputs_c).argmax(dim=1, keepdim=True)\n"
          ]
        },
        {
          "output_type": "stream",
          "name": "stdout",
          "text": [
            "Validation loss decreased (0.101233 --> 0.086123).  Saving model ...\n"
          ]
        },
        {
          "output_type": "stream",
          "name": "stderr",
          "text": [
            "\r 14%|█▍        | 7/50 [47:37<3:19:43, 278.68s/it]"
          ]
        },
        {
          "output_type": "stream",
          "name": "stdout",
          "text": [
            "training loss: 0.07958300395807374\n",
            "validation loss: 0.08612331475550339\n",
            "epoch7 has been trained\n"
          ]
        },
        {
          "output_type": "stream",
          "name": "stderr",
          "text": [
            "<ipython-input-24-96e9b0b47c6b>:71: UserWarning: Implicit dimension choice for softmax has been deprecated. Change the call to include dim=X as an argument.\n",
            "  outputs_c = softmax(outputs_c).argmax(dim=1, keepdim=True)\n",
            " 16%|█▌        | 8/50 [51:24<3:03:35, 262.28s/it]"
          ]
        },
        {
          "output_type": "stream",
          "name": "stdout",
          "text": [
            "EarlyStopping counter: 1 out of 20\n",
            "training loss: 0.05715725194135803\n",
            "validation loss: 0.09677544136138272\n",
            "epoch8 has been trained\n"
          ]
        },
        {
          "output_type": "stream",
          "name": "stderr",
          "text": [
            "<ipython-input-24-96e9b0b47c6b>:71: UserWarning: Implicit dimension choice for softmax has been deprecated. Change the call to include dim=X as an argument.\n",
            "  outputs_c = softmax(outputs_c).argmax(dim=1, keepdim=True)\n",
            " 18%|█▊        | 9/50 [55:13<2:51:58, 251.67s/it]"
          ]
        },
        {
          "output_type": "stream",
          "name": "stdout",
          "text": [
            "EarlyStopping counter: 2 out of 20\n",
            "training loss: 0.04762470399302815\n",
            "validation loss: 0.0916734593835897\n",
            "epoch9 has been trained\n"
          ]
        },
        {
          "output_type": "stream",
          "name": "stderr",
          "text": [
            "<ipython-input-24-96e9b0b47c6b>:71: UserWarning: Implicit dimension choice for softmax has been deprecated. Change the call to include dim=X as an argument.\n",
            "  outputs_c = softmax(outputs_c).argmax(dim=1, keepdim=True)\n",
            " 20%|██        | 10/50 [59:00<2:42:43, 244.09s/it]"
          ]
        },
        {
          "output_type": "stream",
          "name": "stdout",
          "text": [
            "EarlyStopping counter: 3 out of 20\n",
            "training loss: 0.04429171732236481\n",
            "validation loss: 0.08670848048193537\n",
            "epoch10 has been trained\n"
          ]
        },
        {
          "output_type": "stream",
          "name": "stderr",
          "text": [
            "<ipython-input-24-96e9b0b47c6b>:71: UserWarning: Implicit dimension choice for softmax has been deprecated. Change the call to include dim=X as an argument.\n",
            "  outputs_c = softmax(outputs_c).argmax(dim=1, keepdim=True)\n"
          ]
        },
        {
          "output_type": "stream",
          "name": "stdout",
          "text": [
            "Validation loss decreased (0.086123 --> 0.085533).  Saving model ...\n"
          ]
        },
        {
          "output_type": "stream",
          "name": "stderr",
          "text": [
            "\r 22%|██▏       | 11/50 [1:02:48<2:35:28, 239.19s/it]"
          ]
        },
        {
          "output_type": "stream",
          "name": "stdout",
          "text": [
            "training loss: 0.03591359502002932\n",
            "validation loss: 0.08553270103150383\n",
            "epoch11 has been trained\n"
          ]
        },
        {
          "output_type": "stream",
          "name": "stderr",
          "text": [
            "<ipython-input-24-96e9b0b47c6b>:71: UserWarning: Implicit dimension choice for softmax has been deprecated. Change the call to include dim=X as an argument.\n",
            "  outputs_c = softmax(outputs_c).argmax(dim=1, keepdim=True)\n"
          ]
        },
        {
          "output_type": "stream",
          "name": "stdout",
          "text": [
            "Validation loss decreased (0.085533 --> 0.081628).  Saving model ...\n"
          ]
        },
        {
          "output_type": "stream",
          "name": "stderr",
          "text": [
            "\r 24%|██▍       | 12/50 [1:06:37<2:29:29, 236.03s/it]"
          ]
        },
        {
          "output_type": "stream",
          "name": "stdout",
          "text": [
            "training loss: 0.03480037161522729\n",
            "validation loss: 0.08162765023596132\n",
            "epoch12 has been trained\n"
          ]
        },
        {
          "output_type": "stream",
          "name": "stderr",
          "text": [
            "<ipython-input-24-96e9b0b47c6b>:71: UserWarning: Implicit dimension choice for softmax has been deprecated. Change the call to include dim=X as an argument.\n",
            "  outputs_c = softmax(outputs_c).argmax(dim=1, keepdim=True)\n",
            " 26%|██▌       | 13/50 [1:10:24<2:23:52, 233.32s/it]"
          ]
        },
        {
          "output_type": "stream",
          "name": "stdout",
          "text": [
            "EarlyStopping counter: 1 out of 20\n",
            "training loss: 0.02839682048986928\n",
            "validation loss: 0.08976652340277373\n",
            "epoch13 has been trained\n"
          ]
        },
        {
          "output_type": "stream",
          "name": "stderr",
          "text": [
            "<ipython-input-24-96e9b0b47c6b>:71: UserWarning: Implicit dimension choice for softmax has been deprecated. Change the call to include dim=X as an argument.\n",
            "  outputs_c = softmax(outputs_c).argmax(dim=1, keepdim=True)\n"
          ]
        },
        {
          "output_type": "stream",
          "name": "stdout",
          "text": [
            "Validation loss decreased (0.081628 --> 0.079233).  Saving model ...\n"
          ]
        },
        {
          "output_type": "stream",
          "name": "stderr",
          "text": [
            "\r 28%|██▊       | 14/50 [1:14:12<2:19:01, 231.72s/it]"
          ]
        },
        {
          "output_type": "stream",
          "name": "stdout",
          "text": [
            "training loss: 0.023218103481629518\n",
            "validation loss: 0.07923260511662225\n",
            "epoch14 has been trained\n"
          ]
        },
        {
          "output_type": "stream",
          "name": "stderr",
          "text": [
            "<ipython-input-24-96e9b0b47c6b>:71: UserWarning: Implicit dimension choice for softmax has been deprecated. Change the call to include dim=X as an argument.\n",
            "  outputs_c = softmax(outputs_c).argmax(dim=1, keepdim=True)\n",
            " 30%|███       | 15/50 [1:17:59<2:14:21, 230.34s/it]"
          ]
        },
        {
          "output_type": "stream",
          "name": "stdout",
          "text": [
            "EarlyStopping counter: 1 out of 20\n",
            "training loss: 0.02675808482443702\n",
            "validation loss: 0.07946428956246257\n",
            "epoch15 has been trained\n"
          ]
        },
        {
          "output_type": "stream",
          "name": "stderr",
          "text": [
            "<ipython-input-24-96e9b0b47c6b>:71: UserWarning: Implicit dimension choice for softmax has been deprecated. Change the call to include dim=X as an argument.\n",
            "  outputs_c = softmax(outputs_c).argmax(dim=1, keepdim=True)\n",
            " 32%|███▏      | 16/50 [1:21:46<2:10:02, 229.48s/it]"
          ]
        },
        {
          "output_type": "stream",
          "name": "stdout",
          "text": [
            "EarlyStopping counter: 2 out of 20\n",
            "training loss: 0.023876654993586554\n",
            "validation loss: 0.08769305969372058\n",
            "epoch16 has been trained\n"
          ]
        },
        {
          "output_type": "stream",
          "name": "stderr",
          "text": [
            "<ipython-input-24-96e9b0b47c6b>:71: UserWarning: Implicit dimension choice for softmax has been deprecated. Change the call to include dim=X as an argument.\n",
            "  outputs_c = softmax(outputs_c).argmax(dim=1, keepdim=True)\n",
            " 34%|███▍      | 17/50 [1:25:38<2:06:35, 230.15s/it]"
          ]
        },
        {
          "output_type": "stream",
          "name": "stdout",
          "text": [
            "EarlyStopping counter: 3 out of 20\n",
            "training loss: 0.019604078750195774\n",
            "validation loss: 0.09489862083594758\n",
            "epoch17 has been trained\n"
          ]
        },
        {
          "output_type": "stream",
          "name": "stderr",
          "text": [
            "<ipython-input-24-96e9b0b47c6b>:71: UserWarning: Implicit dimension choice for softmax has been deprecated. Change the call to include dim=X as an argument.\n",
            "  outputs_c = softmax(outputs_c).argmax(dim=1, keepdim=True)\n",
            " 36%|███▌      | 18/50 [1:29:32<2:03:21, 231.29s/it]"
          ]
        },
        {
          "output_type": "stream",
          "name": "stdout",
          "text": [
            "EarlyStopping counter: 4 out of 20\n",
            "training loss: 0.022198743660568992\n",
            "validation loss: 0.09030812877500045\n",
            "epoch18 has been trained\n"
          ]
        },
        {
          "output_type": "stream",
          "name": "stderr",
          "text": [
            "<ipython-input-24-96e9b0b47c6b>:71: UserWarning: Implicit dimension choice for softmax has been deprecated. Change the call to include dim=X as an argument.\n",
            "  outputs_c = softmax(outputs_c).argmax(dim=1, keepdim=True)\n",
            " 38%|███▊      | 19/50 [1:33:20<1:59:00, 230.33s/it]"
          ]
        },
        {
          "output_type": "stream",
          "name": "stdout",
          "text": [
            "EarlyStopping counter: 5 out of 20\n",
            "training loss: 0.020900491072969166\n",
            "validation loss: 0.08580552709457856\n",
            "epoch19 has been trained\n"
          ]
        },
        {
          "output_type": "stream",
          "name": "stderr",
          "text": [
            "<ipython-input-24-96e9b0b47c6b>:71: UserWarning: Implicit dimension choice for softmax has been deprecated. Change the call to include dim=X as an argument.\n",
            "  outputs_c = softmax(outputs_c).argmax(dim=1, keepdim=True)\n",
            " 40%|████      | 20/50 [1:37:07<1:54:38, 229.30s/it]"
          ]
        },
        {
          "output_type": "stream",
          "name": "stdout",
          "text": [
            "EarlyStopping counter: 6 out of 20\n",
            "training loss: 0.020452284132141597\n",
            "validation loss: 0.10692126279956335\n",
            "epoch20 has been trained\n"
          ]
        },
        {
          "output_type": "stream",
          "name": "stderr",
          "text": [
            "<ipython-input-24-96e9b0b47c6b>:71: UserWarning: Implicit dimension choice for softmax has been deprecated. Change the call to include dim=X as an argument.\n",
            "  outputs_c = softmax(outputs_c).argmax(dim=1, keepdim=True)\n",
            " 42%|████▏     | 21/50 [1:40:53<1:50:23, 228.39s/it]"
          ]
        },
        {
          "output_type": "stream",
          "name": "stdout",
          "text": [
            "EarlyStopping counter: 7 out of 20\n",
            "training loss: 0.02036960789108437\n",
            "validation loss: 0.09397332829787267\n",
            "epoch21 has been trained\n"
          ]
        },
        {
          "output_type": "stream",
          "name": "stderr",
          "text": [
            "<ipython-input-24-96e9b0b47c6b>:71: UserWarning: Implicit dimension choice for softmax has been deprecated. Change the call to include dim=X as an argument.\n",
            "  outputs_c = softmax(outputs_c).argmax(dim=1, keepdim=True)\n",
            " 44%|████▍     | 22/50 [1:44:41<1:46:32, 228.32s/it]"
          ]
        },
        {
          "output_type": "stream",
          "name": "stdout",
          "text": [
            "EarlyStopping counter: 8 out of 20\n",
            "training loss: 0.019449504568802005\n",
            "validation loss: 0.10421339365434105\n",
            "epoch22 has been trained\n"
          ]
        },
        {
          "output_type": "stream",
          "name": "stderr",
          "text": [
            "<ipython-input-24-96e9b0b47c6b>:71: UserWarning: Implicit dimension choice for softmax has been deprecated. Change the call to include dim=X as an argument.\n",
            "  outputs_c = softmax(outputs_c).argmax(dim=1, keepdim=True)\n",
            " 46%|████▌     | 23/50 [1:48:28<1:42:30, 227.78s/it]"
          ]
        },
        {
          "output_type": "stream",
          "name": "stdout",
          "text": [
            "EarlyStopping counter: 9 out of 20\n",
            "training loss: 0.017238037094326055\n",
            "validation loss: 0.08964881472150983\n",
            "epoch23 has been trained\n"
          ]
        },
        {
          "output_type": "stream",
          "name": "stderr",
          "text": [
            "<ipython-input-24-96e9b0b47c6b>:71: UserWarning: Implicit dimension choice for softmax has been deprecated. Change the call to include dim=X as an argument.\n",
            "  outputs_c = softmax(outputs_c).argmax(dim=1, keepdim=True)\n",
            " 48%|████▊     | 24/50 [1:52:15<1:38:35, 227.50s/it]"
          ]
        },
        {
          "output_type": "stream",
          "name": "stdout",
          "text": [
            "EarlyStopping counter: 10 out of 20\n",
            "training loss: 0.01583374803781253\n",
            "validation loss: 0.10559672475244185\n",
            "epoch24 has been trained\n"
          ]
        },
        {
          "output_type": "stream",
          "name": "stderr",
          "text": [
            "<ipython-input-24-96e9b0b47c6b>:71: UserWarning: Implicit dimension choice for softmax has been deprecated. Change the call to include dim=X as an argument.\n",
            "  outputs_c = softmax(outputs_c).argmax(dim=1, keepdim=True)\n",
            " 50%|█████     | 25/50 [1:56:02<1:34:42, 227.30s/it]"
          ]
        },
        {
          "output_type": "stream",
          "name": "stdout",
          "text": [
            "EarlyStopping counter: 11 out of 20\n",
            "training loss: 0.016521308238933163\n",
            "validation loss: 0.10364401605943713\n",
            "epoch25 has been trained\n"
          ]
        },
        {
          "output_type": "stream",
          "name": "stderr",
          "text": [
            "<ipython-input-24-96e9b0b47c6b>:71: UserWarning: Implicit dimension choice for softmax has been deprecated. Change the call to include dim=X as an argument.\n",
            "  outputs_c = softmax(outputs_c).argmax(dim=1, keepdim=True)\n",
            " 52%|█████▏    | 26/50 [1:59:47<1:30:44, 226.87s/it]"
          ]
        },
        {
          "output_type": "stream",
          "name": "stdout",
          "text": [
            "EarlyStopping counter: 12 out of 20\n",
            "training loss: 0.016080482637727198\n",
            "validation loss: 0.09923134641002974\n",
            "epoch26 has been trained\n"
          ]
        },
        {
          "output_type": "stream",
          "name": "stderr",
          "text": [
            "<ipython-input-24-96e9b0b47c6b>:71: UserWarning: Implicit dimension choice for softmax has been deprecated. Change the call to include dim=X as an argument.\n",
            "  outputs_c = softmax(outputs_c).argmax(dim=1, keepdim=True)\n",
            " 54%|█████▍    | 27/50 [2:03:35<1:27:03, 227.11s/it]"
          ]
        },
        {
          "output_type": "stream",
          "name": "stdout",
          "text": [
            "EarlyStopping counter: 13 out of 20\n",
            "training loss: 0.01803386533001304\n",
            "validation loss: 0.10611253482583168\n",
            "epoch27 has been trained\n"
          ]
        },
        {
          "output_type": "stream",
          "name": "stderr",
          "text": [
            "<ipython-input-24-96e9b0b47c6b>:71: UserWarning: Implicit dimension choice for softmax has been deprecated. Change the call to include dim=X as an argument.\n",
            "  outputs_c = softmax(outputs_c).argmax(dim=1, keepdim=True)\n",
            " 56%|█████▌    | 28/50 [2:07:25<1:23:35, 227.97s/it]"
          ]
        },
        {
          "output_type": "stream",
          "name": "stdout",
          "text": [
            "EarlyStopping counter: 14 out of 20\n",
            "training loss: 0.017791928855205946\n",
            "validation loss: 0.10444667860876869\n",
            "epoch28 has been trained\n"
          ]
        },
        {
          "output_type": "stream",
          "name": "stderr",
          "text": [
            "<ipython-input-24-96e9b0b47c6b>:71: UserWarning: Implicit dimension choice for softmax has been deprecated. Change the call to include dim=X as an argument.\n",
            "  outputs_c = softmax(outputs_c).argmax(dim=1, keepdim=True)\n",
            " 58%|█████▊    | 29/50 [2:11:14<1:19:50, 228.14s/it]"
          ]
        },
        {
          "output_type": "stream",
          "name": "stdout",
          "text": [
            "EarlyStopping counter: 15 out of 20\n",
            "training loss: 0.014192579900197585\n",
            "validation loss: 0.09328170132402804\n",
            "epoch29 has been trained\n"
          ]
        },
        {
          "output_type": "stream",
          "name": "stderr",
          "text": [
            "<ipython-input-24-96e9b0b47c6b>:71: UserWarning: Implicit dimension choice for softmax has been deprecated. Change the call to include dim=X as an argument.\n",
            "  outputs_c = softmax(outputs_c).argmax(dim=1, keepdim=True)\n",
            " 60%|██████    | 30/50 [2:15:00<1:15:50, 227.52s/it]"
          ]
        },
        {
          "output_type": "stream",
          "name": "stdout",
          "text": [
            "EarlyStopping counter: 16 out of 20\n",
            "training loss: 0.01219843281189002\n",
            "validation loss: 0.08842644619070399\n",
            "epoch30 has been trained\n"
          ]
        },
        {
          "output_type": "stream",
          "name": "stderr",
          "text": [
            "<ipython-input-24-96e9b0b47c6b>:71: UserWarning: Implicit dimension choice for softmax has been deprecated. Change the call to include dim=X as an argument.\n",
            "  outputs_c = softmax(outputs_c).argmax(dim=1, keepdim=True)\n",
            " 62%|██████▏   | 31/50 [2:18:47<1:12:02, 227.48s/it]"
          ]
        },
        {
          "output_type": "stream",
          "name": "stdout",
          "text": [
            "EarlyStopping counter: 17 out of 20\n",
            "training loss: 0.012721628665890612\n",
            "validation loss: 0.09250287149397586\n",
            "epoch31 has been trained\n"
          ]
        },
        {
          "output_type": "stream",
          "name": "stderr",
          "text": [
            "<ipython-input-24-96e9b0b47c6b>:71: UserWarning: Implicit dimension choice for softmax has been deprecated. Change the call to include dim=X as an argument.\n",
            "  outputs_c = softmax(outputs_c).argmax(dim=1, keepdim=True)\n",
            " 64%|██████▍   | 32/50 [2:22:33<1:08:05, 226.99s/it]"
          ]
        },
        {
          "output_type": "stream",
          "name": "stdout",
          "text": [
            "EarlyStopping counter: 18 out of 20\n",
            "training loss: 0.016320036865023528\n",
            "validation loss: 0.10417408027140644\n",
            "epoch32 has been trained\n"
          ]
        },
        {
          "output_type": "stream",
          "name": "stderr",
          "text": [
            "<ipython-input-24-96e9b0b47c6b>:71: UserWarning: Implicit dimension choice for softmax has been deprecated. Change the call to include dim=X as an argument.\n",
            "  outputs_c = softmax(outputs_c).argmax(dim=1, keepdim=True)\n",
            " 66%|██████▌   | 33/50 [2:26:19<1:04:14, 226.76s/it]"
          ]
        },
        {
          "output_type": "stream",
          "name": "stdout",
          "text": [
            "EarlyStopping counter: 19 out of 20\n",
            "training loss: 0.013453044155528936\n",
            "validation loss: 0.09412654839255573\n",
            "epoch33 has been trained\n"
          ]
        },
        {
          "output_type": "stream",
          "name": "stderr",
          "text": [
            "<ipython-input-24-96e9b0b47c6b>:71: UserWarning: Implicit dimension choice for softmax has been deprecated. Change the call to include dim=X as an argument.\n",
            "  outputs_c = softmax(outputs_c).argmax(dim=1, keepdim=True)\n",
            " 66%|██████▌   | 33/50 [2:30:06<1:17:19, 272.92s/it]"
          ]
        },
        {
          "output_type": "stream",
          "name": "stdout",
          "text": [
            "EarlyStopping counter: 20 out of 20\n",
            "++++++++++Early Stopping...++++++++++\n"
          ]
        },
        {
          "output_type": "stream",
          "name": "stderr",
          "text": [
            "\n"
          ]
        }
      ],
      "source": [
        "#Train\n",
        "early_stopping = EarlyStopping(patience=20, verbose=True)\n",
        "losses_train = []\n",
        "losses_val = []\n",
        "for epoch in tqdm(range(num_epochs)):\n",
        "  loss_train = train_main(model,loss_,optimizer,train_dataloader, device, epoch)\n",
        "  mean_loss_train = loss_train/len(train_dataloader)\n",
        "  losses_train.append(mean_loss_train)\n",
        "  loss_val, predict_r, label, metric =val_test(model, val_dataloader=val_dataloader)\n",
        "  mean_loss_val = loss_val/len(val_dataloader)\n",
        "  losses_val.append(mean_loss_val)\n",
        "  early_stopping(mean_loss_val, model)\n",
        "  if early_stopping.early_stop:\n",
        "    print('++++++++++Early Stopping...++++++++++')\n",
        "    break\n",
        "  print(\"training loss:\", mean_loss_train)\n",
        "  print(\"validation loss:\", mean_loss_val)\n",
        "  print(f'epoch{epoch+1} has been trained')"
      ]
    },
    {
      "cell_type": "code",
      "source": [
        "# Plot for train and validation loss\n",
        "import matplotlib.pyplot as plt\n",
        "x = range(15)\n",
        "plt.plot(x, losses_train[:15], label = \"train loss\")\n",
        "plt.plot(x, losses_val[:15], label = \"validation loss\")\n",
        "plt.legend()\n",
        "plt.show()"
      ],
      "metadata": {
        "colab": {
          "base_uri": "https://localhost:8080/",
          "height": 265
        },
        "id": "j0avRdnO2QYb",
        "outputId": "266a1c66-3e92-41a3-9f6a-fcc823d710cc"
      },
      "execution_count": null,
      "outputs": [
        {
          "output_type": "display_data",
          "data": {
            "text/plain": [
              "<Figure size 432x288 with 1 Axes>"
            ],
            "image/png": "[encoded data removed]"
          },
          "metadata": {
            "needs_background": "light"
          }
        }
      ]
    },
    {
      "cell_type": "markdown",
      "source": [
        "# Test Result"
      ],
      "metadata": {
        "id": "Cp0Bj-8wLk3Y"
      }
    },
    {
      "cell_type": "code",
      "source": [
        "loss_test, pr, label, metric = val_test(model, test_dataloader)"
      ],
      "metadata": {
        "colab": {
          "base_uri": "https://localhost:8080/"
        },
        "id": "anTlTdYO-Vbz",
        "outputId": "dcf4f8c0-d6d3-4353-aedd-d2902c5962be"
      },
      "execution_count": null,
      "outputs": [
        {
          "output_type": "stream",
          "name": "stderr",
          "text": [
            "<ipython-input-24-96e9b0b47c6b>:71: UserWarning: Implicit dimension choice for softmax has been deprecated. Change the call to include dim=X as an argument.\n",
            "  outputs_c = softmax(outputs_c).argmax(dim=1, keepdim=True)\n"
          ]
        }
      ]
    },
    {
      "cell_type": "code",
      "source": [
        "metric"
      ],
      "metadata": {
        "colab": {
          "base_uri": "https://localhost:8080/"
        },
        "id": "WuEe5l6xCCPl",
        "outputId": "f1c76ee7-acb2-42ff-b640-c1492af3f9b0"
      },
      "execution_count": null,
      "outputs": [
        {
          "output_type": "execute_result",
          "data": {
            "text/plain": [
              "[0.9754339993449066, 0.9980372013618001, 0.9284770228880388]"
            ]
          },
          "metadata": {},
          "execution_count": 29
        }
      ]
    },
    {
      "cell_type": "code",
      "source": [
        "c_eval, m_eval, t_eval = eval_all(pr, label)"
      ],
      "metadata": {
        "id": "MMdeLdPNxw10"
      },
      "execution_count": null,
      "outputs": []
    },
    {
      "cell_type": "code",
      "source": [
        "c_eval"
      ],
      "metadata": {
        "id": "qqYVvWrjxx4q",
        "colab": {
          "base_uri": "https://localhost:8080/"
        },
        "outputId": "bf52bc22-3009-4265-f2e5-beb4ff25c48a"
      },
      "execution_count": null,
      "outputs": [
        {
          "output_type": "execute_result",
          "data": {
            "text/plain": [
              "[0.9754339993449066,\n",
              " 0.9754339993449066,\n",
              " 0.9754339993449066,\n",
              " 0.9754339993449066,\n",
              " 0.9736621000012881,\n",
              " array([[215,   0,   0,   0,   1,   0,   2,   0,   0,   1,   0,   0,   0,\n",
              "           0,   0],\n",
              "        [  0, 122,   0,   1,   0,   2,   0,   0,   0,   0,   0,   1,   1,\n",
              "           0,   0],\n",
              "        [  0,   0, 250,   0,   1,   0,   0,   1,   2,   1,   0,   0,   2,\n",
              "           0,   1],\n",
              "        [  0,   3,   0, 153,   0,   0,   0,   0,   0,   0,   0,   0,   0,\n",
              "           0,   0],\n",
              "        [  0,   0,   1,   0, 169,   2,   1,   0,   2,   0,   0,   0,   1,\n",
              "           1,   0],\n",
              "        [  0,   0,   1,   3,   3, 129,   1,   0,   0,   0,   0,   3,   0,\n",
              "           0,   0],\n",
              "        [  0,   0,   0,   0,   0,   0, 118,   0,   0,   0,   0,   0,   0,\n",
              "           0,   0],\n",
              "        [  3,   0,   0,   0,   0,   1,   0, 221,   1,   1,   0,   0,   0,\n",
              "           1,   0],\n",
              "        [  0,   0,   0,   0,   0,   0,   0,   0, 235,   0,   0,   0,   1,\n",
              "           0,   0],\n",
              "        [  1,   0,   1,   0,   0,   0,   0,   2,   0, 381,   0,   0,   0,\n",
              "           0,   1],\n",
              "        [  0,   0,   0,   0,   0,   0,   0,   0,   0,   0, 173,   0,   0,\n",
              "           0,   0],\n",
              "        [  0,   0,   0,   1,   1,   0,   0,   0,   1,   0,   0, 184,   2,\n",
              "           1,   0],\n",
              "        [  2,   0,   2,   1,   0,   0,   1,   0,   1,   2,   0,   1, 280,\n",
              "           1,   0],\n",
              "        [  0,   0,   0,   0,   0,   0,   0,   0,   0,   0,   0,   0,   0,\n",
              "         224,   0],\n",
              "        [  0,   0,   0,   0,   0,   0,   0,   1,   1,   1,   0,   0,   2,\n",
              "           1, 124]]),\n",
              " 0.9754339993449066]"
            ]
          },
          "metadata": {},
          "execution_count": 31
        }
      ]
    },
    {
      "cell_type": "code",
      "source": [
        "m_eval"
      ],
      "metadata": {
        "colab": {
          "base_uri": "https://localhost:8080/"
        },
        "id": "SJUJHBHIxzXZ",
        "outputId": "ad37327c-a52e-49d3-b905-0852ee3b748c"
      },
      "execution_count": null,
      "outputs": [
        {
          "output_type": "execute_result",
          "data": {
            "text/plain": [
              "[0.9980372013618001, 0.9997766727213175, 0.9989061797736646]"
            ]
          },
          "metadata": {},
          "execution_count": 32
        }
      ]
    },
    {
      "cell_type": "code",
      "source": [
        "t_eval"
      ],
      "metadata": {
        "colab": {
          "base_uri": "https://localhost:8080/"
        },
        "id": "aBXZnh8ex1Su",
        "outputId": "fa692fd6-6cd8-41e7-acd6-bfdf374810f5"
      },
      "execution_count": null,
      "outputs": [
        {
          "output_type": "execute_result",
          "data": {
            "text/plain": [
              "[0.9284770228880388, 0.9979312841553654, 0.9619521099153304]"
            ]
          },
          "metadata": {},
          "execution_count": 33
        }
      ]
    },
    {
      "cell_type": "code",
      "source": [
        "fig, ax = plt.subplots(figsize=(10, 10))\n",
        "#plot_confusion_matrix(clf, X_test, y_test, cmap=plt.cm.Blues, ax=ax)\n",
        "sns.heatmap(c_eval[5],square=True,fmt='d',cbar=True,xticklabels=encoder_c.classes_,yticklabels=encoder_c.classes_,cmap=plt.cm.Blues,ax=ax)\n",
        "#plt.colorbar()\n",
        "plt.ylabel('predicted label')\n",
        "plt.xlabel('truth label')\n",
        "plt.title('Confusion matrix')\n",
        "plt.show()"
      ],
      "metadata": {
        "colab": {
          "base_uri": "https://localhost:8080/",
          "height": 707
        },
        "id": "-jVlxzmZyKYm",
        "outputId": "1b26f680-ab24-45d6-9884-276550fc49f1"
      },
      "execution_count": null,
      "outputs": [
        {
          "output_type": "display_data",
          "data": {
            "text/plain": [
              "<Figure size 720x720 with 2 Axes>"
            ],
            "image/png": "[encoded data removed]"
          },
          "metadata": {
            "needs_background": "light"
          }
        }
      ]
    },
    {
      "cell_type": "code",
      "execution_count": null,
      "metadata": {
        "id": "uwDXB-5MtLPQ"
      },
      "outputs": [],
      "source": [
        "root_path = drive / \"model\"\n",
        "path=os.path.join(root_path / 'CL_model_parameter_MTL.txt')\n",
        "torch.save(model.state_dict(),path)\n",
        "\n",
        "path2=os.path.join(root_path / 'CL_optimizer_paramenter_MTL.txt')\n",
        "torch.save(optimizer.state_dict(),path2)"
      ]
    },
    {
      "cell_type": "code",
      "source": [
        "with open(drive / \"model\" / \"train_loss.pickle\", 'wb') as pickle_file:\n",
        "  pickle.dump(losses_train,pickle_file)\n",
        "pickle_file.close()\n",
        "\n",
        "with open(drive / \"model\" / \"val_loss\", 'wb') as pickle_file:\n",
        "  pickle.dump(losses_val, pickle_file)\n",
        "pickle_file.close()"
      ],
      "metadata": {
        "id": "FcUMT20HFCwL"
      },
      "execution_count": null,
      "outputs": []
    }
  ],
  "metadata": {
    "accelerator": "GPU",
    "colab": {
      "provenance": [],
      "collapsed_sections": [
        "Ktlp16SELJgi",
        "k6spRVWl98fQ",
        "_m8rphcE9_Q4",
        "BB-VJ2cd-M3J",
        "BA7cumK--XVK",
        "Kh8H9Rs_wxvQ",
        "2mFQlAS7-dWC",
        "gcX0OQi_-irS",
        "zGijXOZoLUKT",
        "Cp0Bj-8wLk3Y"
      ]
    },
    "gpuClass": "standard",
    "kernelspec": {
      "display_name": "Python 3",
      "name": "python3"
    },
    "language_info": {
      "name": "python"
    }
  },
  "nbformat": 4,
  "nbformat_minor": 0
}
