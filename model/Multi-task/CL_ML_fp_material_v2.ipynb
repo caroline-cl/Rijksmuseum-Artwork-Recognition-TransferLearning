{
  "cells": [
    {
      "cell_type": "code",
      "execution_count": null,
      "metadata": {
        "id": "oYqTpb9A99eQ"
      },
      "outputs": [],
      "source": [
        "import os\n",
        "import pickle\n",
        "import numpy as np\n",
        "import pandas as pd\n",
        "import torch\n",
        "from torch.utils.data import DataLoader\n",
        "from torchvision.utils import save_image\n",
        "import torch.nn as nn\n",
        "import cv2\n",
        "import random\n",
        "import torchvision.transforms as transforms\n",
        "from torch.utils import data\n",
        "from torch.nn import functional as F\n",
        "from torchvision import models\n",
        "import matplotlib.pyplot as plt\n",
        "import pandas as pd\n",
        "import torchvision\n",
        "import numpy as np\n",
        "import torch.optim as optim\n",
        "import torchvision.datasets as td\n",
        "from torchvision import transforms\n",
        "from PIL import Image\n",
        "from skimage.feature import hog as hog\n",
        "from sklearn.model_selection import cross_val_score\n",
        "from sklearn.neighbors import KNeighborsClassifier\n",
        "from sklearn.metrics import plot_confusion_matrix,f1_score, accuracy_score, average_precision_score\n",
        "from sklearn.preprocessing import OneHotEncoder, MultiLabelBinarizer"
      ]
    },
    {
      "cell_type": "code",
      "execution_count": null,
      "metadata": {
        "colab": {
          "base_uri": "https://localhost:8080/"
        },
        "id": "jT3xhlMD-OoX",
        "outputId": "2414cbbb-bb8a-4d65-e625-1720a43fb89a"
      },
      "outputs": [
        {
          "name": "stdout",
          "output_type": "stream",
          "text": [
            "Mounted at /content/drive\n"
          ]
        }
      ],
      "source": [
        "from google.colab import drive\n",
        "import pathlib\n",
        "\n",
        "drive.mount('/content/drive', force_remount=True)\n",
        "\n",
        "drive = pathlib.Path('./drive/MyDrive') / 'ML_Project' / 'ML_FP_2022'"
      ]
    },
    {
      "cell_type": "markdown",
      "metadata": {
        "id": "Zs9lnwy5Orre"
      },
      "source": [
        "# Load data"
      ]
    },
    {
      "cell_type": "code",
      "execution_count": null,
      "metadata": {
        "id": "u8KPir5l-SbM"
      },
      "outputs": [],
      "source": [
        "with open(drive / \"data2022\" / \"multi-task\" / \"label_v1\" / \"eval_label.pickle\", 'rb') as pickle_file:\n",
        "  eval_ = pickle.load(pickle_file)\n",
        "pickle_file.close()\n",
        "\n",
        "with open(drive / \"data2022\" / \"multi-task\" / \"label_v1\" / \"test_label.pickle\", 'rb') as pickle_file:\n",
        "  test_ = pickle.load(pickle_file)\n",
        "pickle_file.close()\n",
        "\n",
        "with open(drive / \"data2022\" / \"multi-task\" / \"label_v1\" / \"train_label.pickle\", 'rb') as pickle_file:\n",
        "  train_ = pickle.load(pickle_file)\n",
        "pickle_file.close()"
      ]
    },
    {
      "cell_type": "markdown",
      "metadata": {
        "id": "NXAjc2VuOuN2"
      },
      "source": [
        "# Define preprocessor and label encoder"
      ]
    },
    {
      "cell_type": "code",
      "execution_count": null,
      "metadata": {
        "colab": {
          "base_uri": "https://localhost:8080/"
        },
        "id": "PW8_Pc2bFX9i",
        "outputId": "cb5f02ce-eb78-41ab-fc8c-e0a22625a461"
      },
      "outputs": [
        {
          "data": {
            "text/plain": [
              "MultiLabelBinarizer()"
            ]
          },
          "execution_count": 4,
          "metadata": {},
          "output_type": "execute_result"
        }
      ],
      "source": [
        "#data augmentation, define image preprocessor\n",
        "preprocess = transforms.Compose([\n",
        "    transforms.ToPILImage(),\n",
        "    transforms.Resize((256, 256)),\n",
        "    transforms.CenterCrop(224),\n",
        "    transforms.ToTensor(),\n",
        "    transforms.Normalize(mean=[0.485, 0.456, 0.406], std=[0.229, 0.224, 0.225])\n",
        "   \n",
        "])\n",
        "\n",
        "labels_c = train_['creator']+test_['creator']+eval_['creator']\n",
        "encoder_c = MultiLabelBinarizer()\n",
        "encoder_c.fit(labels_c)\n",
        "\n",
        "labels_m = train_['material']+test_['material']+eval_['material']\n",
        "encoder_m = MultiLabelBinarizer()\n",
        "encoder_m.fit(labels_m)\n",
        "\n",
        "labels_t = train_['type']+test_['type']+eval_['type']\n",
        "encoder_t = MultiLabelBinarizer()\n",
        "encoder_t.fit(labels_t)"
      ]
    },
    {
      "cell_type": "code",
      "execution_count": null,
      "metadata": {
        "colab": {
          "base_uri": "https://localhost:8080/"
        },
        "id": "j8wjL7GgSN4H",
        "outputId": "e050e6ef-1ea3-4002-e39d-7fcbc6fffdfa"
      },
      "outputs": [
        {
          "data": {
            "text/plain": [
              "array(['Japans papier', 'dekverf', 'doek', 'ebbenhout', 'eikenhout',\n",
              "       'fluweel', 'goud', 'hout', 'inkt', 'koper', 'krijt', 'leer',\n",
              "       'olieverf', 'paneel', 'papier', 'porselein', 'potlood', 'staal',\n",
              "       'steengoed', 'verf', 'waterverf', 'zilver'], dtype=object)"
            ]
          },
          "execution_count": 5,
          "metadata": {},
          "output_type": "execute_result"
        }
      ],
      "source": [
        "encoder_m.classes_"
      ]
    },
    {
      "cell_type": "markdown",
      "metadata": {
        "id": "9sW6DHNqOmIW"
      },
      "source": [
        "# Dataset"
      ]
    },
    {
      "cell_type": "code",
      "execution_count": null,
      "metadata": {
        "id": "_lnBxMs6Rrtl"
      },
      "outputs": [],
      "source": [
        "class train_dataset():\n",
        "  def __init__(self, dict_ = train_, encoder = [encoder_c, encoder_m, encoder_t]):\n",
        "    #load data\n",
        "    self.transform = preprocess\n",
        "    self.image = dict_['identifier']\n",
        "    self.creator = encoder[0].transform(dict_['creator'])\n",
        "    self.material = encoder[1].transform(dict_['material'])\n",
        "    self.art_type = encoder[2].transform(dict_['type'])\n",
        "    \n",
        "  def __len__(self):\n",
        "    return len(self.image)\n",
        "\n",
        "  def __getitem__(self, index, img_path=drive / \"data2022\" / \"multi-task\" / 'data' / \"train set new\"):\n",
        "    # img augmentation\n",
        "    img = cv2.imread(os.path.join(img_path / self.image[index]))\n",
        "    img = self.transform(img)\n",
        "    \n",
        "    #label\n",
        "    creator = self.creator[index]\n",
        "    material = self.material[index]\n",
        "    art_type = self.art_type[index]\n",
        "\n",
        "    sample = {'image' : img, 'creator' : creator, 'material' : material, 'type' : art_type}\n",
        "    return sample"
      ]
    },
    {
      "cell_type": "code",
      "execution_count": null,
      "metadata": {
        "id": "W2g3YGPURwom"
      },
      "outputs": [],
      "source": [
        "class test_dataset():\n",
        "  def __init__(self, dict_ = test_, encoder = [encoder_c, encoder_m, encoder_t]):\n",
        "    #load data\n",
        "    self.transform = preprocess\n",
        "    self.image = dict_['identifier']\n",
        "    self.creator = encoder[0].transform(dict_['creator'])\n",
        "    self.material = encoder[1].transform(dict_['material'])\n",
        "    self.art_type = encoder[2].transform(dict_['type'])\n",
        "    \n",
        "  def __len__(self):\n",
        "    return len(self.image)\n",
        "\n",
        "  def __getitem__(self, index, img_path=drive / \"data2022\" / \"multi-task\" / 'data' / \"test set\"):\n",
        "    # img augmentation\n",
        "    img = cv2.imread(os.path.join(img_path / self.image[index]))\n",
        "    img = self.transform(img)\n",
        "    \n",
        "    #label\n",
        "    creator = self.creator[index]\n",
        "    material = self.material[index]\n",
        "    art_type = self.art_type[index]\n",
        "\n",
        "    sample = {'image' : img, 'creator' : creator, 'material' : material, 'type' : art_type}\n",
        "    return sample"
      ]
    },
    {
      "cell_type": "code",
      "execution_count": null,
      "metadata": {
        "id": "CrKV5pyCKLzT"
      },
      "outputs": [],
      "source": [
        "class val_dataset():\n",
        "  def __init__(self, dict_ = eval_, encoder = [encoder_c, encoder_m, encoder_t]):\n",
        "    #load data\n",
        "    self.transform = preprocess\n",
        "    self.image = dict_['identifier']\n",
        "    self.creator = encoder[0].transform(dict_['creator'])\n",
        "    self.material = encoder[1].transform(dict_['material'])\n",
        "    self.art_type = encoder[2].transform(dict_['type'])\n",
        "    \n",
        "  def __len__(self):\n",
        "    return len(self.image)\n",
        "\n",
        "  def __getitem__(self, index, img_path=drive / \"data2022\" / \"multi-task\" / 'data' / \"eval set\"):\n",
        "    # img augmentation\n",
        "    img = cv2.imread(os.path.join(img_path / self.image[index]))\n",
        "    img = self.transform(img)\n",
        "    \n",
        "    #label\n",
        "    creator = self.creator[index]\n",
        "    material = self.material[index]\n",
        "    art_type = self.art_type[index]\n",
        "\n",
        "    sample = {'image' : img, 'creator' : creator, 'material' : material, 'type' : art_type}\n",
        "    return sample"
      ]
    },
    {
      "cell_type": "code",
      "execution_count": null,
      "metadata": {
        "id": "oiFsxTmLPR0v"
      },
      "outputs": [],
      "source": [
        "train = train_dataset()\n",
        "test = test_dataset()\n",
        "val = val_dataset()"
      ]
    },
    {
      "cell_type": "markdown",
      "metadata": {
        "id": "1ViyLh4kO7pG"
      },
      "source": [
        "# Data Loader"
      ]
    },
    {
      "cell_type": "code",
      "execution_count": null,
      "metadata": {
        "id": "uE_wh-XiO-Kn"
      },
      "outputs": [],
      "source": [
        "BATCH_SIZE = 32\n",
        "\n",
        "train_dataloader = DataLoader(train, shuffle=True, batch_size=BATCH_SIZE)\n",
        "test_dataloader = DataLoader(test, shuffle=False, batch_size=BATCH_SIZE)\n",
        "val_dataloader = DataLoader(val, shuffle=False, batch_size=BATCH_SIZE)"
      ]
    },
    {
      "cell_type": "markdown",
      "metadata": {
        "id": "F-1LcLELUlF5"
      },
      "source": [
        "# Train and Evaluate Module"
      ]
    },
    {
      "cell_type": "code",
      "execution_count": null,
      "metadata": {
        "id": "Jw_dUa5aVNMB"
      },
      "outputs": [],
      "source": [
        "###main train and evaluate function ###\n",
        "def train_main(model,loss_fn,optimizer,train_loader,device):\n",
        "  loss_epoch=[]\n",
        "  for batchind,data in enumerate(train_loader):\n",
        "    model.train()\n",
        "    ##(b,c,h,w)\n",
        "    images = torch.Tensor(data['image']).to(device)\n",
        "    label = torch.Tensor(data['material']).to(device)\n",
        "    #print(images.shape)\n",
        "    optimizer.zero_grad()\n",
        "    outputs=model(images)\n",
        "    outputs=outputs.unsqueeze(1).float()\n",
        "    label=label.unsqueeze(1).float()\n",
        "\n",
        "    loss=loss_fn(outputs,label)\n",
        "    loss_epoch.append(loss.item())\n",
        "\n",
        "    loss.backward()\n",
        "    optimizer.step()\n",
        "    print(\"batch : \", batchind, \" is finished.\")\n",
        "  return loss_epoch\n",
        "\n",
        "def evaluate_whole(model,evaluate_loader):\n",
        "  predict_list=[]\n",
        "  y_ = []\n",
        "  model.eval()\n",
        "  with torch.no_grad():\n",
        "    for batchind,data in enumerate(evaluate_loader):\n",
        "      images = torch.Tensor(data['image']).to(device)\n",
        "      label = torch.Tensor(data['material']).to(device).float()\n",
        "      ##change to (1,c,h,w)\n",
        "      outputs=model(images).detach().float()\n",
        "      predict_list.append(torch.Tensor.round(outputs))\n",
        "      y_.append(torch.Tensor.round(label))\n",
        "      \n",
        "  #mAP\n",
        "  print(y_[0].shape)\n",
        "  print(predict_list[0].shape)\n",
        "  mAp = 0\n",
        "  for index in range(len(predict_list)-1):\n",
        "    for i in range(BATCH_SIZE):\n",
        "      mAp = mAp + average_precision_score(predict_list[index][i, :].detach().cpu().numpy(), y_[index][i, :].detach().cpu().numpy())\n",
        "    mAp = mAp / BATCH_SIZE\n",
        "  return predict_list, mAp"
      ]
    },
    {
      "cell_type": "markdown",
      "metadata": {
        "id": "hRovP-CdSc2H"
      },
      "source": [
        "# ResNet 50"
      ]
    },
    {
      "cell_type": "code",
      "execution_count": null,
      "metadata": {
        "colab": {
          "base_uri": "https://localhost:8080/",
          "height": 212,
          "referenced_widgets": [
            "7649a7e44040460b8f45394f718905b2",
            "6f2235fd351b4c60a322d511af32fe4d",
            "6acd9beb246540db9a934b3bb97a0168",
            "f954758e62024c97bf294419627285f9",
            "f2c938f289ee416ba310f4877b34d654",
            "62e660c61a584cf6a731a47a4e750de5",
            "f5570a255ddc4fd5b745474f214d10f4",
            "4250f0b6ee1d4d03a102919dff8bcbaa",
            "948dbd8719334ad3bbb4c484992e578f",
            "2ca8aa01144542f185f5aa047515c474",
            "107d1352945b411e9bac6dcd1f18a343"
          ]
        },
        "id": "tZsynjHiScGf",
        "outputId": "dce6b2c3-749f-45b9-b2d4-2af2babb2fc4"
      },
      "outputs": [
        {
          "name": "stderr",
          "output_type": "stream",
          "text": [
            "/usr/local/lib/python3.8/dist-packages/torch/hub.py:267: UserWarning: You are about to download and run code from an untrusted repository. In a future release, this won't be allowed. To add the repository to your trusted list, change the command to {calling_fn}(..., trust_repo=False) and a command prompt will appear asking for an explicit confirmation of trust, or load(..., trust_repo=True), which will assume that the prompt is to be answered with 'yes'. You can also use load(..., trust_repo='check') which will only prompt for confirmation if the repo is not already trusted. This will eventually be the default behaviour\n",
            "  warnings.warn(\n",
            "Downloading: \"https://github.com/NVIDIA/DeepLearningExamples/zipball/torchhub\" to /root/.cache/torch/hub/torchhub.zip\n",
            "/root/.cache/torch/hub/NVIDIA_DeepLearningExamples_torchhub/PyTorch/Classification/ConvNets/image_classification/models/common.py:13: UserWarning: pytorch_quantization module not found, quantization will not be available\n",
            "  warnings.warn(\n",
            "/root/.cache/torch/hub/NVIDIA_DeepLearningExamples_torchhub/PyTorch/Classification/ConvNets/image_classification/models/efficientnet.py:17: UserWarning: pytorch_quantization module not found, quantization will not be available\n",
            "  warnings.warn(\n",
            "Downloading: \"https://api.ngc.nvidia.com/v2/models/nvidia/resnet50_pyt_amp/versions/20.06.0/files/nvidia_resnet50_200821.pth.tar\" to /root/.cache/torch/hub/checkpoints/nvidia_resnet50_200821.pth.tar\n"
          ]
        },
        {
          "data": {
            "application/vnd.jupyter.widget-view+json": {
              "model_id": "7649a7e44040460b8f45394f718905b2",
              "version_major": 2,
              "version_minor": 0
            },
            "text/plain": [
              "  0%|          | 0.00/97.7M [00:00<?, ?B/s]"
            ]
          },
          "metadata": {},
          "output_type": "display_data"
        }
      ],
      "source": [
        "##load pretrained resnet50 network ###\n",
        "resnet50 = torch.hub.load('NVIDIA/DeepLearningExamples:torchhub', 'nvidia_resnet50', pretrained=True)\n",
        "resnet50=nn.Sequential(\n",
        "    resnet50,\n",
        "    nn.Linear(1000,22),\n",
        "    nn.Sigmoid()\n",
        ")"
      ]
    },
    {
      "cell_type": "code",
      "execution_count": null,
      "metadata": {
        "colab": {
          "base_uri": "https://localhost:8080/"
        },
        "id": "PHEOySPRT1I3",
        "outputId": "f5ef5158-52ed-4bca-d90a-ba09a7c88a20"
      },
      "outputs": [
        {
          "name": "stdout",
          "output_type": "stream",
          "text": [
            "<class 'dict'>\n"
          ]
        }
      ],
      "source": [
        "num_epoch=3\n",
        "device = torch.device(\"cuda:0\" if torch.cuda.is_available() else \"cpu\")\n",
        "model=resnet50.to(device)\n",
        "model.load_state_dict(torch.load(drive / \"model\" / \"ResNet50_material_v2\" / 'model_paramenter_ResNet50_material_v2.txt'))\n",
        "loss_fn = nn.BCELoss()\n",
        "optimizer=optim.Adam(filter(lambda p:p.requires_grad,model.parameters()),lr=1e-4)\n",
        "state_dict = torch.load(drive / \"model\" / \"ResNet50_material_v2\" / 'optimizer_paramenter_ResNet50_material_v2.txt')\n",
        "print(type(state_dict))\n",
        "# optimizer.load_state_dict(state_dict)"
      ]
    },
    {
      "cell_type": "code",
      "execution_count": null,
      "metadata": {
        "colab": {
          "background_save": true,
          "base_uri": "https://localhost:8080/"
        },
        "id": "DpUpNzzrd7VQ",
        "outputId": "938c2f9f-8909-4dc3-d5b4-39ebe61294d5"
      },
      "outputs": [
        {
          "name": "stdout",
          "output_type": "stream",
          "text": [
            "batch :  0  is finished.\n",
            "batch :  1  is finished.\n",
            "batch :  2  is finished.\n",
            "batch :  3  is finished.\n",
            "batch :  4  is finished.\n",
            "batch :  5  is finished.\n",
            "batch :  6  is finished.\n",
            "batch :  7  is finished.\n",
            "batch :  8  is finished.\n",
            "batch :  9  is finished.\n",
            "batch :  10  is finished.\n",
            "batch :  11  is finished.\n",
            "batch :  12  is finished.\n",
            "batch :  13  is finished.\n",
            "batch :  14  is finished.\n",
            "batch :  15  is finished.\n",
            "batch :  16  is finished.\n",
            "batch :  17  is finished.\n",
            "batch :  18  is finished.\n",
            "batch :  19  is finished.\n",
            "batch :  20  is finished.\n",
            "batch :  21  is finished.\n",
            "batch :  22  is finished.\n",
            "batch :  23  is finished.\n",
            "batch :  24  is finished.\n",
            "batch :  25  is finished.\n",
            "batch :  26  is finished.\n",
            "batch :  27  is finished.\n",
            "batch :  28  is finished.\n",
            "batch :  29  is finished.\n",
            "batch :  30  is finished.\n",
            "batch :  31  is finished.\n",
            "batch :  32  is finished.\n",
            "batch :  33  is finished.\n",
            "batch :  34  is finished.\n",
            "batch :  35  is finished.\n",
            "batch :  36  is finished.\n",
            "batch :  37  is finished.\n",
            "batch :  38  is finished.\n",
            "batch :  39  is finished.\n",
            "batch :  40  is finished.\n",
            "batch :  41  is finished.\n",
            "batch :  42  is finished.\n",
            "batch :  43  is finished.\n",
            "batch :  44  is finished.\n",
            "batch :  45  is finished.\n",
            "batch :  46  is finished.\n",
            "batch :  47  is finished.\n",
            "batch :  48  is finished.\n",
            "batch :  49  is finished.\n",
            "batch :  50  is finished.\n",
            "batch :  51  is finished.\n",
            "batch :  52  is finished.\n",
            "batch :  53  is finished.\n",
            "batch :  54  is finished.\n",
            "batch :  55  is finished.\n",
            "batch :  56  is finished.\n",
            "batch :  57  is finished.\n",
            "batch :  58  is finished.\n",
            "batch :  59  is finished.\n",
            "batch :  60  is finished.\n",
            "batch :  61  is finished.\n",
            "batch :  62  is finished.\n",
            "batch :  63  is finished.\n",
            "batch :  64  is finished.\n",
            "batch :  65  is finished.\n",
            "batch :  66  is finished.\n",
            "batch :  67  is finished.\n",
            "batch :  68  is finished.\n",
            "batch :  69  is finished.\n",
            "batch :  70  is finished.\n",
            "batch :  71  is finished.\n",
            "batch :  72  is finished.\n",
            "batch :  73  is finished.\n",
            "batch :  74  is finished.\n",
            "batch :  75  is finished.\n",
            "batch :  76  is finished.\n",
            "batch :  77  is finished.\n",
            "batch :  78  is finished.\n",
            "batch :  79  is finished.\n",
            "batch :  80  is finished.\n",
            "batch :  81  is finished.\n",
            "batch :  82  is finished.\n",
            "batch :  83  is finished.\n",
            "batch :  84  is finished.\n",
            "batch :  85  is finished.\n",
            "batch :  86  is finished.\n",
            "batch :  87  is finished.\n",
            "batch :  88  is finished.\n",
            "batch :  89  is finished.\n",
            "batch :  90  is finished.\n",
            "batch :  91  is finished.\n",
            "batch :  92  is finished.\n",
            "batch :  93  is finished.\n",
            "batch :  94  is finished.\n",
            "batch :  95  is finished.\n",
            "batch :  96  is finished.\n",
            "batch :  97  is finished.\n",
            "batch :  98  is finished.\n",
            "batch :  99  is finished.\n",
            "batch :  100  is finished.\n",
            "batch :  101  is finished.\n",
            "batch :  102  is finished.\n",
            "batch :  103  is finished.\n",
            "batch :  104  is finished.\n",
            "batch :  105  is finished.\n",
            "batch :  106  is finished.\n",
            "batch :  107  is finished.\n",
            "batch :  108  is finished.\n",
            "batch :  109  is finished.\n",
            "batch :  110  is finished.\n",
            "batch :  111  is finished.\n",
            "batch :  112  is finished.\n",
            "batch :  113  is finished.\n",
            "batch :  114  is finished.\n",
            "batch :  115  is finished.\n",
            "batch :  116  is finished.\n",
            "batch :  117  is finished.\n",
            "batch :  118  is finished.\n",
            "batch :  119  is finished.\n",
            "batch :  120  is finished.\n",
            "batch :  121  is finished.\n",
            "batch :  122  is finished.\n",
            "batch :  123  is finished.\n",
            "batch :  124  is finished.\n",
            "batch :  125  is finished.\n",
            "batch :  126  is finished.\n",
            "batch :  127  is finished.\n",
            "batch :  128  is finished.\n",
            "batch :  129  is finished.\n",
            "batch :  130  is finished.\n",
            "batch :  131  is finished.\n",
            "batch :  132  is finished.\n",
            "batch :  133  is finished.\n",
            "batch :  134  is finished.\n",
            "batch :  135  is finished.\n",
            "batch :  136  is finished.\n",
            "batch :  137  is finished.\n",
            "batch :  138  is finished.\n",
            "batch :  139  is finished.\n",
            "batch :  140  is finished.\n",
            "batch :  141  is finished.\n",
            "batch :  142  is finished.\n",
            "batch :  143  is finished.\n",
            "batch :  144  is finished.\n",
            "batch :  145  is finished.\n",
            "batch :  146  is finished.\n",
            "batch :  147  is finished.\n",
            "batch :  148  is finished.\n",
            "batch :  149  is finished.\n",
            "batch :  150  is finished.\n",
            "batch :  151  is finished.\n",
            "batch :  152  is finished.\n",
            "batch :  153  is finished.\n",
            "batch :  154  is finished.\n",
            "batch :  155  is finished.\n",
            "batch :  156  is finished.\n",
            "batch :  157  is finished.\n",
            "batch :  158  is finished.\n",
            "batch :  159  is finished.\n",
            "batch :  160  is finished.\n",
            "batch :  161  is finished.\n",
            "batch :  162  is finished.\n",
            "batch :  163  is finished.\n",
            "batch :  164  is finished.\n",
            "batch :  165  is finished.\n",
            "batch :  166  is finished.\n",
            "batch :  167  is finished.\n",
            "batch :  168  is finished.\n",
            "batch :  169  is finished.\n",
            "batch :  170  is finished.\n",
            "batch :  171  is finished.\n",
            "batch :  172  is finished.\n",
            "batch :  173  is finished.\n",
            "batch :  174  is finished.\n",
            "batch :  175  is finished.\n",
            "batch :  176  is finished.\n",
            "batch :  177  is finished.\n",
            "batch :  178  is finished.\n",
            "batch :  179  is finished.\n",
            "batch :  180  is finished.\n",
            "batch :  181  is finished.\n",
            "batch :  182  is finished.\n",
            "batch :  183  is finished.\n",
            "batch :  184  is finished.\n",
            "batch :  185  is finished.\n",
            "batch :  186  is finished.\n",
            "batch :  187  is finished.\n",
            "batch :  188  is finished.\n",
            "batch :  189  is finished.\n",
            "batch :  190  is finished.\n",
            "batch :  191  is finished.\n",
            "batch :  192  is finished.\n",
            "batch :  193  is finished.\n",
            "batch :  194  is finished.\n",
            "batch :  195  is finished.\n",
            "batch :  196  is finished.\n",
            "batch :  197  is finished.\n",
            "batch :  198  is finished.\n",
            "batch :  199  is finished.\n",
            "batch :  200  is finished.\n",
            "batch :  201  is finished.\n",
            "batch :  202  is finished.\n",
            "batch :  203  is finished.\n",
            "batch :  204  is finished.\n",
            "batch :  205  is finished.\n",
            "batch :  206  is finished.\n",
            "batch :  207  is finished.\n",
            "batch :  208  is finished.\n",
            "batch :  209  is finished.\n",
            "batch :  210  is finished.\n",
            "batch :  211  is finished.\n",
            "batch :  212  is finished.\n",
            "batch :  213  is finished.\n",
            "batch :  214  is finished.\n",
            "batch :  215  is finished.\n",
            "batch :  216  is finished.\n",
            "batch :  217  is finished.\n",
            "batch :  218  is finished.\n",
            "batch :  219  is finished.\n",
            "batch :  220  is finished.\n",
            "batch :  221  is finished.\n",
            "batch :  222  is finished.\n",
            "batch :  223  is finished.\n",
            "batch :  224  is finished.\n",
            "batch :  225  is finished.\n",
            "batch :  226  is finished.\n",
            "batch :  227  is finished.\n",
            "batch :  228  is finished.\n",
            "batch :  229  is finished.\n",
            "batch :  230  is finished.\n",
            "batch :  231  is finished.\n",
            "batch :  232  is finished.\n",
            "batch :  233  is finished.\n",
            "batch :  234  is finished.\n",
            "batch :  235  is finished.\n",
            "batch :  236  is finished.\n",
            "batch :  237  is finished.\n",
            "batch :  238  is finished.\n",
            "batch :  239  is finished.\n",
            "batch :  240  is finished.\n",
            "batch :  241  is finished.\n",
            "batch :  242  is finished.\n",
            "batch :  243  is finished.\n",
            "batch :  244  is finished.\n",
            "batch :  245  is finished.\n",
            "batch :  246  is finished.\n",
            "batch :  247  is finished.\n",
            "batch :  248  is finished.\n",
            "batch :  249  is finished.\n",
            "batch :  250  is finished.\n",
            "batch :  251  is finished.\n",
            "batch :  252  is finished.\n",
            "batch :  253  is finished.\n",
            "batch :  254  is finished.\n",
            "batch :  255  is finished.\n",
            "batch :  256  is finished.\n",
            "batch :  257  is finished.\n",
            "batch :  258  is finished.\n",
            "batch :  259  is finished.\n",
            "batch :  260  is finished.\n",
            "batch :  261  is finished.\n",
            "batch :  262  is finished.\n",
            "batch :  263  is finished.\n",
            "batch :  264  is finished.\n",
            "batch :  265  is finished.\n",
            "batch :  266  is finished.\n",
            "batch :  267  is finished.\n",
            "batch :  268  is finished.\n",
            "batch :  269  is finished.\n",
            "batch :  270  is finished.\n",
            "batch :  271  is finished.\n",
            "batch :  272  is finished.\n",
            "batch :  273  is finished.\n",
            "batch :  274  is finished.\n",
            "batch :  275  is finished.\n",
            "batch :  276  is finished.\n",
            "batch :  277  is finished.\n",
            "batch :  278  is finished.\n",
            "batch :  279  is finished.\n",
            "batch :  280  is finished.\n",
            "batch :  281  is finished.\n",
            "batch :  282  is finished.\n",
            "batch :  283  is finished.\n",
            "batch :  284  is finished.\n",
            "batch :  285  is finished.\n",
            "batch :  286  is finished.\n",
            "batch :  287  is finished.\n",
            "batch :  288  is finished.\n",
            "batch :  289  is finished.\n",
            "batch :  290  is finished.\n",
            "batch :  291  is finished.\n",
            "batch :  292  is finished.\n",
            "batch :  293  is finished.\n",
            "batch :  294  is finished.\n",
            "batch :  295  is finished.\n",
            "batch :  296  is finished.\n",
            "batch :  297  is finished.\n",
            "batch :  298  is finished.\n",
            "batch :  299  is finished.\n",
            "batch :  300  is finished.\n",
            "batch :  301  is finished.\n",
            "batch :  302  is finished.\n",
            "batch :  303  is finished.\n",
            "batch :  304  is finished.\n",
            "batch :  305  is finished.\n",
            "batch :  306  is finished.\n",
            "batch :  307  is finished.\n",
            "batch :  308  is finished.\n",
            "batch :  309  is finished.\n",
            "batch :  310  is finished.\n",
            "batch :  311  is finished.\n",
            "batch :  312  is finished.\n",
            "batch :  313  is finished.\n",
            "batch :  314  is finished.\n",
            "batch :  315  is finished.\n",
            "batch :  316  is finished.\n",
            "batch :  317  is finished.\n",
            "batch :  318  is finished.\n",
            "batch :  319  is finished.\n",
            "batch :  320  is finished.\n",
            "batch :  321  is finished.\n",
            "batch :  322  is finished.\n",
            "batch :  323  is finished.\n",
            "batch :  324  is finished.\n",
            "batch :  325  is finished.\n",
            "batch :  326  is finished.\n",
            "batch :  327  is finished.\n",
            "batch :  328  is finished.\n",
            "batch :  329  is finished.\n",
            "batch :  330  is finished.\n",
            "batch :  331  is finished.\n",
            "batch :  332  is finished.\n",
            "batch :  333  is finished.\n"
          ]
        }
      ],
      "source": [
        "train_loss=[]\n",
        "evaluate_score=[]\n",
        "for i in range(num_epoch):\n",
        "  loss=train_main(model,loss_fn,optimizer,train_dataloader, device)\n",
        "  train_loss.append(np.mean(loss))\n",
        "  predict_r, mAp =evaluate_whole(model, evaluate_loader=val_dataloader)\n",
        "  evaluate_score.append(mAp)\n",
        "  print(f'epoch{i+1} has been trained')"
      ]
    },
    {
      "cell_type": "code",
      "execution_count": null,
      "metadata": {
        "id": "VUlP3HFuH_p-"
      },
      "outputs": [],
      "source": [
        "root_path = drive / \"model\" / \"ResNet50_material_v2\"\n",
        "path=os.path.join(root_path / 'model_paramenter_ResNet50_material_v2.txt')\n",
        "torch.save(model.state_dict(),path)\n",
        "\n",
        "path2=os.path.join(root_path / 'optimizer_paramenter_ResNet50_material_v2.txt')\n",
        "torch.save(optimizer.state_dict(),path2)"
      ]
    },
    {
      "cell_type": "code",
      "execution_count": null,
      "metadata": {
        "colab": {
          "base_uri": "https://localhost:8080/"
        },
        "id": "whzY4ew6VN4y",
        "outputId": "165a17b5-e626-48fd-8a58-ecd86964bcdd"
      },
      "outputs": [
        {
          "data": {
            "text/plain": [
              "1.032258064516129"
            ]
          },
          "execution_count": 16,
          "metadata": {},
          "output_type": "execute_result"
        }
      ],
      "source": [
        "mAp"
      ]
    },
    {
      "cell_type": "code",
      "execution_count": null,
      "metadata": {
        "colab": {
          "base_uri": "https://localhost:8080/",
          "height": 299
        },
        "id": "ofdF8CdsRbcd",
        "outputId": "e8ad0f1c-b65f-4f1f-f3d8-09b1718034d8"
      },
      "outputs": [
        {
          "ename": "AttributeError",
          "evalue": "ignored",
          "output_type": "error",
          "traceback": [
            "\u001b[0;31m---------------------------------------------------------------------------\u001b[0m",
            "\u001b[0;31mAttributeError\u001b[0m                            Traceback (most recent call last)",
            "\u001b[0;32m<ipython-input-24-8510442bfcdc>\u001b[0m in \u001b[0;36m<module>\u001b[0;34m\u001b[0m\n\u001b[0;32m----> 1\u001b[0;31m \u001b[0mpredict_r\u001b[0m\u001b[0;34m,\u001b[0m \u001b[0mmAp\u001b[0m \u001b[0;34m=\u001b[0m\u001b[0mevaluate_whole\u001b[0m\u001b[0;34m(\u001b[0m\u001b[0mmodel\u001b[0m\u001b[0;34m,\u001b[0m \u001b[0mevaluate_loader\u001b[0m\u001b[0;34m=\u001b[0m\u001b[0mtest_dataloader\u001b[0m\u001b[0;34m)\u001b[0m\u001b[0;34m\u001b[0m\u001b[0;34m\u001b[0m\u001b[0m\n\u001b[0m",
            "\u001b[0;32m<ipython-input-13-3396a9ed1933>\u001b[0m in \u001b[0;36mevaluate_whole\u001b[0;34m(model, evaluate_loader)\u001b[0m\n\u001b[1;32m     24\u001b[0m   \u001b[0mpredict_list\u001b[0m\u001b[0;34m=\u001b[0m\u001b[0;34m[\u001b[0m\u001b[0;34m]\u001b[0m\u001b[0;34m\u001b[0m\u001b[0;34m\u001b[0m\u001b[0m\n\u001b[1;32m     25\u001b[0m   \u001b[0my_\u001b[0m \u001b[0;34m=\u001b[0m \u001b[0;34m[\u001b[0m\u001b[0;34m]\u001b[0m\u001b[0;34m\u001b[0m\u001b[0;34m\u001b[0m\u001b[0m\n\u001b[0;32m---> 26\u001b[0;31m   \u001b[0mmodel\u001b[0m\u001b[0;34m.\u001b[0m\u001b[0meval\u001b[0m\u001b[0;34m(\u001b[0m\u001b[0;34m)\u001b[0m\u001b[0;34m\u001b[0m\u001b[0;34m\u001b[0m\u001b[0m\n\u001b[0m\u001b[1;32m     27\u001b[0m   \u001b[0;32mwith\u001b[0m \u001b[0mtorch\u001b[0m\u001b[0;34m.\u001b[0m\u001b[0mno_grad\u001b[0m\u001b[0;34m(\u001b[0m\u001b[0;34m)\u001b[0m\u001b[0;34m:\u001b[0m\u001b[0;34m\u001b[0m\u001b[0;34m\u001b[0m\u001b[0m\n\u001b[1;32m     28\u001b[0m     \u001b[0;32mfor\u001b[0m \u001b[0mbatchind\u001b[0m\u001b[0;34m,\u001b[0m\u001b[0mdata\u001b[0m \u001b[0;32min\u001b[0m \u001b[0menumerate\u001b[0m\u001b[0;34m(\u001b[0m\u001b[0mevaluate_loader\u001b[0m\u001b[0;34m)\u001b[0m\u001b[0;34m:\u001b[0m\u001b[0;34m\u001b[0m\u001b[0;34m\u001b[0m\u001b[0m\n",
            "\u001b[0;31mAttributeError\u001b[0m: '_IncompatibleKeys' object has no attribute 'eval'"
          ]
        }
      ],
      "source": [
        "predict_r, mAp =evaluate_whole(model, evaluate_loader=test_dataloader)"
      ]
    },
    {
      "cell_type": "markdown",
      "metadata": {
        "id": "e-MIzm3KJvlS"
      },
      "source": [
        "."
      ]
    }
  ],
  "metadata": {
    "accelerator": "GPU",
    "colab": {
      "provenance": []
    },
    "gpuClass": "standard",
    "kernelspec": {
      "display_name": "Python 3",
      "name": "python3"
    },
    "language_info": {
      "name": "python"
    },
    "widgets": {
      "application/vnd.jupyter.widget-state+json": {
        "107d1352945b411e9bac6dcd1f18a343": {
          "model_module": "@jupyter-widgets/controls",
          "model_module_version": "1.5.0",
          "model_name": "DescriptionStyleModel",
          "state": {
            "_model_module": "@jupyter-widgets/controls",
            "_model_module_version": "1.5.0",
            "_model_name": "DescriptionStyleModel",
            "_view_count": null,
            "_view_module": "@jupyter-widgets/base",
            "_view_module_version": "1.2.0",
            "_view_name": "StyleView",
            "description_width": ""
          }
        },
        "2ca8aa01144542f185f5aa047515c474": {
          "model_module": "@jupyter-widgets/base",
          "model_module_version": "1.2.0",
          "model_name": "LayoutModel",
          "state": {
            "_model_module": "@jupyter-widgets/base",
            "_model_module_version": "1.2.0",
            "_model_name": "LayoutModel",
            "_view_count": null,
            "_view_module": "@jupyter-widgets/base",
            "_view_module_version": "1.2.0",
            "_view_name": "LayoutView",
            "align_content": null,
            "align_items": null,
            "align_self": null,
            "border": null,
            "bottom": null,
            "display": null,
            "flex": null,
            "flex_flow": null,
            "grid_area": null,
            "grid_auto_columns": null,
            "grid_auto_flow": null,
            "grid_auto_rows": null,
            "grid_column": null,
            "grid_gap": null,
            "grid_row": null,
            "grid_template_areas": null,
            "grid_template_columns": null,
            "grid_template_rows": null,
            "height": null,
            "justify_content": null,
            "justify_items": null,
            "left": null,
            "margin": null,
            "max_height": null,
            "max_width": null,
            "min_height": null,
            "min_width": null,
            "object_fit": null,
            "object_position": null,
            "order": null,
            "overflow": null,
            "overflow_x": null,
            "overflow_y": null,
            "padding": null,
            "right": null,
            "top": null,
            "visibility": null,
            "width": null
          }
        },
        "4250f0b6ee1d4d03a102919dff8bcbaa": {
          "model_module": "@jupyter-widgets/base",
          "model_module_version": "1.2.0",
          "model_name": "LayoutModel",
          "state": {
            "_model_module": "@jupyter-widgets/base",
            "_model_module_version": "1.2.0",
            "_model_name": "LayoutModel",
            "_view_count": null,
            "_view_module": "@jupyter-widgets/base",
            "_view_module_version": "1.2.0",
            "_view_name": "LayoutView",
            "align_content": null,
            "align_items": null,
            "align_self": null,
            "border": null,
            "bottom": null,
            "display": null,
            "flex": null,
            "flex_flow": null,
            "grid_area": null,
            "grid_auto_columns": null,
            "grid_auto_flow": null,
            "grid_auto_rows": null,
            "grid_column": null,
            "grid_gap": null,
            "grid_row": null,
            "grid_template_areas": null,
            "grid_template_columns": null,
            "grid_template_rows": null,
            "height": null,
            "justify_content": null,
            "justify_items": null,
            "left": null,
            "margin": null,
            "max_height": null,
            "max_width": null,
            "min_height": null,
            "min_width": null,
            "object_fit": null,
            "object_position": null,
            "order": null,
            "overflow": null,
            "overflow_x": null,
            "overflow_y": null,
            "padding": null,
            "right": null,
            "top": null,
            "visibility": null,
            "width": null
          }
        },
        "62e660c61a584cf6a731a47a4e750de5": {
          "model_module": "@jupyter-widgets/base",
          "model_module_version": "1.2.0",
          "model_name": "LayoutModel",
          "state": {
            "_model_module": "@jupyter-widgets/base",
            "_model_module_version": "1.2.0",
            "_model_name": "LayoutModel",
            "_view_count": null,
            "_view_module": "@jupyter-widgets/base",
            "_view_module_version": "1.2.0",
            "_view_name": "LayoutView",
            "align_content": null,
            "align_items": null,
            "align_self": null,
            "border": null,
            "bottom": null,
            "display": null,
            "flex": null,
            "flex_flow": null,
            "grid_area": null,
            "grid_auto_columns": null,
            "grid_auto_flow": null,
            "grid_auto_rows": null,
            "grid_column": null,
            "grid_gap": null,
            "grid_row": null,
            "grid_template_areas": null,
            "grid_template_columns": null,
            "grid_template_rows": null,
            "height": null,
            "justify_content": null,
            "justify_items": null,
            "left": null,
            "margin": null,
            "max_height": null,
            "max_width": null,
            "min_height": null,
            "min_width": null,
            "object_fit": null,
            "object_position": null,
            "order": null,
            "overflow": null,
            "overflow_x": null,
            "overflow_y": null,
            "padding": null,
            "right": null,
            "top": null,
            "visibility": null,
            "width": null
          }
        },
        "6acd9beb246540db9a934b3bb97a0168": {
          "model_module": "@jupyter-widgets/controls",
          "model_module_version": "1.5.0",
          "model_name": "FloatProgressModel",
          "state": {
            "_dom_classes": [],
            "_model_module": "@jupyter-widgets/controls",
            "_model_module_version": "1.5.0",
            "_model_name": "FloatProgressModel",
            "_view_count": null,
            "_view_module": "@jupyter-widgets/controls",
            "_view_module_version": "1.5.0",
            "_view_name": "ProgressView",
            "bar_style": "success",
            "description": "",
            "description_tooltip": null,
            "layout": "IPY_MODEL_4250f0b6ee1d4d03a102919dff8bcbaa",
            "max": 102491118,
            "min": 0,
            "orientation": "horizontal",
            "style": "IPY_MODEL_948dbd8719334ad3bbb4c484992e578f",
            "value": 102491118
          }
        },
        "6f2235fd351b4c60a322d511af32fe4d": {
          "model_module": "@jupyter-widgets/controls",
          "model_module_version": "1.5.0",
          "model_name": "HTMLModel",
          "state": {
            "_dom_classes": [],
            "_model_module": "@jupyter-widgets/controls",
            "_model_module_version": "1.5.0",
            "_model_name": "HTMLModel",
            "_view_count": null,
            "_view_module": "@jupyter-widgets/controls",
            "_view_module_version": "1.5.0",
            "_view_name": "HTMLView",
            "description": "",
            "description_tooltip": null,
            "layout": "IPY_MODEL_62e660c61a584cf6a731a47a4e750de5",
            "placeholder": "​",
            "style": "IPY_MODEL_f5570a255ddc4fd5b745474f214d10f4",
            "value": "100%"
          }
        },
        "7649a7e44040460b8f45394f718905b2": {
          "model_module": "@jupyter-widgets/controls",
          "model_module_version": "1.5.0",
          "model_name": "HBoxModel",
          "state": {
            "_dom_classes": [],
            "_model_module": "@jupyter-widgets/controls",
            "_model_module_version": "1.5.0",
            "_model_name": "HBoxModel",
            "_view_count": null,
            "_view_module": "@jupyter-widgets/controls",
            "_view_module_version": "1.5.0",
            "_view_name": "HBoxView",
            "box_style": "",
            "children": [
              "IPY_MODEL_6f2235fd351b4c60a322d511af32fe4d",
              "IPY_MODEL_6acd9beb246540db9a934b3bb97a0168",
              "IPY_MODEL_f954758e62024c97bf294419627285f9"
            ],
            "layout": "IPY_MODEL_f2c938f289ee416ba310f4877b34d654"
          }
        },
        "948dbd8719334ad3bbb4c484992e578f": {
          "model_module": "@jupyter-widgets/controls",
          "model_module_version": "1.5.0",
          "model_name": "ProgressStyleModel",
          "state": {
            "_model_module": "@jupyter-widgets/controls",
            "_model_module_version": "1.5.0",
            "_model_name": "ProgressStyleModel",
            "_view_count": null,
            "_view_module": "@jupyter-widgets/base",
            "_view_module_version": "1.2.0",
            "_view_name": "StyleView",
            "bar_color": null,
            "description_width": ""
          }
        },
        "f2c938f289ee416ba310f4877b34d654": {
          "model_module": "@jupyter-widgets/base",
          "model_module_version": "1.2.0",
          "model_name": "LayoutModel",
          "state": {
            "_model_module": "@jupyter-widgets/base",
            "_model_module_version": "1.2.0",
            "_model_name": "LayoutModel",
            "_view_count": null,
            "_view_module": "@jupyter-widgets/base",
            "_view_module_version": "1.2.0",
            "_view_name": "LayoutView",
            "align_content": null,
            "align_items": null,
            "align_self": null,
            "border": null,
            "bottom": null,
            "display": null,
            "flex": null,
            "flex_flow": null,
            "grid_area": null,
            "grid_auto_columns": null,
            "grid_auto_flow": null,
            "grid_auto_rows": null,
            "grid_column": null,
            "grid_gap": null,
            "grid_row": null,
            "grid_template_areas": null,
            "grid_template_columns": null,
            "grid_template_rows": null,
            "height": null,
            "justify_content": null,
            "justify_items": null,
            "left": null,
            "margin": null,
            "max_height": null,
            "max_width": null,
            "min_height": null,
            "min_width": null,
            "object_fit": null,
            "object_position": null,
            "order": null,
            "overflow": null,
            "overflow_x": null,
            "overflow_y": null,
            "padding": null,
            "right": null,
            "top": null,
            "visibility": null,
            "width": null
          }
        },
        "f5570a255ddc4fd5b745474f214d10f4": {
          "model_module": "@jupyter-widgets/controls",
          "model_module_version": "1.5.0",
          "model_name": "DescriptionStyleModel",
          "state": {
            "_model_module": "@jupyter-widgets/controls",
            "_model_module_version": "1.5.0",
            "_model_name": "DescriptionStyleModel",
            "_view_count": null,
            "_view_module": "@jupyter-widgets/base",
            "_view_module_version": "1.2.0",
            "_view_name": "StyleView",
            "description_width": ""
          }
        },
        "f954758e62024c97bf294419627285f9": {
          "model_module": "@jupyter-widgets/controls",
          "model_module_version": "1.5.0",
          "model_name": "HTMLModel",
          "state": {
            "_dom_classes": [],
            "_model_module": "@jupyter-widgets/controls",
            "_model_module_version": "1.5.0",
            "_model_name": "HTMLModel",
            "_view_count": null,
            "_view_module": "@jupyter-widgets/controls",
            "_view_module_version": "1.5.0",
            "_view_name": "HTMLView",
            "description": "",
            "description_tooltip": null,
            "layout": "IPY_MODEL_2ca8aa01144542f185f5aa047515c474",
            "placeholder": "​",
            "style": "IPY_MODEL_107d1352945b411e9bac6dcd1f18a343",
            "value": " 97.7M/97.7M [00:07&lt;00:00, 16.4MB/s]"
          }
        }
      }
    }
  },
  "nbformat": 4,
  "nbformat_minor": 0
}