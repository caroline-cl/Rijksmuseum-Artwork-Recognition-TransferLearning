{
  "cells": [
    {
      "cell_type": "code",
      "execution_count": null,
      "metadata": {
        "ExecuteTime": {
          "end_time": "2022-11-23T06:11:59.990416Z",
          "start_time": "2022-11-23T06:11:59.389333Z"
        },
        "id": "MEu1QeBkJ-Up"
      },
      "outputs": [],
      "source": [
        "import pandas as pd\n",
        "import numpy as np\n",
        "import matplotlib.pyplot as plt\n",
        "from PIL import Image\n",
        "import cv2\n",
        "import os"
      ]
    },
    {
      "cell_type": "code",
      "execution_count": null,
      "metadata": {
        "id": "q0G_GkZoJ-Us"
      },
      "outputs": [],
      "source": [
        "##the train dataset###\n",
        "sample_document=pd.read_csv(r'D:\\machine learning project dataset\\artwork dataset\\sample_label.csv',sep='\\,',engine='python')\n",
        "sample_document.head(5)"
      ]
    },
    {
      "cell_type": "code",
      "execution_count": null,
      "metadata": {
        "id": "-rsXIWjVJ-Ut"
      },
      "outputs": [],
      "source": [
        "### the evaluation dataset##\n",
        "evaluate_docu=pd.read_csv(r'D:\\machine learning project dataset\\dataset\\evaluate.csv',sep='\\,',engine='python')\n",
        "evaluate_docu"
      ]
    },
    {
      "cell_type": "code",
      "execution_count": null,
      "metadata": {
        "id": "wsxx6d0DJ-Ut"
      },
      "outputs": [],
      "source": [
        "### test dataset###\n",
        "test_docu=pd.read_csv(r'D:\\machine learning project dataset\\dataset\\new_test.csv',sep='\\,',engine='python')\n",
        "test_docu=test_docu.iloc[:,1:]\n",
        "test_docu.head(5)"
      ]
    },
    {
      "cell_type": "code",
      "execution_count": null,
      "metadata": {
        "id": "x0vQWOktJ-Uu"
      },
      "outputs": [],
      "source": [
        "num_docu=sample_document.iloc[:,1:]\n",
        "#type(sample_document.iloc[0,0])\n",
        "num_docu.head(5)\n",
        "num_docu=num_docu.values"
      ]
    },
    {
      "cell_type": "code",
      "execution_count": null,
      "metadata": {
        "id": "9qlxK9b2J-Uu",
        "outputId": "31d8f85c-4589-4bed-990b-1c4ce24dbb4b"
      },
      "outputs": [
        {
          "data": {
            "text/plain": [
              "'0000876_AK-MAK-198.jpg'"
            ]
          },
          "execution_count": 137,
          "metadata": {},
          "output_type": "execute_result"
        }
      ],
      "source": [
        "### change the sign in the forth columns##\n",
        "num_docu[100,4].replace('\\\"','')"
      ]
    },
    {
      "cell_type": "code",
      "execution_count": null,
      "metadata": {
        "scrolled": true,
        "id": "MeRnhjiLJ-Uu",
        "outputId": "e2b9b21f-33e9-4ef0-a43f-de1956e24a1b"
      },
      "outputs": [
        {
          "name": "stdout",
          "output_type": "stream",
          "text": [
            "D:\\machine learning project dataset\\dataset\\train\\0000876_AK-MAK-198.jpg\"\n"
          ]
        }
      ],
      "source": [
        "a=os.path.join(root_path,num_docu[100,4])\n",
        "print(a)\n",
        "#D:\\machine learning project dataset\\artwork dataset\\train image"
      ]
    },
    {
      "cell_type": "code",
      "execution_count": null,
      "metadata": {
        "id": "2SbkmkKjJ-Uv",
        "outputId": "8bf78bfb-9f08-4781-d380-6124f1b62ea0"
      },
      "outputs": [
        {
          "data": {
            "text/plain": [
              "NoneType"
            ]
          },
          "execution_count": 136,
          "metadata": {},
          "output_type": "execute_result"
        }
      ],
      "source": [
        "#for i in range(200):\n",
        "root_path=  'D:\\machine learning project dataset\\dataset\\\\train'\n",
        "image=cv2.imread(a)\n",
        "type(image)\n"
      ]
    },
    {
      "cell_type": "code",
      "execution_count": null,
      "metadata": {
        "id": "6aom8FK3J-Uw",
        "outputId": "26262e59-eca8-48f3-d016-10e3fe2e363c"
      },
      "outputs": [
        {
          "name": "stdout",
          "output_type": "stream",
          "text": [
            "D:\\machine learning project dataset\\dataset\\use\\image1\n",
            "D:\\machine learning project dataset\\dataset\\use\\image1\\0001591_AK-NM-13401.jpg\n"
          ]
        },
        {
          "data": {
            "text/plain": [
              "True"
            ]
          },
          "execution_count": 81,
          "metadata": {},
          "output_type": "execute_result"
        }
      ],
      "source": [
        "#b=os.path.join(store_path,image)\n",
        "store_path='D:\\machine learning project dataset\\dataset\\\\use\\image1'\n",
        "print(store_path)\n",
        "save_path=os.path.join(store_path,num_docu[0,0])\n",
        "print(save_path)\n",
        "cv2.imwrite(save_path,image)"
      ]
    },
    {
      "cell_type": "code",
      "execution_count": null,
      "metadata": {
        "id": "Qk4_PR_NJ-Ux"
      },
      "outputs": [],
      "source": [
        "def store_image(image_path,store_path,document):\n",
        "    for i in range(len(document)):\n",
        "        image_name=document[i]\n",
        "        read_path=os.path.join(image_path,image_name)\n",
        "        target_image=cv2.imread(read_path)\n",
        "            \n",
        "        save_path=os.path.join(store_path,image_name)\n",
        "        cv2.imwrite(save_path,target_image)\n",
        "    print(f'save all target images')\n",
        "            \n",
        "        "
      ]
    },
    {
      "cell_type": "code",
      "execution_count": null,
      "metadata": {
        "id": "IZXNzvAjJ-Ux"
      },
      "outputs": [],
      "source": [
        "for i in range(num_docu.shape[0]):\n",
        "    num_docu[i,4]=num_docu[i,4].replace('\\\"','')"
      ]
    },
    {
      "cell_type": "code",
      "execution_count": null,
      "metadata": {
        "id": "kLhtutlHJ-Ux",
        "outputId": "4b93b2d7-0f33-45f3-999c-50dd37299e21"
      },
      "outputs": [
        {
          "name": "stdout",
          "output_type": "stream",
          "text": [
            "D:\\machine learning project dataset\\dataset\\use\\evaluate_image\n"
          ]
        }
      ],
      "source": [
        "\n",
        "image_path='D:\\machine learning project dataset\\dataset\\\\train'\n",
        "store_path='D:\\machine learning project dataset\\dataset\\\\use\\evaluate_image'\n",
        "\n",
        "print(store_path)"
      ]
    },
    {
      "cell_type": "code",
      "execution_count": null,
      "metadata": {
        "id": "pJDfvU1HJ-Uy"
      },
      "outputs": [],
      "source": [
        "#target_label=[]\n",
        "for i in range(eva.shape[1]):\n",
        "    for j in range(eva.shape[0]):\n",
        "            image_p=os.path.join(image_path,eva[j,i])\n",
        "            image=cv2.imread(image_p)\n",
        "            if image is not None:\n",
        "                save_path=os.path.join(store_path,eva[j,i])\n",
        "                cv2.imwrite(save_path,image)\n",
        "                #target_label.append(i)"
      ]
    },
    {
      "cell_type": "code",
      "execution_count": null,
      "metadata": {
        "id": "pETCbVybJ-Uy"
      },
      "outputs": [],
      "source": [
        "## create the test dataset###\n",
        "## test the path and document###\n",
        "image_path='D:\\machine learning project dataset\\dataset\\\\train'\n",
        "store_path_t='D:\\machine learning project dataset\\dataset\\\\use\\\\new_test1'\n",
        "test_set=test_docu.values\n",
        "print(test_set[:3,:])\n",
        "print(test_set.shape)\n",
        "print(type(test_set))\n",
        "k=0"
      ]
    },
    {
      "cell_type": "code",
      "execution_count": null,
      "metadata": {
        "id": "NawUbUeoJ-Uy"
      },
      "outputs": [],
      "source": [
        "### create test image set###\n",
        "###store the image by changing the column index manually###\n",
        "## change the column index i in test_set[j,i], and path name in store_path_t###\n",
        "store_path_t='D:\\machine learning project dataset\\dataset\\\\use\\\\new_test5'\n",
        "for j in range(test_set.shape[0]):\n",
        "            image_p=os.path.join(image_path,test_set[j,4])\n",
        "            image=cv2.imread(image_p)\n",
        "            if image is not None:\n",
        "                #test_set[j,i]=f'label_{i}.jpg'\n",
        "                save_path=os.path.join(store_path_t,f'%03d.jpg' % k)\n",
        "                cv2.imwrite(save_path,image)\n",
        "                k += 1"
      ]
    }
  ],
  "metadata": {
    "kernelspec": {
      "display_name": "Python 3 (ipykernel)",
      "language": "python",
      "name": "python3"
    },
    "language_info": {
      "codemirror_mode": {
        "name": "ipython",
        "version": 3
      },
      "file_extension": ".py",
      "mimetype": "text/x-python",
      "name": "python",
      "nbconvert_exporter": "python",
      "pygments_lexer": "ipython3",
      "version": "3.9.12"
    },
    "colab": {
      "provenance": []
    }
  },
  "nbformat": 4,
  "nbformat_minor": 0
}