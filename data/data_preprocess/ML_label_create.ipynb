{
  "cells": [
    {
      "cell_type": "code",
      "execution_count": null,
      "metadata": {
        "ExecuteTime": {
          "end_time": "2022-11-23T06:19:46.581133Z",
          "start_time": "2022-11-23T06:19:45.116976Z"
        },
        "id": "JBD8Stq5q4IV"
      },
      "outputs": [],
      "source": [
        "## data processing ###\n",
        "import numpy as np\n",
        "import matplotlib.pyplot as plt\n",
        "import pandas as pd\n",
        "import torch\n",
        "import torch.nn as nn\n",
        "import torch.optim as optim\n",
        "import torch.utils.data as Data\n",
        "import torchvision.datasets as td\n",
        "from torchvision import transforms\n",
        "from sklearn.model_selection import cross_val_score\n",
        "from sklearn.neighbors import KNeighborsClassifier\n",
        "from sklearn.metrics import plot_confusion_matrix,f1_score\n",
        "import torchvision\n",
        "from torchvision import transforms\n",
        "import numpy as np\n",
        "import matplotlib.pyplot as plt\n",
        "import torch\n",
        "import torch.nn as nn\n",
        "import torch.optim as optim\n",
        "import torch.utils.data as Data\n",
        "import torchvision.datasets as td\n",
        "from torchvision import transforms\n",
        "import pathlib"
      ]
    },
    {
      "cell_type": "code",
      "execution_count": null,
      "metadata": {
        "ExecuteTime": {
          "end_time": "2022-11-23T06:19:47.518183Z",
          "start_time": "2022-11-23T06:19:47.212561Z"
        },
        "colab": {
          "base_uri": "https://localhost:8080/"
        },
        "id": "P2DG1hKC0KMV",
        "outputId": "38ef4b4b-2d88-4374-c7b6-1e0fb0441681"
      },
      "outputs": [
        {
          "output_type": "stream",
          "name": "stdout",
          "text": [
            "Mounted at /content/drive\n"
          ]
        }
      ],
      "source": [
        "from google.colab import drive\n",
        "drive.mount('/content/drive', force_remount=True)"
      ]
    },
    {
      "cell_type": "code",
      "source": [
        "drive = pathlib.Path('./drive/MyDrive') / 'ML_Project' / \"Artwork-Detection-and-Style-Transfer-main\""
      ],
      "metadata": {
        "id": "mkp3jHaHQBcN"
      },
      "execution_count": null,
      "outputs": []
    },
    {
      "cell_type": "code",
      "execution_count": null,
      "metadata": {
        "id": "lmUrXaS70XPm",
        "colab": {
          "base_uri": "https://localhost:8080/"
        },
        "outputId": "cad19023-c326-4065-a157-3f5d6665a351"
      },
      "outputs": [
        {
          "output_type": "stream",
          "name": "stdout",
          "text": [
            "drive  sample_data\n"
          ]
        }
      ],
      "source": [
        "!ls"
      ]
    },
    {
      "cell_type": "code",
      "execution_count": null,
      "metadata": {
        "id": "Uu6WwVJO0cku"
      },
      "outputs": [],
      "source": [
        "### load information table##\n",
        "data=pd.read_csv(drive/'dataset'/'label info.csv',sep='\\t')\n",
        "print(type(data))\n",
        "del data['Unnamed: 0']\n",
        "#data.head(50)\n",
        "#data.rename(columns={\"\":\"\",\"Name\":\"Name\",\"format\":\"materials\", \"creator\":\"creator\",\"type\":\"type\", \"date\":\"date\", \"subject\":\"subject\"})\n",
        "all_creators = {}\n",
        "for index, row in data.iterrows():\n",
        "  m = row['format'][1:-2]\n",
        "  tmlist = m.split(\",\")\n",
        "  mlist = []\n",
        "  for t in tmlist:\n",
        "    if \"materiaal\" in t and t[13:-2] not in mlist:\n",
        "      mlist.append(t[13:-2])\n",
        "  data.at[index,'format'] = str(mlist)\n",
        "  c = row['creator'][2:-2]\n",
        "  t = c.split(\"', '\")[0]\n",
        "  p = t.find(\":\")\n",
        "  t = t[p+2:]\n",
        "  if t not in all_creators:\n",
        "    all_creators[t] = [index]\n",
        "  else:\n",
        "    all_creators[t].append(index) \n",
        "  data.at[index,'creator'] = t\n",
        "print(len(all_creators))\n",
        "print(all_creators)\n",
        "all_creators_filtered = {}\n",
        "for key in all_creators:\n",
        "  if len(all_creators[key])>=50 and key != 'anoniem':\n",
        "    all_creators_filtered[key] = all_creators[key][:50]\n",
        "print(all_creators_filtered)\n",
        "data.head(60)"
      ]
    },
    {
      "cell_type": "code",
      "source": [
        "len(all_creators_filtered)"
      ],
      "metadata": {
        "colab": {
          "base_uri": "https://localhost:8080/"
        },
        "id": "Dsn0C-K-9zo5",
        "outputId": "6d00dc33-573b-4287-9c4b-b1983a4950a0"
      },
      "execution_count": null,
      "outputs": [
        {
          "output_type": "execute_result",
          "data": {
            "text/plain": [
              "367"
            ]
          },
          "metadata": {},
          "execution_count": 7
        }
      ]
    },
    {
      "cell_type": "code",
      "source": [
        "[['Lange', 'Johannes Philippus'],\n",
        " ['Bruyn', 'Nicolaes de'],\n",
        " ['anoniem'],\n",
        " ['anoniem'],\n",
        " ['Rembrandt Harmensz. van Rijn'],\n",
        " ['Debrie', 'Gabriel François Louis'],\n",
        " ['Houbraken', 'Jacob'],\n",
        " ['Goltzius', 'Hendrick'],\n",
        " ['Masanobu', 'Kitao'],"
      ],
      "metadata": {
        "id": "2yPLrAhyL1MY"
      },
      "execution_count": null,
      "outputs": []
    },
    {
      "cell_type": "markdown",
      "source": [
        "# Type"
      ],
      "metadata": {
        "id": "ZrIXz2poI6Eu"
      }
    },
    {
      "cell_type": "code",
      "execution_count": null,
      "metadata": {
        "colab": {
          "base_uri": "https://localhost:8080/",
          "height": 222
        },
        "id": "gTndiZPU83mp",
        "outputId": "bc00212b-e7e6-4fb8-e439-7c90fb92136d"
      },
      "outputs": [
        {
          "output_type": "error",
          "ename": "NameError",
          "evalue": "ignored",
          "traceback": [
            "\u001b[0;31m---------------------------------------------------------------------------\u001b[0m",
            "\u001b[0;31mNameError\u001b[0m                                 Traceback (most recent call last)",
            "\u001b[0;32m<ipython-input-6-dde99eb87e17>\u001b[0m in \u001b[0;36m<module>\u001b[0;34m\u001b[0m\n\u001b[1;32m      1\u001b[0m \u001b[0;31m### the whole size of database###\u001b[0m\u001b[0;34m\u001b[0m\u001b[0;34m\u001b[0m\u001b[0;34m\u001b[0m\u001b[0m\n\u001b[0;32m----> 2\u001b[0;31m \u001b[0mtype_list\u001b[0m\u001b[0;34m=\u001b[0m\u001b[0mnp\u001b[0m\u001b[0;34m.\u001b[0m\u001b[0masarray\u001b[0m\u001b[0;34m(\u001b[0m\u001b[0mdata\u001b[0m\u001b[0;34m.\u001b[0m\u001b[0mtype\u001b[0m\u001b[0;34m)\u001b[0m\u001b[0;34m\u001b[0m\u001b[0;34m\u001b[0m\u001b[0m\n\u001b[0m\u001b[1;32m      3\u001b[0m \u001b[0;31m#u_name=np.unique(type_l)\u001b[0m\u001b[0;34m\u001b[0m\u001b[0;34m\u001b[0m\u001b[0;34m\u001b[0m\u001b[0m\n\u001b[1;32m      4\u001b[0m \u001b[0mlen\u001b[0m\u001b[0;34m(\u001b[0m\u001b[0mtype_list\u001b[0m\u001b[0;34m)\u001b[0m\u001b[0;34m\u001b[0m\u001b[0;34m\u001b[0m\u001b[0m\n",
            "\u001b[0;31mNameError\u001b[0m: name 'data' is not defined"
          ]
        }
      ],
      "source": [
        "### the whole size of database###\n",
        "type_list=np.asarray(data.type)\n",
        "#u_name=np.unique(type_l)\n",
        "len(type_list)"
      ]
    },
    {
      "cell_type": "code",
      "execution_count": null,
      "metadata": {
        "id": "2ZmKpOMZH1qm"
      },
      "outputs": [],
      "source": [
        "### choose 5 interesting label and test its size###\n",
        "type1=data[data.type=='[\\'bord (vaatwerk)\\']'].shape[0] ## pottery##\n",
        "type2=data[data.type=='[\\'prent\\']'].shape[0] ##print###\n",
        "type3=data[data.type=='[\\'tekening\\']'].shape[0] ## painting##\n",
        "type4=data[data.type=='[\\'foto\\']'].shape[0]  ## photo##\n",
        "type5=data[data.type=='[\\'beeldhouwwerk\\']'].shape[0] ##sculpture##\n",
        "\n",
        "print(f'{type1},{type2},{type3},{type4},{type5}')"
      ]
    },
    {
      "cell_type": "code",
      "source": [
        "###create train dataset###\n",
        "temp1=data[data.type=='[\\'bord (vaatwerk)\\']'].Name.values[:200] ##label 0\n",
        "temp2=data[data.type=='[\\'prent\\']'].Name.values[:200]  ##label 1\n",
        "temp3=data[data.type=='[\\'tekening\\']'].Name.values[:200] ##label 2\n",
        "temp4=data[data.type=='[\\'foto\\']'].Name.values[:200] ## label 3\n",
        "temp5=data[data.type=='[\\'beeldhouwwerk\\']'].Name.values[:200] ##label 4\n",
        "\n",
        "sample_list=np.c_[list1,list2,list3,list4,list5]\n",
        "sample_dataframe=pd.DataFrame(sample_list)\n",
        "sample_dataframe.columns=[i for i in range(5)]\n",
        "sample_dataframe.head(15)"
      ],
      "metadata": {
        "id": "vCVM-nd17Rak"
      },
      "execution_count": null,
      "outputs": []
    },
    {
      "cell_type": "code",
      "execution_count": null,
      "metadata": {
        "id": "XGXqHRFubkwD"
      },
      "outputs": [],
      "source": [
        "## use this set as evaluation set###\n",
        "test1=data[data.type=='[\\'bord (vaatwerk)\\']'].Name.values[201:204] \n",
        "test2=data[data.type=='[\\'prent\\']'].Name.values[201:204] \n",
        "test3=data[data.type=='[\\'tekening\\']'].Name.values[201:204]\n",
        "test4=data[data.type=='[\\'foto\\']'].Name.values[201:204]\n",
        "test5=data[data.type=='[\\'beeldhouwwerk\\']'].Name.values[201:204]\n",
        "test_list=np.c_[test1,test2,test3,test4,test5]\n",
        "test_dataframe=pd.DataFrame(test_list)\n",
        "test_dataframe.columns=[i for i in range(5)]"
      ]
    },
    {
      "cell_type": "code",
      "execution_count": null,
      "metadata": {
        "id": "92CGli8flczA"
      },
      "outputs": [],
      "source": [
        "### construct new test set###\n",
        "###random choose 15 images per label###\n",
        "np.random.seed(675)\n",
        "##first label##\n",
        "index_li1=np.where(data[data.type=='[\\'bord (vaatwerk)\\']'].Name.values)\n",
        "label_f=data.Name.values[index_li1]\n",
        "index_f=np.random.randint(0,519,15)\n",
        "name_f=data[data.type=='[\\'bord (vaatwerk)\\']'].Name.values[index_f]\n",
        "##second_label##\n",
        "index_li2=np.where(data[data.type=='[\\'prent\\']'].Name.values)\n",
        "label_s=data.Name.values[index_li2]\n",
        "index_s=np.random.randint(0,52166,15)\n",
        "name_s=data[data.type=='[\\'prent\\']'].Name.values[index_s]\n",
        "### third_label##\n",
        "index_li3=np.where(data[data.type=='[\\'tekening\\']'].Name.values)\n",
        "label_t=data.Name.values[index_li3]\n",
        "index_t=np.random.randint(0,10882,15)\n",
        "name_t=data[data.type=='[\\'tekening\\']'].Name.values[index_t]\n",
        "## fourth_label##\n",
        "index_li4=np.where(data[data.type=='[\\'foto\\']'].Name.values)\n",
        "label_fo=data.Name.values[index_li4]\n",
        "index_fo=np.random.randint(0,1768,15)\n",
        "name_fo=data[data.type=='[\\'foto\\']'].Name.values[index_fo]\n",
        "###fif_label##\n",
        "index_li5=np.where(data[data.type=='[\\'beeldhouwwerk\\']'].Name.values)\n",
        "label_fif=data.Name.values[index_li5]\n",
        "index_fif=np.random.randint(0,538,15)\n",
        "name_fif=data[data.type=='[\\'beeldhouwwerk\\']'].Name.values[index_fif]\n",
        "\n",
        "##construct combined name dataframe##\n",
        "new_test=np.c_[name_f,name_s,name_t,name_fo,name_fif]\n",
        "new_test_df=pd.DataFrame(new_test)\n",
        "new_test_df.columns=[i for i in range(5)]"
      ]
    },
    {
      "cell_type": "markdown",
      "source": [
        "# Creator"
      ],
      "metadata": {
        "id": "O8YzbfqJsgPt"
      }
    },
    {
      "cell_type": "code",
      "execution_count": null,
      "metadata": {
        "colab": {
          "base_uri": "https://localhost:8080/",
          "height": 222
        },
        "outputId": "8af91a35-e3a4-430a-f605-5800c71a527c",
        "id": "Iv9wkLGXsgP5"
      },
      "outputs": [
        {
          "output_type": "error",
          "ename": "NameError",
          "evalue": "ignored",
          "traceback": [
            "\u001b[0;31m---------------------------------------------------------------------------\u001b[0m",
            "\u001b[0;31mNameError\u001b[0m                                 Traceback (most recent call last)",
            "\u001b[0;32m<ipython-input-7-0a65ad09666e>\u001b[0m in \u001b[0;36m<module>\u001b[0;34m\u001b[0m\n\u001b[1;32m      1\u001b[0m \u001b[0;31m### the whole size of database###\u001b[0m\u001b[0;34m\u001b[0m\u001b[0;34m\u001b[0m\u001b[0;34m\u001b[0m\u001b[0m\n\u001b[0;32m----> 2\u001b[0;31m \u001b[0mcreator_list\u001b[0m\u001b[0;34m=\u001b[0m\u001b[0mnp\u001b[0m\u001b[0;34m.\u001b[0m\u001b[0masarray\u001b[0m\u001b[0;34m(\u001b[0m\u001b[0mdata\u001b[0m\u001b[0;34m.\u001b[0m\u001b[0mcreator\u001b[0m\u001b[0;34m)\u001b[0m\u001b[0;34m\u001b[0m\u001b[0;34m\u001b[0m\u001b[0m\n\u001b[0m\u001b[1;32m      3\u001b[0m \u001b[0;31m#u_name=np.unique(type_l)\u001b[0m\u001b[0;34m\u001b[0m\u001b[0;34m\u001b[0m\u001b[0;34m\u001b[0m\u001b[0m\n\u001b[1;32m      4\u001b[0m \u001b[0mlen\u001b[0m\u001b[0;34m(\u001b[0m\u001b[0mcreator_list\u001b[0m\u001b[0;34m)\u001b[0m\u001b[0;34m\u001b[0m\u001b[0;34m\u001b[0m\u001b[0m\n",
            "\u001b[0;31mNameError\u001b[0m: name 'data' is not defined"
          ]
        }
      ],
      "source": [
        "### the whole size of database###\n",
        "creator_list=np.asarray(data.creator)\n",
        "#u_name=np.unique(type_l)\n",
        "len(creator_list)"
      ]
    },
    {
      "cell_type": "code",
      "execution_count": null,
      "metadata": {
        "colab": {
          "base_uri": "https://localhost:8080/"
        },
        "outputId": "697856e3-4447-44c5-c47f-2f68518e3e7f",
        "id": "BlmglDNPsgP5"
      },
      "outputs": [
        {
          "output_type": "stream",
          "name": "stdout",
          "text": [
            "519,52166,10882,1768,538\n"
          ]
        }
      ],
      "source": [
        "### choose 5 interesting label and test its size###\n",
        "type1=data[data.type=='[\\'bord (vaatwerk)\\']'].shape[0] ## pottery##\n",
        "type2=data[data.type=='[\\'prent\\']'].shape[0] ##print###\n",
        "type3=data[data.type=='[\\'tekening\\']'].shape[0] ## painting##\n",
        "type4=data[data.type=='[\\'foto\\']'].shape[0]  ## photo##\n",
        "type5=data[data.type=='[\\'beeldhouwwerk\\']'].shape[0] ##sculpture##\n",
        "\n",
        "print(f'{type1},{type2},{type3},{type4},{type5}')"
      ]
    },
    {
      "cell_type": "code",
      "source": [
        "###create train dataset###\n",
        "temp1=data[data.type=='[\\'bord (vaatwerk)\\']'].Name.values[:200] ##label 0\n",
        "temp2=data[data.type=='[\\'prent\\']'].Name.values[:200]  ##label 1\n",
        "temp3=data[data.type=='[\\'tekening\\']'].Name.values[:200] ##label 2\n",
        "temp4=data[data.type=='[\\'foto\\']'].Name.values[:200] ## label 3\n",
        "temp5=data[data.type=='[\\'beeldhouwwerk\\']'].Name.values[:200] ##label 4\n",
        "\n",
        "sample_list=np.c_[list1,list2,list3,list4,list5]\n",
        "sample_dataframe=pd.DataFrame(sample_list)\n",
        "sample_dataframe.columns=[i for i in range(5)]\n",
        "sample_dataframe.head(15)"
      ],
      "metadata": {
        "id": "CSB_sIjGsgP6"
      },
      "execution_count": null,
      "outputs": []
    },
    {
      "cell_type": "code",
      "execution_count": null,
      "metadata": {
        "id": "cSPmioPrsgP6"
      },
      "outputs": [],
      "source": [
        "## use this set as evaluation set###\n",
        "test1=data[data.type=='[\\'bord (vaatwerk)\\']'].Name.values[201:204] \n",
        "test2=data[data.type=='[\\'prent\\']'].Name.values[201:204] \n",
        "test3=data[data.type=='[\\'tekening\\']'].Name.values[201:204]\n",
        "test4=data[data.type=='[\\'foto\\']'].Name.values[201:204]\n",
        "test5=data[data.type=='[\\'beeldhouwwerk\\']'].Name.values[201:204]\n",
        "test_list=np.c_[test1,test2,test3,test4,test5]\n",
        "test_dataframe=pd.DataFrame(test_list)\n",
        "test_dataframe.columns=[i for i in range(5)]"
      ]
    },
    {
      "cell_type": "code",
      "execution_count": null,
      "metadata": {
        "id": "H4vcADqKsgP6"
      },
      "outputs": [],
      "source": [
        "### construct new test set###\n",
        "###random choose 15 images per label###\n",
        "np.random.seed(675)\n",
        "##first label##\n",
        "index_li1=np.where(data[data.type=='[\\'bord (vaatwerk)\\']'].Name.values)\n",
        "label_f=data.Name.values[index_li1]\n",
        "index_f=np.random.randint(0,519,15)\n",
        "name_f=data[data.type=='[\\'bord (vaatwerk)\\']'].Name.values[index_f]\n",
        "##second_label##\n",
        "index_li2=np.where(data[data.type=='[\\'prent\\']'].Name.values)\n",
        "label_s=data.Name.values[index_li2]\n",
        "index_s=np.random.randint(0,52166,15)\n",
        "name_s=data[data.type=='[\\'prent\\']'].Name.values[index_s]\n",
        "### third_label##\n",
        "index_li3=np.where(data[data.type=='[\\'tekening\\']'].Name.values)\n",
        "label_t=data.Name.values[index_li3]\n",
        "index_t=np.random.randint(0,10882,15)\n",
        "name_t=data[data.type=='[\\'tekening\\']'].Name.values[index_t]\n",
        "## fourth_label##\n",
        "index_li4=np.where(data[data.type=='[\\'foto\\']'].Name.values)\n",
        "label_fo=data.Name.values[index_li4]\n",
        "index_fo=np.random.randint(0,1768,15)\n",
        "name_fo=data[data.type=='[\\'foto\\']'].Name.values[index_fo]\n",
        "###fif_label##\n",
        "index_li5=np.where(data[data.type=='[\\'beeldhouwwerk\\']'].Name.values)\n",
        "label_fif=data.Name.values[index_li5]\n",
        "index_fif=np.random.randint(0,538,15)\n",
        "name_fif=data[data.type=='[\\'beeldhouwwerk\\']'].Name.values[index_fif]\n",
        "\n",
        "##construct combined name dataframe##\n",
        "new_test=np.c_[name_f,name_s,name_t,name_fo,name_fif]\n",
        "new_test_df=pd.DataFrame(new_test)\n",
        "new_test_df.columns=[i for i in range(5)]"
      ]
    },
    {
      "cell_type": "markdown",
      "source": [
        "# Creator and Material"
      ],
      "metadata": {
        "id": "9gOQ9FiTJXwb"
      }
    },
    {
      "cell_type": "code",
      "source": [
        "import pickle \n",
        "with open( drive / \"dataset\" / \"label.pickle\", 'rb') as pickle_file:\n",
        "    data_ = pickle.load(pickle_file)"
      ],
      "metadata": {
        "id": "1AbxsiJYHLmc"
      },
      "execution_count": null,
      "outputs": []
    },
    {
      "cell_type": "markdown",
      "source": [
        "## creator"
      ],
      "metadata": {
        "id": "buOd53ROP-bF"
      }
    },
    {
      "cell_type": "code",
      "source": [
        "#extract sample index\n",
        "names = data_['identifier']\n",
        "sample_index = []\n",
        "evaluation_index = []\n",
        "new_test_index = []\n",
        "\n",
        "for id in sample_dataframe.values.ravel():\n",
        "  num = id[8:-4]\n",
        "  sample_index.append(names.index(num))\n",
        "\n",
        "for id in test_dataframe.values.ravel():\n",
        "  num = id[8:-4]\n",
        "  evaluation_index.append(names.index(num))\n",
        "\n",
        "for id in new_test_df.values.ravel():\n",
        "  num = id[8:-4]\n",
        "  new_test_index.append(names.index(num))"
      ],
      "metadata": {
        "id": "Vqy_pDCLLMLN",
        "colab": {
          "base_uri": "https://localhost:8080/",
          "height": 240
        },
        "outputId": "ead7adaf-9b43-448a-fe54-8d62dd4343cb"
      },
      "execution_count": null,
      "outputs": [
        {
          "output_type": "error",
          "ename": "NameError",
          "evalue": "ignored",
          "traceback": [
            "\u001b[0;31m---------------------------------------------------------------------------\u001b[0m",
            "\u001b[0;31mNameError\u001b[0m                                 Traceback (most recent call last)",
            "\u001b[0;32m<ipython-input-9-21569047db8d>\u001b[0m in \u001b[0;36m<module>\u001b[0;34m\u001b[0m\n\u001b[1;32m      5\u001b[0m \u001b[0mnew_test_index\u001b[0m \u001b[0;34m=\u001b[0m \u001b[0;34m[\u001b[0m\u001b[0;34m]\u001b[0m\u001b[0;34m\u001b[0m\u001b[0;34m\u001b[0m\u001b[0m\n\u001b[1;32m      6\u001b[0m \u001b[0;34m\u001b[0m\u001b[0m\n\u001b[0;32m----> 7\u001b[0;31m \u001b[0;32mfor\u001b[0m \u001b[0mid\u001b[0m \u001b[0;32min\u001b[0m \u001b[0msample_dataframe\u001b[0m\u001b[0;34m.\u001b[0m\u001b[0mvalues\u001b[0m\u001b[0;34m.\u001b[0m\u001b[0mravel\u001b[0m\u001b[0;34m(\u001b[0m\u001b[0;34m)\u001b[0m\u001b[0;34m:\u001b[0m\u001b[0;34m\u001b[0m\u001b[0;34m\u001b[0m\u001b[0m\n\u001b[0m\u001b[1;32m      8\u001b[0m   \u001b[0mnum\u001b[0m \u001b[0;34m=\u001b[0m \u001b[0mid\u001b[0m\u001b[0;34m[\u001b[0m\u001b[0;36m8\u001b[0m\u001b[0;34m:\u001b[0m\u001b[0;34m-\u001b[0m\u001b[0;36m4\u001b[0m\u001b[0;34m]\u001b[0m\u001b[0;34m\u001b[0m\u001b[0;34m\u001b[0m\u001b[0m\n\u001b[1;32m      9\u001b[0m   \u001b[0msample_index\u001b[0m\u001b[0;34m.\u001b[0m\u001b[0mappend\u001b[0m\u001b[0;34m(\u001b[0m\u001b[0mnames\u001b[0m\u001b[0;34m.\u001b[0m\u001b[0mindex\u001b[0m\u001b[0;34m(\u001b[0m\u001b[0mnum\u001b[0m\u001b[0;34m)\u001b[0m\u001b[0;34m)\u001b[0m\u001b[0;34m\u001b[0m\u001b[0;34m\u001b[0m\u001b[0m\n",
            "\u001b[0;31mNameError\u001b[0m: name 'sample_dataframe' is not defined"
          ]
        }
      ]
    },
    {
      "cell_type": "code",
      "source": [
        "#creator\n",
        "creators_ = data_[\"creator\"]\n",
        "sample_creators = []\n",
        "evaluation_creators = []\n",
        "new_test_creators = [] \n",
        "\n",
        "for id in sample_index:\n",
        "  sample_creators.append(creators_[id])\n",
        "\n",
        "for id in evaluation_index:\n",
        "  evaluation_creators.append(creators_[id])\n",
        "\n",
        "for id in new_test_index:\n",
        "  new_test_creators.append(creators_[id])"
      ],
      "metadata": {
        "id": "PV--JBlzQ7Ia"
      },
      "execution_count": null,
      "outputs": []
    },
    {
      "cell_type": "markdown",
      "source": [
        "# Multi-task"
      ],
      "metadata": {
        "id": "kG-hSb-YWIoH"
      }
    },
    {
      "cell_type": "code",
      "source": [
        "import pickle \n",
        "\n",
        "with open( drive / \"dataset\" / \"label.pickle\", 'rb') as pickle_file:\n",
        "    data = pickle.load(pickle_file)\n",
        "pickle_file.close()"
      ],
      "metadata": {
        "id": "X8IIwRFSVXWv"
      },
      "execution_count": null,
      "outputs": []
    },
    {
      "cell_type": "code",
      "source": [
        "data['material']"
      ],
      "metadata": {
        "id": "FzfMUpIOS3Eq"
      },
      "execution_count": null,
      "outputs": []
    },
    {
      "cell_type": "code",
      "source": [
        "data['creator']"
      ],
      "metadata": {
        "id": "v0VKmpNoUq24"
      },
      "execution_count": null,
      "outputs": []
    },
    {
      "cell_type": "code",
      "source": [
        "data['type']"
      ],
      "metadata": {
        "id": "GqYsOepLJhgJ"
      },
      "execution_count": null,
      "outputs": []
    },
    {
      "cell_type": "code",
      "source": [
        "data['identifier']"
      ],
      "metadata": {
        "id": "oZYin9xFoigU"
      },
      "execution_count": null,
      "outputs": []
    },
    {
      "cell_type": "code",
      "source": [
        "import operator"
      ],
      "metadata": {
        "id": "snTywfMGwnNj"
      },
      "execution_count": null,
      "outputs": []
    },
    {
      "cell_type": "code",
      "source": [
        "creator = {}\n",
        "creator_freq = {}\n",
        "for i,c in enumerate(data['creator']):\n",
        "  if c not in creator_freq.keys():\n",
        "    creator_freq[c]= 0\n",
        "    creator[c]=[]\n",
        "  creator_freq[c] += 1\n",
        "  creator[c].append(data['identifier'][i])\n",
        "creator_keys = dict(sorted(creator_freq.items(), key=operator.itemgetter(1), reverse=True)[:17])\n",
        "print(creator_keys)\n",
        "creator_keys = creator_keys.keys()\n",
        "creator_filtered = {}\n",
        "C_images = []\n",
        "for c in creator_keys:\n",
        "  if c != '' and c != 'anoniem':\n",
        "    creator_filtered[c] = creator[c]\n",
        "    C_images = C_images + list(set(creator[c]) - set(C_images)) "
      ],
      "metadata": {
        "colab": {
          "base_uri": "https://localhost:8080/"
        },
        "id": "1R-ncUU7v_7B",
        "outputId": "c90674ba-3613-48aa-c9a1-546a52ceff10"
      },
      "execution_count": null,
      "outputs": [
        {
          "output_type": "stream",
          "name": "stdout",
          "text": [
            "{'anoniem': 16518, 'Luyken, Jan': 1928, 'Picart, Bernard': 1504, 'Rembrandt Harmensz. van Rijn': 1384, 'Fokke, Simon': 1267, 'Houbraken, Jacob': 1148, 'Hooghe, Romeyn de': 1119, 'Callot, Jacques': 1013, 'Meissener Porzellan Manufaktur': 1003, 'Gheyn, Jacob de (II)': 893, 'Passe, Crispijn van de (I)': 856, 'Galle, Philips': 838, 'Goltzius, Hendrick': 810, '': 685, 'Collaert, Adriaen': 649, 'Hogenberg, Frans': 640, 'Vinkeles, Reinier': 623}\n"
          ]
        }
      ]
    },
    {
      "cell_type": "code",
      "source": [
        "creator_freq"
      ],
      "metadata": {
        "id": "plJN1OArTI5E"
      },
      "execution_count": null,
      "outputs": []
    },
    {
      "cell_type": "code",
      "source": [
        "creator_filtered"
      ],
      "metadata": {
        "id": "h8TWSBpPTAo8"
      },
      "execution_count": null,
      "outputs": []
    },
    {
      "cell_type": "code",
      "source": [
        "material = {}\n",
        "material_freq = {}\n",
        "for i,r in enumerate(data['material']):\n",
        "  for m in r:\n",
        "    if m not in material_freq.keys():\n",
        "      material_freq[m] = 0\n",
        "      material[m] = []\n",
        "    material_freq[m] += 1\n",
        "    material[m].append(data['identifier'][i])\n",
        "material_keys = dict(sorted(material_freq.items(), key=operator.itemgetter(1), reverse=True)[:15])\n",
        "print(material_keys)\n",
        "material_keys = material_keys.keys()\n",
        "material_filtered = {}\n",
        "M_images = []\n",
        "for c in material_keys:\n",
        "  material_filtered[c] = material[c]\n",
        "  M_images = M_images + list(set(material[c]) - set(M_images)) "
      ],
      "metadata": {
        "colab": {
          "base_uri": "https://localhost:8080/"
        },
        "id": "wiF5RRhbWzyC",
        "outputId": "a7950249-7c9d-46ba-9d15-c54618d7d6fa"
      },
      "execution_count": null,
      "outputs": [
        {
          "output_type": "stream",
          "name": "stdout",
          "text": [
            "{'papier': 92785, 'olieverf': 3667, 'porselein': 2811, 'hout': 2164, 'zilver': 1788, 'doek': 1753, 'paneel': 1588, 'glazuur': 1423, 'faience': 1307, 'inkt': 1038, 'ijzer': 1032, 'karton': 1027, 'waterverf': 950, 'fotopapier': 933, 'messing': 921}\n"
          ]
        }
      ]
    },
    {
      "cell_type": "code",
      "source": [
        "material_freq"
      ],
      "metadata": {
        "id": "CT7ncVlDZrp7"
      },
      "execution_count": null,
      "outputs": []
    },
    {
      "cell_type": "code",
      "source": [
        "material_filtered"
      ],
      "metadata": {
        "id": "GD5XYXQ1Zr7F"
      },
      "execution_count": null,
      "outputs": []
    },
    {
      "cell_type": "code",
      "source": [
        "Type = {}\n",
        "Type_freq = {}\n",
        "for i,r in enumerate(data['type']):\n",
        "  for m in r:\n",
        "    if m not in Type_freq.keys():\n",
        "      Type_freq[m] = 0\n",
        "      Type[m] = []\n",
        "    Type_freq[m] += 1\n",
        "    Type[m].append(data['identifier'][i])\n",
        "Type_keys = dict(sorted(Type_freq.items(), key=operator.itemgetter(1), reverse=True)[:15])\n",
        "print(Type_keys)\n",
        "Type_keys = Type_keys.keys()\n",
        "Type_filtered = {}\n",
        "T_images = []\n",
        "for c in Type_keys:\n",
        "    Type_filtered[c] = Type[c]\n",
        "    T_images = T_images + list(set(Type[c]) - set(T_images))  "
      ],
      "metadata": {
        "colab": {
          "base_uri": "https://localhost:8080/"
        },
        "id": "hksrQmMSZ9_C",
        "outputId": "0e43ca6c-0f3b-4a58-8efc-b2b907242e3e"
      },
      "execution_count": null,
      "outputs": [
        {
          "output_type": "stream",
          "name": "stdout",
          "text": [
            "{'prent': 77052, 'tekening': 14223, 'boekillustratie': 7007, 'ornamentprent': 5221, 'schilderij': 3593, 'historieprent': 3503, 'nieuwsprent': 2598, 'foto': 2319, 'ontwerp': 1966, 'kaart': 1923, 'titelpagina': 1570, 'spotprent': 1029, 'tekstblad': 920, 'bord (vaatwerk)': 898, 'eet- en drinkgerei': 839}\n"
          ]
        }
      ]
    },
    {
      "cell_type": "code",
      "source": [
        "Type_keys"
      ],
      "metadata": {
        "id": "pXsigNM_aWDA",
        "colab": {
          "base_uri": "https://localhost:8080/"
        },
        "outputId": "30c98fc1-a1fc-424e-b1fa-ee6331620e2c"
      },
      "execution_count": null,
      "outputs": [
        {
          "output_type": "execute_result",
          "data": {
            "text/plain": [
              "dict_keys(['prent', 'tekening', 'boekillustratie', 'ornamentprent', 'schilderij', 'historieprent', 'nieuwsprent', 'foto', 'ontwerp', 'kaart', 'titelpagina', 'spotprent', 'tekstblad', 'bord (vaatwerk)', 'eet- en drinkgerei'])"
            ]
          },
          "metadata": {},
          "execution_count": 9
        }
      ]
    },
    {
      "cell_type": "code",
      "source": [
        "Type_filtered"
      ],
      "metadata": {
        "id": "_2ngbZa3aXxT"
      },
      "execution_count": null,
      "outputs": []
    },
    {
      "cell_type": "code",
      "source": [
        "images = list(set(C_images) - (set(C_images) - set(T_images)))\n",
        "images = list(set(images) - (set(images) - set(M_images)))"
      ],
      "metadata": {
        "id": "1_q5Yc8Wbd4U"
      },
      "execution_count": null,
      "outputs": []
    },
    {
      "cell_type": "code",
      "source": [
        "len(images)"
      ],
      "metadata": {
        "colab": {
          "base_uri": "https://localhost:8080/"
        },
        "id": "b1wmDT14V62a",
        "outputId": "c53b9053-274f-487c-f468-f244e4564fe1"
      },
      "execution_count": null,
      "outputs": [
        {
          "output_type": "execute_result",
          "data": {
            "text/plain": [
              "15261"
            ]
          },
          "metadata": {},
          "execution_count": 15
        }
      ]
    },
    {
      "cell_type": "code",
      "source": [
        "import random\n",
        "\n",
        "random.shuffle(images)\n",
        "images_train = images[:int(len(images)*0.7)]\n",
        "images_eval = images[int(len(images)*0.7):int(len(images)*0.8)]\n",
        "images_test = images[int(len(images)*0.8):]"
      ],
      "metadata": {
        "id": "1XRiaA2Xm9hb"
      },
      "execution_count": null,
      "outputs": []
    },
    {
      "cell_type": "code",
      "source": [
        "len(images_train)"
      ],
      "metadata": {
        "colab": {
          "base_uri": "https://localhost:8080/"
        },
        "id": "DZGzcFMCsGhj",
        "outputId": "96f88334-9d92-4793-bf0a-05936b967dca"
      },
      "execution_count": null,
      "outputs": [
        {
          "output_type": "execute_result",
          "data": {
            "text/plain": [
              "10682"
            ]
          },
          "metadata": {},
          "execution_count": 17
        }
      ]
    },
    {
      "cell_type": "code",
      "source": [
        "with open( drive / \"dataset\" / \"images.pickle\", 'wb') as pickle_file:\n",
        "    pickle.dump(images, pickle_file)\n",
        "pickle_file.close()"
      ],
      "metadata": {
        "id": "1Bg9puFUgzvy"
      },
      "execution_count": null,
      "outputs": []
    },
    {
      "cell_type": "code",
      "source": [
        "image_data_train = {}\n",
        "image_data_train['identifier'] = []\n",
        "image_data_train['material'] = []\n",
        "image_data_train['creator'] = []\n",
        "image_data_train['type'] = []\n",
        "for image in images_train:\n",
        "  image_data_train['identifier'].append(image)\n",
        "  i = data['identifier'].index(image)\n",
        "  image_data_train['material'].append(data['material'][i])\n",
        "  image_data_train['creator'].append(data['creator'][i])\n",
        "  image_data_train['type'].append(data['type'][i])"
      ],
      "metadata": {
        "id": "6VqwVWB7eLuN"
      },
      "execution_count": null,
      "outputs": []
    },
    {
      "cell_type": "code",
      "source": [
        "image_data_eval = {}\n",
        "image_data_eval['identifier'] = []\n",
        "image_data_eval['material'] = []\n",
        "image_data_eval['creator'] = []\n",
        "image_data_eval['type'] = []\n",
        "for image in images_eval:\n",
        "  image_data_eval['identifier'].append(image)\n",
        "  i = data['identifier'].index(image)\n",
        "  image_data_eval['material'].append(data['material'][i])\n",
        "  image_data_eval['creator'].append(data['creator'][i])\n",
        "  image_data_eval['type'].append(data['type'][i])"
      ],
      "metadata": {
        "id": "X0EVc2xWXLgs"
      },
      "execution_count": null,
      "outputs": []
    },
    {
      "cell_type": "code",
      "source": [
        "image_data_test = {}\n",
        "image_data_test['identifier'] = []\n",
        "image_data_test['material'] = []\n",
        "image_data_test['creator'] = []\n",
        "image_data_test['type'] = []\n",
        "for image in images_test:\n",
        "  image_data_test['identifier'].append(image)\n",
        "  i = data['identifier'].index(image)\n",
        "  image_data_test['material'].append(data['material'][i])\n",
        "  image_data_test['creator'].append(data['creator'][i])\n",
        "  image_data_test['type'].append(data['type'][i])"
      ],
      "metadata": {
        "id": "QBPKR8dhXLqU"
      },
      "execution_count": null,
      "outputs": []
    },
    {
      "cell_type": "code",
      "source": [
        "image_data_train"
      ],
      "metadata": {
        "id": "SLQHY7vbfxXH"
      },
      "execution_count": null,
      "outputs": []
    },
    {
      "cell_type": "code",
      "source": [
        "with open( drive / \"dataset\" / \"train_label.pickle\", 'wb') as pickle_file:\n",
        "    pickle.dump(image_data_train, pickle_file)\n",
        "pickle_file.close()"
      ],
      "metadata": {
        "id": "wGDFmAcxgh1b"
      },
      "execution_count": null,
      "outputs": []
    },
    {
      "cell_type": "code",
      "source": [
        "with open( drive / \"dataset\" / \"eval_label.pickle\", 'wb') as pickle_file:\n",
        "    pickle.dump(image_data_eval, pickle_file)\n",
        "pickle_file.close()"
      ],
      "metadata": {
        "id": "YRnGfVMSXmyy"
      },
      "execution_count": null,
      "outputs": []
    },
    {
      "cell_type": "code",
      "source": [
        "with open( drive / \"dataset\" / \"test_label.pickle\", 'wb') as pickle_file:\n",
        "    pickle.dump(image_data_test, pickle_file)\n",
        "pickle_file.close()"
      ],
      "metadata": {
        "id": "hK_KbiAkXm5e"
      },
      "execution_count": null,
      "outputs": []
    },
    {
      "cell_type": "markdown",
      "source": [
        "# Pls don't run the code below for now, they may cause unwanted change to  'label.pickle'."
      ],
      "metadata": {
        "id": "cWL5GOkBnhJ6"
      }
    },
    {
      "cell_type": "code",
      "source": [
        "creator = ''\n",
        "for i in range(len(data['creator'])):\n",
        "  if len(data['creator'][i]) > 1:\n",
        "    for j in data['creator'][i][:-1]:\n",
        "      creator = j+', '\n",
        "    creator += data['creator'][i][-1]\n",
        "    data['creator'][i] = creator\n",
        "  else:\n",
        "    data['creator'][i] = data['creator'][i][0]"
      ],
      "metadata": {
        "id": "2ooWsvsRiJD0"
      },
      "execution_count": null,
      "outputs": []
    },
    {
      "cell_type": "code",
      "source": [
        "data['creator']"
      ],
      "metadata": {
        "id": "43A0BxjBiLIP"
      },
      "execution_count": null,
      "outputs": []
    },
    {
      "cell_type": "code",
      "source": [
        "for i in range(len(data['identifier'])):\n",
        "  data['identifier'][i] = data['identifier'][i]"
      ],
      "metadata": {
        "id": "UorbSZ7clB3N"
      },
      "execution_count": null,
      "outputs": []
    },
    {
      "cell_type": "code",
      "source": [
        "data['identifier']"
      ],
      "metadata": {
        "id": "3HpC8WXPMonF"
      },
      "execution_count": null,
      "outputs": []
    },
    {
      "cell_type": "code",
      "source": [
        "with open( drive / \"dataset\" / \"label.pickle\", 'wb') as pickle_file:\n",
        "  pickle.dump(data, pickle_file)\n",
        "pickle_file.close()\n"
      ],
      "metadata": {
        "id": "wNi9s2Zyk7vA"
      },
      "execution_count": null,
      "outputs": []
    },
    {
      "cell_type": "markdown",
      "source": [
        "# Store"
      ],
      "metadata": {
        "id": "0IvudJdoJcXZ"
      }
    },
    {
      "cell_type": "code",
      "source": [
        "#type\n",
        "sample_dataframe.to_csv(drive / \"dataset\" / \"label\" / \"type\" / \"sample_type_label.csv\")\n",
        "test_dataframe.to_csv(drive / \"dataset\" / \"label\" / \"type\" / \"val_type_label.csv\")\n",
        "new_test_df.to_csv(drive / \"dataset\" / \"label\" / \"type\" / \"test_type_label.csv\")"
      ],
      "metadata": {
        "id": "gmyiSQ6qYd4W"
      },
      "execution_count": null,
      "outputs": []
    },
    {
      "cell_type": "code",
      "execution_count": null,
      "metadata": {
        "colab": {
          "base_uri": "https://localhost:8080/"
        },
        "id": "4VVr-iwJYQm0",
        "outputId": "548245e0-069e-4813-8c8b-7c3a2dc90283"
      },
      "outputs": [
        {
          "output_type": "execute_result",
          "data": {
            "text/plain": [
              "numpy.int64"
            ]
          },
          "metadata": {},
          "execution_count": 16
        }
      ],
      "source": [
        "result=pd.read_csv(drive / \"dataset\" / \"label\" / \"type\" / 'sample_type_label.csv',sep='\\,')\n",
        "type(result.iloc[0,0])"
      ]
    }
  ],
  "metadata": {
    "colab": {
      "provenance": []
    },
    "kernelspec": {
      "display_name": "Python 3 (ipykernel)",
      "language": "python",
      "name": "python3"
    },
    "language_info": {
      "codemirror_mode": {
        "name": "ipython",
        "version": 3
      },
      "file_extension": ".py",
      "mimetype": "text/x-python",
      "name": "python",
      "nbconvert_exporter": "python",
      "pygments_lexer": "ipython3",
      "version": "3.9.12"
    }
  },
  "nbformat": 4,
  "nbformat_minor": 0
}